{
 "cells": [
  {
   "cell_type": "markdown",
   "metadata": {},
   "source": [
    "# Assignment 1\n",
    "**In this assignment we are going to work on some basic SQL as well as python plotting.**  Along with this notebook should be a `data.csv` file with data you are to work with as well as a `README.txt` describing the data file.\n",
    "\n",
    "\n",
    "## Imports"
   ]
  },
  {
   "cell_type": "code",
   "execution_count": 3,
   "metadata": {},
   "outputs": [],
   "source": [
    "%matplotlib inline\n",
    "import pandas as pd\n",
    "import matplotlib.pyplot as plt"
   ]
  },
  {
   "cell_type": "markdown",
   "metadata": {},
   "source": [
    "##  Basic Python\n",
    "\n",
    "### Question 1 (15 points):\n",
    "**Define a function `is_palindrome()` in Python that recognizes palindromes (i.e. words that look the same written backwards). For example, `is_palindrome(\"radar\")` should `return True`. `is_palindrome(\"CS5644\")` should `return False`. **\n",
    "\n",
    "Points to note : \n",
    "1.\tYou should be writing a function that takes a string and outputs a boolean\n",
    "2.\tEdge cases such as empty string, longer phrases, multiple line phrases, or case-sensitivity need not be checked.\n",
    "3.\tDemonstrate with 5 examples (3 positive, 2 negative). \n"
   ]
  },
  {
   "cell_type": "code",
   "execution_count": 4,
   "metadata": {},
   "outputs": [
    {
     "name": "stdout",
     "output_type": "stream",
     "text": [
      "I is True\n",
      "eye is True\n",
      "WOWOWOW is True\n",
      "Mom is False\n",
      "talk that talk is False\n"
     ]
    }
   ],
   "source": [
    "def is_palindrome(value: str) -> bool:\n",
    "    return value == value[::-1]\n",
    "\n",
    "def test(s: str):\n",
    "    print(f\"{s} is {is_palindrome(s)}\")\n",
    "\n",
    "test(\"I\")\n",
    "test(\"eye\")\n",
    "test(\"WOWOWOW\")\n",
    "test(\"Mom\")\n",
    "test(\"talk that talk\")"
   ]
  },
  {
   "cell_type": "markdown",
   "metadata": {},
   "source": [
    "### Question 2 (15 points) \n",
    "In cryptography, a Caesar cipher is a very simple encryption technique in which each letter in the plain text is replaced by a letter some fixed number of positions down the alphabet. For example, with a shift of 3, A would be replaced by D, B would become E, and so on. The method is named after Julius Caesar, who used it to communicate with his generals. ROT-13 (\"rotate by 13 places\") is a widely used example of a Caesar cipher where the shift is 13. In Python, the key for ROT-13 may be represented by means of the following dictionary:\n",
    "```\n",
    "key = {'a':'n', 'b':'o', 'c':'p', 'd':'q', 'e':'r', 'f':'s', 'g':'t', 'h':'u', \n",
    "       'i':'v', 'j':'w', 'k':'x', 'l':'y', 'm':'z', 'n':'a', 'o':'b', 'p':'c', \n",
    "       'q':'d', 'r':'e', 's':'f', 't':'g', 'u':'h', 'v':'i', 'w':'j', 'x':'k',\n",
    "       'y':'l', 'z':'m', 'A':'N', 'B':'O', 'C':'P', 'D':'Q', 'E':'R', 'F':'S', \n",
    "       'G':'T', 'H':'U', 'I':'V', 'J':'W', 'K':'X', 'L':'Y', 'M':'Z', 'N':'A', \n",
    "       'O':'B', 'P':'C', 'Q':'D', 'R':'E', 'S':'F', 'T':'G', 'U':'H', 'V':'I', \n",
    "       'W':'J', 'X':'K', 'Y':'L', 'Z':'M'}\n",
    "```\n",
    "Your task in this exercise is to implement an encoder/decoder of ROT-13. Write one function/method to encode messages and write another to decode them. Once you're done, you will be able to read the following secret message:\n"
   ]
  },
  {
   "cell_type": "code",
   "execution_count": 5,
   "metadata": {},
   "outputs": [],
   "source": [
    "def rot13_decode(input_str):\n",
    "    output = \"\"\n",
    "    for char in input_str:\n",
    "        if char.isupper():\n",
    "            output += chr((ord(char) - 13 - 65) % 26 + 65)\n",
    "        elif char.islower():\n",
    "            output += chr((ord(char) - 13 - 97) % 26 + 97)\n",
    "        else:\n",
    "            output += char\n",
    "    return output\n",
    "\n",
    "def rot13_encode(input_str):\n",
    "    output = \"\"\n",
    "    for char in input_str:\n",
    "        if char.isupper():\n",
    "            output += chr((ord(char) + 13 - 65) % 26 + 65)\n",
    "        elif char.islower():\n",
    "            output += chr((ord(char) + 13 - 97) % 26 + 97)\n",
    "        else:\n",
    "            output += char\n",
    "    return output"
   ]
  },
  {
   "cell_type": "code",
   "execution_count": 6,
   "metadata": {},
   "outputs": [
    {
     "name": "stdout",
     "output_type": "stream",
     "text": [
      "Caesar cipher? I much prefer Caesar salad!\n",
      "is encoded to\n",
      "Pnrfne pvcure? V zhpu cersre Pnrfne fnynq!\n"
     ]
    }
   ],
   "source": [
    "decode_msg = rot13_decode(\"Pnrfne pvcure? V zhpu cersre Pnrfne fnynq!\")  #this should evaluate to a meaninngful message\n",
    "print(f\"{decode_msg}\\nis encoded to\\n{rot13_encode(decode_msg)}\")"
   ]
  },
  {
   "cell_type": "markdown",
   "metadata": {},
   "source": [
    "### Question 3 (15 points) \n",
    "Write a function to count the number of words that start with an uppercase letter and the number of words that start with a lowercase letter.  You should ignore punctuation or special characters, ie they count as neither uppercase or lowercase.  The return value should be a 2-tuple with the first value the number of words that start w/ uppercase letters and the second value should be the number of words that start w/ lower case letters)"
   ]
  },
  {
   "cell_type": "code",
   "execution_count": 67,
   "metadata": {},
   "outputs": [],
   "source": [
    "#Example data \n",
    "\n",
    "example = \"\"\"\n",
    "But, soft! what light through yonder window breaks?\n",
    "It is the east, and Juliet is the sun.\n",
    "Arise, fair sun, and kill the envious moon,\n",
    "Who is already sick and pale with grief,\n",
    "That thou her maid art far more fair than she:\n",
    "Be not her maid, since she is envious;\n",
    "Her vestal livery is but sick and green\n",
    "And none but fools do wear it; cast it off.\n",
    "It is my lady, O, it is my love!\n",
    "O, that she knew she were!\n",
    "She speaks yet she says nothing: what of that?\n",
    "Her eye discourses; I will answer it.\n",
    "I am too bold, 'tis not to me she speaks:\n",
    "Two of the fairest stars in all the heaven,\n",
    "Having some business, do entreat her eyes\n",
    "To twinkle in their spheres till they return.\n",
    "What if her eyes were there, they in her head?\n",
    "The brightness of her cheek would shame those stars,\n",
    "As daylight doth a lamp; her eyes in heaven\n",
    "Would through the airy region stream so bright\n",
    "That birds would sing and think it were not night.\n",
    "See, how she leans her cheek upon her hand!\n",
    "O, that I were a glove upon that hand,\n",
    "That I might touch that cheek!\n",
    "\"\"\"\n",
    "\n",
    "test_quote = \"\"\"\n",
    "The Zen of Python, by Tim Peters\n",
    "\n",
    "Beautiful is better than ugly.\n",
    "Explicit is better than implicit.\n",
    "Simple is better than complex.\n",
    "Complex is better than complicated.\n",
    "Flat is better than nested.\n",
    "Sparse is better than dense.\n",
    "Readability counts.\n",
    "Special cases aren't special enough to break the rules.\n",
    "Although practicality beats purity.\n",
    "Errors should never pass silently.\n",
    "Unless explicitly silenced.\n",
    "In the face of ambiguity, refuse the temptation to guess.\n",
    "There should be one -- and preferably only one -- obvious way to do it.\n",
    "Although that way may not be obvious at first unless you're Dutch.\n",
    "Now is better than never.\n",
    "Although never is often better than *right* now.\n",
    "If the implementation is hard to explain, it's a bad idea.\n",
    "If the implementation is easy to explain, it may be a good idea.\n",
    "Namespaces are one honking great idea -- let's do more of those!\n",
    "\"\"\""
   ]
  },
  {
   "cell_type": "code",
   "execution_count": 76,
   "metadata": {},
   "outputs": [
    {
     "name": "stdout",
     "output_type": "stream",
     "text": [
      "(1, 8)\n"
     ]
    }
   ],
   "source": [
    "def word_counter(input_str):\n",
    "    words_list = input_str.split()\n",
    "    num_upper = 0\n",
    "    num_lower = 0\n",
    "    for word in words_list:\n",
    "        if word[0].isupper():\n",
    "            num_upper += 1\n",
    "        elif word[0].islower():\n",
    "            num_lower += 1\n",
    "    return (num_upper, num_lower)\n",
    "\n",
    "print(word_counter(\"I am too bold, 'tis not to me she speaks:\"))"
   ]
  },
  {
   "cell_type": "code",
   "execution_count": 77,
   "metadata": {},
   "outputs": [],
   "source": [
    "assert word_counter(example) == (29, 174)"
   ]
  },
  {
   "cell_type": "code",
   "execution_count": 78,
   "metadata": {},
   "outputs": [
    {
     "data": {
      "text/plain": [
       "(25, 117)"
      ]
     },
     "execution_count": 78,
     "metadata": {},
     "output_type": "execute_result"
    }
   ],
   "source": [
    "word_counter(test_quote) # don't share the answer"
   ]
  },
  {
   "cell_type": "markdown",
   "metadata": {},
   "source": [
    "## Data Exploration\n",
    "The following several questions involve the breast cancer dataset from the UCI machine learning repository. A description of the dataset is contained in the `README.txt` file. The class information indicates whether the instance is benign or malignant. You will find all the necessary data in `data.csv`. The function below is a helper function to read data from the file into a NumPy array.  **All the data required is in the zip file given as part of the assignment.  You should not be using any outside data sources to answer the questions.**\n",
    "\n",
    "Tip :  for  better visibility in Python plots, you can adjust the alpha of the points.(https://matplotlib.org/api/pyplot_api.html)\n",
    "\n",
    "```\n",
    "The file contains data about 645 samples of potential breast cancer tissue. Each sample (each row of the data.csv file) has 2 features that were analyzed. Each sample has also been labelled as either being benign or malignant .\n",
    "\n",
    "The features are `Clump Thickness` and `Single Epithelial Cell Size`. In addition to these two features and the malignant / benign class label, each sample also has a unique id assigned to it. The columns are in the following order:\n",
    "   Column Name                  Column Abbreviation             Value Type\n",
    "1. Id Number \t\t\t\t\t (id)\t\t                    Number\n",
    "2. Clump Thickness \t\t\t\t (ct)               \t\t\tRange: 1 - 10\n",
    "3. Single Epithelial Cell Size   (secs)   \t\t\t\t\t\tRange: 1 - 10\n",
    "4. Class: \t\t\t\t\t\t (cl)                       \t(2 for benign, 4 for malignant)\n",
    "```"
   ]
  },
  {
   "cell_type": "markdown",
   "metadata": {},
   "source": [
    "### Question 4 (10 pts) \n",
    "Open the `data.csv` using pandas and describe the  dataframe"
   ]
  },
  {
   "cell_type": "code",
   "execution_count": 89,
   "metadata": {},
   "outputs": [
    {
     "data": {
      "text/html": [
       "<div>\n",
       "<style scoped>\n",
       "    .dataframe tbody tr th:only-of-type {\n",
       "        vertical-align: middle;\n",
       "    }\n",
       "\n",
       "    .dataframe tbody tr th {\n",
       "        vertical-align: top;\n",
       "    }\n",
       "\n",
       "    .dataframe thead th {\n",
       "        text-align: right;\n",
       "    }\n",
       "</style>\n",
       "<table border=\"1\" class=\"dataframe\">\n",
       "  <thead>\n",
       "    <tr style=\"text-align: right;\">\n",
       "      <th></th>\n",
       "      <th>id</th>\n",
       "      <th>ct</th>\n",
       "      <th>secs</th>\n",
       "      <th>cl</th>\n",
       "    </tr>\n",
       "  </thead>\n",
       "  <tbody>\n",
       "    <tr>\n",
       "      <th>count</th>\n",
       "      <td>6.450000e+02</td>\n",
       "      <td>645.000000</td>\n",
       "      <td>645.000000</td>\n",
       "      <td>645.000000</td>\n",
       "    </tr>\n",
       "    <tr>\n",
       "      <th>mean</th>\n",
       "      <td>1.074419e+06</td>\n",
       "      <td>4.477519</td>\n",
       "      <td>3.274419</td>\n",
       "      <td>2.719380</td>\n",
       "    </tr>\n",
       "    <tr>\n",
       "      <th>std</th>\n",
       "      <td>6.372627e+05</td>\n",
       "      <td>2.853821</td>\n",
       "      <td>2.248681</td>\n",
       "      <td>0.960564</td>\n",
       "    </tr>\n",
       "    <tr>\n",
       "      <th>min</th>\n",
       "      <td>6.163400e+04</td>\n",
       "      <td>1.000000</td>\n",
       "      <td>1.000000</td>\n",
       "      <td>2.000000</td>\n",
       "    </tr>\n",
       "    <tr>\n",
       "      <th>25%</th>\n",
       "      <td>8.715490e+05</td>\n",
       "      <td>2.000000</td>\n",
       "      <td>2.000000</td>\n",
       "      <td>2.000000</td>\n",
       "    </tr>\n",
       "    <tr>\n",
       "      <th>50%</th>\n",
       "      <td>1.171795e+06</td>\n",
       "      <td>4.000000</td>\n",
       "      <td>2.000000</td>\n",
       "      <td>2.000000</td>\n",
       "    </tr>\n",
       "    <tr>\n",
       "      <th>75%</th>\n",
       "      <td>1.238186e+06</td>\n",
       "      <td>6.000000</td>\n",
       "      <td>4.000000</td>\n",
       "      <td>4.000000</td>\n",
       "    </tr>\n",
       "    <tr>\n",
       "      <th>max</th>\n",
       "      <td>1.345435e+07</td>\n",
       "      <td>10.000000</td>\n",
       "      <td>10.000000</td>\n",
       "      <td>4.000000</td>\n",
       "    </tr>\n",
       "  </tbody>\n",
       "</table>\n",
       "</div>"
      ],
      "text/plain": [
       "                 id          ct        secs          cl\n",
       "count  6.450000e+02  645.000000  645.000000  645.000000\n",
       "mean   1.074419e+06    4.477519    3.274419    2.719380\n",
       "std    6.372627e+05    2.853821    2.248681    0.960564\n",
       "min    6.163400e+04    1.000000    1.000000    2.000000\n",
       "25%    8.715490e+05    2.000000    2.000000    2.000000\n",
       "50%    1.171795e+06    4.000000    2.000000    2.000000\n",
       "75%    1.238186e+06    6.000000    4.000000    4.000000\n",
       "max    1.345435e+07   10.000000   10.000000    4.000000"
      ]
     },
     "execution_count": 89,
     "metadata": {},
     "output_type": "execute_result"
    }
   ],
   "source": [
    "df = pd.read_csv(\"data.csv\")\n",
    "df.describe()"
   ]
  },
  {
   "cell_type": "markdown",
   "metadata": {},
   "source": [
    "### Question 5 (15 points)\n",
    "**Create a stacked histogram showing the clump thickness for malignant and benign tumors. With the malignant class colored red and the benign class colored blue.**"
   ]
  },
  {
   "cell_type": "code",
   "execution_count": 202,
   "metadata": {},
   "outputs": [
    {
     "data": {
      "image/png": "[encoded data removed]",
      "text/plain": [
       "<Figure size 432x288 with 1 Axes>"
      ]
     },
     "metadata": {
      "needs_background": "light"
     },
     "output_type": "display_data"
    },
    {
     "data": {
      "image/png": "[encoded data removed]",
      "text/plain": [
       "<Figure size 432x288 with 1 Axes>"
      ]
     },
     "metadata": {
      "needs_background": "light"
     },
     "output_type": "display_data"
    }
   ],
   "source": [
    "tmp = [df[df.cl == 2].ct, df[df.cl == 4].ct]\n",
    "plt.hist(tmp, stacked=True, label=['benign', 'malignant'],\n",
    "         alpha=0.75,color=['b','r'], rwidth=0.8)\n",
    "plt.legend()\n",
    "plt.xlabel('Clump Thickness')\n",
    "plt.ylabel('Number of Instance')\n",
    "\n",
    "pd_plt = df.pivot(columns = 'cl').ct.plot(kind = 'hist', stacked=True,\n",
    "                                 alpha=0.75, color=['b','r'], rwidth=0.8)\n",
    "pd_plt.set_xlabel('Clump Thickness')\n",
    "pd_plt.set_ylabel('Number of Instance');"
   ]
  },
  {
   "cell_type": "markdown",
   "metadata": {},
   "source": [
    "### Question 6 (15 points)\n",
    "**Create a scatter plot to visualize the relationship between clump thickness and single epithelial cell size and color each instance red or blue based on whether it's malignant or benign respectively.**"
   ]
  },
  {
   "cell_type": "code",
   "execution_count": 218,
   "metadata": {},
   "outputs": [
    {
     "data": {
      "image/png": "[encoded data removed]",
      "text/plain": [
       "<Figure size 432x288 with 1 Axes>"
      ]
     },
     "metadata": {
      "needs_background": "light"
     },
     "output_type": "display_data"
    },
    {
     "data": {
      "image/png": "[encoded data removed]",
      "text/plain": [
       "<Figure size 432x288 with 1 Axes>"
      ]
     },
     "metadata": {
      "needs_background": "light"
     },
     "output_type": "display_data"
    }
   ],
   "source": [
    "fig, ax = plt.subplots()\n",
    "b=ax.scatter(df[df.cl == 2].ct, df[df.cl == 2].secs, c='b');\n",
    "m=ax.scatter(df[df.cl == 4].ct, df[df.cl == 4].secs, c='r');\n",
    "ax.set_xlabel('Clump Thickness')\n",
    "ax.set_ylabel('Single Epithelial Cell Size')\n",
    "ax.legend([b, m], ['benign','malignant'])\n",
    "\n",
    "color = df.cl.map({2:'b', 4:'r'})\n",
    "pd_plt = df.plot(x=\"ct\", y=\"secs\", kind=\"scatter\", c=color)\n",
    "pd_plt.set_xlabel('Clump Thickness')\n",
    "pd_plt.set_ylabel('Single Epithelial Cell Size');"
   ]
  },
  {
   "cell_type": "markdown",
   "metadata": {},
   "source": [
    "## SQL\n",
    "\n",
    "**Note:**\n",
    "Do not use operators not covered in course lectures .  You should NOT use any SQL concept that was not covered in the lecture, e.g., you should not use operators like MAX, MIN, COUNT, subqueries, correlated subqueries, or any other fancy feature of SQL.  Use of operators which are not allowed will result in points penalty.\n",
    "\n",
    "**Tip:** By selection a cell and using the Cell menu's cell type you can convert a cell into markdown format which has been done below in the answer spots and tells Jupyter to not treat it like python and instead treat the cell as text.\n",
    "\n",
    "\n",
    "### Question 7 (15 points) \n",
    "**From the sample SQL query problems handout, solve question 9, i.e., find the name of the person who received the highest grade in the “Big Data” course. You should NOT use any SQL concept that was not covered in the lecture, e.g., you should not use operators like MAX, MIN, COUNT, subqueries, correlated subqueries, or any other fancy feature of SQL. This question is intended to encourage you to think in plain simple relational concepts.**"
   ]
  },
  {
   "cell_type": "markdown",
   "metadata": {},
   "source": [
    "```\n",
    "CREATE VIEW AllGrades (name, grade) AS\n",
    "SELECT p.name, g.grade\n",
    "FROM People AS p, Courses AS c, Grades AS g\n",
    "WHERE p.id = g.pid AND c.cid = g.cid AND c.name = 'Big Data';\n",
    "\n",
    "CREATE VIEW AllGradesButHighest (name, grade) AS\n",
    "SELECT DISTINCT a.name, a.grade\n",
    "FROM AllGrades a, AllGrades b \n",
    "WHERE a.grade < b.grade;\n",
    "\n",
    "SELECT name FROM AllGrades\n",
    "EXCEPT\n",
    "SELECT name FROM AllGradesButHighest;\n",
    "```"
   ]
  },
  {
   "cell_type": "markdown",
   "metadata": {},
   "source": [
    "### Question 8 (3 EC points) \n",
    "**Solve question 10 from the sample SQL query problems handout. Same conditions as previous question apply.**"
   ]
  },
  {
   "cell_type": "markdown",
   "metadata": {},
   "source": [
    "```\n",
    "CREATE VIEW AllButFirSecHighest (name, grade) AS\n",
    "SELECT DISTINCT a.name, a.grade\n",
    "FROM AllGradesButHighest a, AllGradesButHighest b \n",
    "WHERE a.grade < b.grade;\n",
    "\n",
    "SELECT name FROM AllGradesButHighest\n",
    "EXCEPT\n",
    "SELECT name FROM AllButFirSecHighest;\n",
    "```"
   ]
  },
  {
   "cell_type": "markdown",
   "metadata": {},
   "source": [
    "### Question 9 (3 EC points) \n",
    "**From the sample SQL query problems handout, solve question 11, i.e., find the name of people who received a grade of 3.5 or better in every course (given in the Courses table). We do not know how many courses are in the Courses table. If the table contains 3 courses, then we are interested in students who have received a grade of 3.5 or more in each of these 3 courses. If it contains 10 courses, then we are interested in those who have excelled in all these 10 courses. (You get the idea.) Once again, you do NOT need to use (and should not) any fancy SQL feature that was not covered in the lecture. Solve it using clean, simple, relational concepts.**"
   ]
  },
  {
   "cell_type": "markdown",
   "metadata": {},
   "source": [
    "```\n",
    "CREATE VIEW AllComb (pid, cid) AS\n",
    "SELECT p.id AS pid, c.cid as cid\n",
    "FROM People AS p, Courses AS c;\n",
    "\n",
    "CREATE VIEW AllCombConNotMet (pid, cid) AS\n",
    "SELECT pid, cid FROM AllComb\n",
    "EXCEPT\n",
    "SELECT pid, cid FROM Grades WHERE grade>=3.5;\n",
    "\n",
    "CREATE VIEW AllPeopleConMet (name) AS\n",
    "SELECT name FROM People\n",
    "EXCEPT\n",
    "SELECT DISTINCT p.name FROM AllCombConNotMet AS a, People AS p WHERE a.pid = p.id;\n",
    "\n",
    "SELECT name FROM AllPeopleConMet;\n",
    "```"
   ]
  },
  {
   "cell_type": "markdown",
   "metadata": {},
   "source": [
    "### Question 10 (3 EC points) \n",
    "**Solve question 12 from the sample SQL query problems handout.**\n"
   ]
  },
  {
   "cell_type": "markdown",
   "metadata": {},
   "source": [
    "```\n",
    "SELECT DISTINCT p.name\n",
    "FROM People AS p, Grades AS g\n",
    "WHERE p.id = g.pid\n",
    "\n",
    "EXCEPT\n",
    "\n",
    "SELECT DISTINCT p.name\n",
    "FROM People AS p, Grades AS g\n",
    "WHERE p.id = g.pid AND g.grade < 3.5;\n",
    "```"
   ]
  },
  {
   "cell_type": "markdown",
   "metadata": {},
   "source": [
    "## What to submit\n",
    "\n",
    "One single Python notebook file containing answers to questions 1-6 as Python code, and answers to questions 7-10 as comments or markdown in the notebook. Thus, the SQL queries will be shown as comments in the notebook. The assignment will be graded by executing your code for questions 1-6 and by manual inspection of solutions to questions 7-10.\n",
    "\n",
    "**In this and all assignments/projects that submit code, you can assume we will be using `Kernel->Restart & Run All` to evaluate your notebook.  As such the last thing you should do is that to confirm that everythings runs as expected.**"
   ]
  },
  {
   "cell_type": "code",
   "execution_count": null,
   "metadata": {},
   "outputs": [],
   "source": []
  }
 ],
 "metadata": {
  "anaconda-cloud": {},
  "kernelspec": {
   "display_name": "Python 3 (ipykernel)",
   "language": "python",
   "name": "python3"
  },
  "language_info": {
   "codemirror_mode": {
    "name": "ipython",
    "version": 3
   },
   "file_extension": ".py",
   "mimetype": "text/x-python",
   "name": "python",
   "nbconvert_exporter": "python",
   "pygments_lexer": "ipython3",
   "version": "3.9.12"
  },
  "latex_envs": {
   "bibliofile": "biblio.bib",
   "cite_by": "apalike",
   "current_citInitial": 1,
   "eqLabelWithNumbers": true,
   "eqNumInitial": 0
  }
 },
 "nbformat": 4,
 "nbformat_minor": 1
}
