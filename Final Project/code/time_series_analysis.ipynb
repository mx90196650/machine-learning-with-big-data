{
 "cells": [
  {
   "cell_type": "code",
   "execution_count": 780,
   "id": "0b8e8080",
   "metadata": {},
   "outputs": [],
   "source": [
    "# Data processing\n",
    "# ==============================================================================\n",
    "import numpy as np\n",
    "import pandas as pd\n",
    "\n",
    "# Plots\n",
    "# ==============================================================================\n",
    "import matplotlib.pyplot as plt\n",
    "from statsmodels.graphics.tsaplots import plot_acf\n",
    "from statsmodels.graphics.tsaplots import plot_pacf\n",
    "import plotly.express as px\n",
    "plt.style.use('fivethirtyeight')\n",
    "plt.rcParams['lines.linewidth'] = 1.5\n",
    "%matplotlib inline\n",
    "\n",
    "# Modeling and Forecasting -- autoregressive forcasting\n",
    "# ==============================================================================\n",
    "from sklearn.linear_model import LinearRegression\n",
    "from sklearn.linear_model import Lasso\n",
    "from sklearn.ensemble import RandomForestRegressor\n",
    "from sklearn.metrics import mean_squared_error\n",
    "from sklearn.preprocessing import StandardScaler\n",
    "from sklearn.pipeline import make_pipeline\n",
    "\n",
    "from skforecast.ForecasterAutoreg import ForecasterAutoreg\n",
    "from skforecast.ForecasterAutoregCustom import ForecasterAutoregCustom\n",
    "from skforecast.ForecasterAutoregDirect import ForecasterAutoregDirect\n",
    "from skforecast.model_selection import grid_search_forecaster\n",
    "from skforecast.model_selection import backtesting_forecaster\n",
    "from skforecast.utils import save_forecaster\n",
    "from skforecast.utils import load_forecaster\n",
    "\n",
    "\n",
    "# Modelling and Forecasting -- boosting method\n",
    "# ==============================================================================\n",
    "from xgboost import XGBRegressor\n",
    "from lightgbm import LGBMRegressor\n",
    "from catboost import CatBoostRegressor\n",
    "\n",
    "from sklearn.preprocessing import OneHotEncoder\n",
    "from sklearn.preprocessing import StandardScaler\n",
    "from sklearn.compose import ColumnTransformer\n",
    "\n",
    "from skforecast.ForecasterAutoreg import ForecasterAutoreg\n",
    "from skforecast.ForecasterAutoregMultiOutput import ForecasterAutoregMultiOutput\n",
    "from skforecast.model_selection import grid_search_forecaster\n",
    "from skforecast.model_selection import backtesting_forecaster\n",
    "\n",
    "from joblib import dump, load\n",
    "\n",
    "# Configuration\n",
    "# ==============================================================================\n",
    "import warnings\n",
    "warnings.filterwarnings('ignore')"
   ]
  },
  {
   "cell_type": "code",
   "execution_count": 844,
   "id": "facd936a",
   "metadata": {},
   "outputs": [],
   "source": [
    "data = pd.read_csv('../data/data_forcast.csv', index_col=False)"
   ]
  },
  {
   "cell_type": "code",
   "execution_count": 845,
   "id": "7dc39693",
   "metadata": {
    "scrolled": true
   },
   "outputs": [
    {
     "data": {
      "text/html": [
       "<div>\n",
       "<style scoped>\n",
       "    .dataframe tbody tr th:only-of-type {\n",
       "        vertical-align: middle;\n",
       "    }\n",
       "\n",
       "    .dataframe tbody tr th {\n",
       "        vertical-align: top;\n",
       "    }\n",
       "\n",
       "    .dataframe thead th {\n",
       "        text-align: right;\n",
       "    }\n",
       "</style>\n",
       "<table border=\"1\" class=\"dataframe\">\n",
       "  <thead>\n",
       "    <tr style=\"text-align: right;\">\n",
       "      <th></th>\n",
       "      <th>State</th>\n",
       "      <th>Date</th>\n",
       "      <th>zori</th>\n",
       "      <th>cpi</th>\n",
       "      <th>property_tax</th>\n",
       "      <th>population</th>\n",
       "      <th>property_crime</th>\n",
       "      <th>burglary</th>\n",
       "      <th>larceny</th>\n",
       "      <th>motor_vehicle_theft</th>\n",
       "      <th>gdp</th>\n",
       "      <th>personal_consumption</th>\n",
       "      <th>personal_income</th>\n",
       "      <th>unemployment_rates</th>\n",
       "      <th>house_price_index</th>\n",
       "      <th>housing_units</th>\n",
       "    </tr>\n",
       "  </thead>\n",
       "  <tbody>\n",
       "    <tr>\n",
       "      <th>0</th>\n",
       "      <td>AL</td>\n",
       "      <td>2015-02-01</td>\n",
       "      <td>757.299395</td>\n",
       "      <td>234.722</td>\n",
       "      <td>531.469599</td>\n",
       "      <td>4853875.0</td>\n",
       "      <td>144785.0</td>\n",
       "      <td>35265.0</td>\n",
       "      <td>99182.0</td>\n",
       "      <td>10338.0</td>\n",
       "      <td>189878.6</td>\n",
       "      <td>152755.9</td>\n",
       "      <td>1.872202e+11</td>\n",
       "      <td>6.1</td>\n",
       "      <td>355.30</td>\n",
       "      <td>886000.0</td>\n",
       "    </tr>\n",
       "    <tr>\n",
       "      <th>1</th>\n",
       "      <td>AL</td>\n",
       "      <td>2015-03-01</td>\n",
       "      <td>760.788563</td>\n",
       "      <td>236.119</td>\n",
       "      <td>531.469599</td>\n",
       "      <td>4853875.0</td>\n",
       "      <td>144785.0</td>\n",
       "      <td>35265.0</td>\n",
       "      <td>99182.0</td>\n",
       "      <td>10338.0</td>\n",
       "      <td>189878.6</td>\n",
       "      <td>152755.9</td>\n",
       "      <td>1.872202e+11</td>\n",
       "      <td>6.1</td>\n",
       "      <td>355.30</td>\n",
       "      <td>960000.0</td>\n",
       "    </tr>\n",
       "    <tr>\n",
       "      <th>2</th>\n",
       "      <td>AL</td>\n",
       "      <td>2015-04-01</td>\n",
       "      <td>765.762525</td>\n",
       "      <td>236.599</td>\n",
       "      <td>531.469599</td>\n",
       "      <td>4853875.0</td>\n",
       "      <td>144785.0</td>\n",
       "      <td>35265.0</td>\n",
       "      <td>99182.0</td>\n",
       "      <td>10338.0</td>\n",
       "      <td>191535.8</td>\n",
       "      <td>152755.9</td>\n",
       "      <td>1.886909e+11</td>\n",
       "      <td>6.1</td>\n",
       "      <td>355.30</td>\n",
       "      <td>1190000.0</td>\n",
       "    </tr>\n",
       "    <tr>\n",
       "      <th>3</th>\n",
       "      <td>AL</td>\n",
       "      <td>2015-05-01</td>\n",
       "      <td>764.761611</td>\n",
       "      <td>237.805</td>\n",
       "      <td>531.469599</td>\n",
       "      <td>4853875.0</td>\n",
       "      <td>144785.0</td>\n",
       "      <td>35265.0</td>\n",
       "      <td>99182.0</td>\n",
       "      <td>10338.0</td>\n",
       "      <td>191535.8</td>\n",
       "      <td>152755.9</td>\n",
       "      <td>1.886909e+11</td>\n",
       "      <td>6.1</td>\n",
       "      <td>360.36</td>\n",
       "      <td>1079000.0</td>\n",
       "    </tr>\n",
       "    <tr>\n",
       "      <th>4</th>\n",
       "      <td>AL</td>\n",
       "      <td>2015-06-01</td>\n",
       "      <td>770.767118</td>\n",
       "      <td>238.638</td>\n",
       "      <td>531.469599</td>\n",
       "      <td>4853875.0</td>\n",
       "      <td>144785.0</td>\n",
       "      <td>35265.0</td>\n",
       "      <td>99182.0</td>\n",
       "      <td>10338.0</td>\n",
       "      <td>191535.8</td>\n",
       "      <td>152755.9</td>\n",
       "      <td>1.886909e+11</td>\n",
       "      <td>6.2</td>\n",
       "      <td>360.36</td>\n",
       "      <td>1205000.0</td>\n",
       "    </tr>\n",
       "    <tr>\n",
       "      <th>...</th>\n",
       "      <td>...</td>\n",
       "      <td>...</td>\n",
       "      <td>...</td>\n",
       "      <td>...</td>\n",
       "      <td>...</td>\n",
       "      <td>...</td>\n",
       "      <td>...</td>\n",
       "      <td>...</td>\n",
       "      <td>...</td>\n",
       "      <td>...</td>\n",
       "      <td>...</td>\n",
       "      <td>...</td>\n",
       "      <td>...</td>\n",
       "      <td>...</td>\n",
       "      <td>...</td>\n",
       "      <td>...</td>\n",
       "    </tr>\n",
       "    <tr>\n",
       "      <th>2663</th>\n",
       "      <td>WY</td>\n",
       "      <td>2019-07-01</td>\n",
       "      <td>512.436401</td>\n",
       "      <td>256.571</td>\n",
       "      <td>2065.828782</td>\n",
       "      <td>580116.0</td>\n",
       "      <td>9097.0</td>\n",
       "      <td>1394.0</td>\n",
       "      <td>6981.0</td>\n",
       "      <td>722.0</td>\n",
       "      <td>38832.8</td>\n",
       "      <td>24839.0</td>\n",
       "      <td>3.548560e+10</td>\n",
       "      <td>3.7</td>\n",
       "      <td>441.19</td>\n",
       "      <td>1232000.0</td>\n",
       "    </tr>\n",
       "    <tr>\n",
       "      <th>2664</th>\n",
       "      <td>WY</td>\n",
       "      <td>2019-08-01</td>\n",
       "      <td>515.675242</td>\n",
       "      <td>256.558</td>\n",
       "      <td>2065.828782</td>\n",
       "      <td>580116.0</td>\n",
       "      <td>9097.0</td>\n",
       "      <td>1394.0</td>\n",
       "      <td>6981.0</td>\n",
       "      <td>722.0</td>\n",
       "      <td>38832.8</td>\n",
       "      <td>24839.0</td>\n",
       "      <td>3.548560e+10</td>\n",
       "      <td>3.8</td>\n",
       "      <td>445.13</td>\n",
       "      <td>1370000.0</td>\n",
       "    </tr>\n",
       "    <tr>\n",
       "      <th>2665</th>\n",
       "      <td>WY</td>\n",
       "      <td>2019-09-01</td>\n",
       "      <td>516.000366</td>\n",
       "      <td>256.759</td>\n",
       "      <td>2065.828782</td>\n",
       "      <td>580116.0</td>\n",
       "      <td>9097.0</td>\n",
       "      <td>1394.0</td>\n",
       "      <td>6981.0</td>\n",
       "      <td>722.0</td>\n",
       "      <td>38832.8</td>\n",
       "      <td>24839.0</td>\n",
       "      <td>3.548560e+10</td>\n",
       "      <td>4.0</td>\n",
       "      <td>445.13</td>\n",
       "      <td>1297000.0</td>\n",
       "    </tr>\n",
       "    <tr>\n",
       "      <th>2666</th>\n",
       "      <td>WY</td>\n",
       "      <td>2019-10-01</td>\n",
       "      <td>514.886048</td>\n",
       "      <td>257.346</td>\n",
       "      <td>2065.828782</td>\n",
       "      <td>580116.0</td>\n",
       "      <td>9097.0</td>\n",
       "      <td>1394.0</td>\n",
       "      <td>6981.0</td>\n",
       "      <td>722.0</td>\n",
       "      <td>39186.5</td>\n",
       "      <td>24839.0</td>\n",
       "      <td>3.571410e+10</td>\n",
       "      <td>4.1</td>\n",
       "      <td>445.13</td>\n",
       "      <td>1328000.0</td>\n",
       "    </tr>\n",
       "    <tr>\n",
       "      <th>2667</th>\n",
       "      <td>WY</td>\n",
       "      <td>2019-11-01</td>\n",
       "      <td>520.809397</td>\n",
       "      <td>257.208</td>\n",
       "      <td>2065.828782</td>\n",
       "      <td>580116.0</td>\n",
       "      <td>9097.0</td>\n",
       "      <td>1394.0</td>\n",
       "      <td>6981.0</td>\n",
       "      <td>722.0</td>\n",
       "      <td>39186.5</td>\n",
       "      <td>24839.0</td>\n",
       "      <td>3.571410e+10</td>\n",
       "      <td>4.2</td>\n",
       "      <td>445.13</td>\n",
       "      <td>1343000.0</td>\n",
       "    </tr>\n",
       "  </tbody>\n",
       "</table>\n",
       "<p>2668 rows × 16 columns</p>\n",
       "</div>"
      ],
      "text/plain": [
       "     State        Date        zori      cpi  property_tax  population  \\\n",
       "0       AL  2015-02-01  757.299395  234.722    531.469599   4853875.0   \n",
       "1       AL  2015-03-01  760.788563  236.119    531.469599   4853875.0   \n",
       "2       AL  2015-04-01  765.762525  236.599    531.469599   4853875.0   \n",
       "3       AL  2015-05-01  764.761611  237.805    531.469599   4853875.0   \n",
       "4       AL  2015-06-01  770.767118  238.638    531.469599   4853875.0   \n",
       "...    ...         ...         ...      ...           ...         ...   \n",
       "2663    WY  2019-07-01  512.436401  256.571   2065.828782    580116.0   \n",
       "2664    WY  2019-08-01  515.675242  256.558   2065.828782    580116.0   \n",
       "2665    WY  2019-09-01  516.000366  256.759   2065.828782    580116.0   \n",
       "2666    WY  2019-10-01  514.886048  257.346   2065.828782    580116.0   \n",
       "2667    WY  2019-11-01  520.809397  257.208   2065.828782    580116.0   \n",
       "\n",
       "      property_crime  burglary  larceny  motor_vehicle_theft       gdp  \\\n",
       "0           144785.0   35265.0  99182.0              10338.0  189878.6   \n",
       "1           144785.0   35265.0  99182.0              10338.0  189878.6   \n",
       "2           144785.0   35265.0  99182.0              10338.0  191535.8   \n",
       "3           144785.0   35265.0  99182.0              10338.0  191535.8   \n",
       "4           144785.0   35265.0  99182.0              10338.0  191535.8   \n",
       "...              ...       ...      ...                  ...       ...   \n",
       "2663          9097.0    1394.0   6981.0                722.0   38832.8   \n",
       "2664          9097.0    1394.0   6981.0                722.0   38832.8   \n",
       "2665          9097.0    1394.0   6981.0                722.0   38832.8   \n",
       "2666          9097.0    1394.0   6981.0                722.0   39186.5   \n",
       "2667          9097.0    1394.0   6981.0                722.0   39186.5   \n",
       "\n",
       "      personal_consumption  personal_income  unemployment_rates  \\\n",
       "0                 152755.9     1.872202e+11                 6.1   \n",
       "1                 152755.9     1.872202e+11                 6.1   \n",
       "2                 152755.9     1.886909e+11                 6.1   \n",
       "3                 152755.9     1.886909e+11                 6.1   \n",
       "4                 152755.9     1.886909e+11                 6.2   \n",
       "...                    ...              ...                 ...   \n",
       "2663               24839.0     3.548560e+10                 3.7   \n",
       "2664               24839.0     3.548560e+10                 3.8   \n",
       "2665               24839.0     3.548560e+10                 4.0   \n",
       "2666               24839.0     3.571410e+10                 4.1   \n",
       "2667               24839.0     3.571410e+10                 4.2   \n",
       "\n",
       "      house_price_index  housing_units  \n",
       "0                355.30       886000.0  \n",
       "1                355.30       960000.0  \n",
       "2                355.30      1190000.0  \n",
       "3                360.36      1079000.0  \n",
       "4                360.36      1205000.0  \n",
       "...                 ...            ...  \n",
       "2663             441.19      1232000.0  \n",
       "2664             445.13      1370000.0  \n",
       "2665             445.13      1297000.0  \n",
       "2666             445.13      1328000.0  \n",
       "2667             445.13      1343000.0  \n",
       "\n",
       "[2668 rows x 16 columns]"
      ]
     },
     "execution_count": 845,
     "metadata": {},
     "output_type": "execute_result"
    }
   ],
   "source": [
    "data"
   ]
  },
  {
   "cell_type": "code",
   "execution_count": 847,
   "id": "bbf304ba",
   "metadata": {},
   "outputs": [],
   "source": [
    "def selectAndSplitByState(data, state_name):\n",
    "    state_data = data[data['State'] == state_name]\n",
    "    end_train = '2018-12-01'\n",
    "    end_validation = '2019-05-01'\n",
    "    mask_data_train = (state_data['Date'] < end_train)\n",
    "    mask_data_val   = (state_data['Date'] >= end_train) & (state_data['Date'] < end_validation)\n",
    "    mask_data_test  = (state_data['Date'] > end_validation)\n",
    "    return state_data, state_data.loc[mask_data_train], state_data.loc[mask_data_val], state_data.loc[mask_data_test]\n",
    "\n",
    "## split data into only train-test\n",
    "def splitTrainTestByState(data, state_name):\n",
    "    state_data = data[data['State'] == state_name]\n",
    "    end_train = '2019-05-01'\n",
    "    mask_data_train = (state_data['Date'] <= end_train)\n",
    "    mask_data_test  = (state_data['Date'] > end_train)\n",
    "    return state_data, state_data.loc[mask_data_train], state_data.loc[mask_data_test]"
   ]
  },
  {
   "cell_type": "markdown",
   "id": "2cbd9f75",
   "metadata": {},
   "source": [
    "# Recursive autoregressive forecasting"
   ]
  },
  {
   "cell_type": "code",
   "execution_count": 848,
   "id": "3888703b",
   "metadata": {},
   "outputs": [
    {
     "data": {
      "text/html": [
       "<div>\n",
       "<style scoped>\n",
       "    .dataframe tbody tr th:only-of-type {\n",
       "        vertical-align: middle;\n",
       "    }\n",
       "\n",
       "    .dataframe tbody tr th {\n",
       "        vertical-align: top;\n",
       "    }\n",
       "\n",
       "    .dataframe thead th {\n",
       "        text-align: right;\n",
       "    }\n",
       "</style>\n",
       "<table border=\"1\" class=\"dataframe\">\n",
       "  <thead>\n",
       "    <tr style=\"text-align: right;\">\n",
       "      <th></th>\n",
       "      <th>State</th>\n",
       "      <th>Date</th>\n",
       "      <th>zori</th>\n",
       "      <th>cpi</th>\n",
       "      <th>property_tax</th>\n",
       "      <th>population</th>\n",
       "      <th>property_crime</th>\n",
       "      <th>burglary</th>\n",
       "      <th>larceny</th>\n",
       "      <th>motor_vehicle_theft</th>\n",
       "      <th>gdp</th>\n",
       "      <th>personal_consumption</th>\n",
       "      <th>personal_income</th>\n",
       "      <th>unemployment_rates</th>\n",
       "      <th>house_price_index</th>\n",
       "      <th>housing_units</th>\n",
       "    </tr>\n",
       "  </thead>\n",
       "  <tbody>\n",
       "    <tr>\n",
       "      <th>0</th>\n",
       "      <td>AL</td>\n",
       "      <td>2015-02-01</td>\n",
       "      <td>757.299395</td>\n",
       "      <td>234.722</td>\n",
       "      <td>531.469599</td>\n",
       "      <td>4853875.0</td>\n",
       "      <td>144785.0</td>\n",
       "      <td>35265.0</td>\n",
       "      <td>99182.0</td>\n",
       "      <td>10338.0</td>\n",
       "      <td>189878.6</td>\n",
       "      <td>152755.9</td>\n",
       "      <td>1.872202e+11</td>\n",
       "      <td>6.1</td>\n",
       "      <td>355.30</td>\n",
       "      <td>886000.0</td>\n",
       "    </tr>\n",
       "    <tr>\n",
       "      <th>1</th>\n",
       "      <td>AL</td>\n",
       "      <td>2015-03-01</td>\n",
       "      <td>760.788563</td>\n",
       "      <td>236.119</td>\n",
       "      <td>531.469599</td>\n",
       "      <td>4853875.0</td>\n",
       "      <td>144785.0</td>\n",
       "      <td>35265.0</td>\n",
       "      <td>99182.0</td>\n",
       "      <td>10338.0</td>\n",
       "      <td>189878.6</td>\n",
       "      <td>152755.9</td>\n",
       "      <td>1.872202e+11</td>\n",
       "      <td>6.1</td>\n",
       "      <td>355.30</td>\n",
       "      <td>960000.0</td>\n",
       "    </tr>\n",
       "    <tr>\n",
       "      <th>2</th>\n",
       "      <td>AL</td>\n",
       "      <td>2015-04-01</td>\n",
       "      <td>765.762525</td>\n",
       "      <td>236.599</td>\n",
       "      <td>531.469599</td>\n",
       "      <td>4853875.0</td>\n",
       "      <td>144785.0</td>\n",
       "      <td>35265.0</td>\n",
       "      <td>99182.0</td>\n",
       "      <td>10338.0</td>\n",
       "      <td>191535.8</td>\n",
       "      <td>152755.9</td>\n",
       "      <td>1.886909e+11</td>\n",
       "      <td>6.1</td>\n",
       "      <td>355.30</td>\n",
       "      <td>1190000.0</td>\n",
       "    </tr>\n",
       "    <tr>\n",
       "      <th>3</th>\n",
       "      <td>AL</td>\n",
       "      <td>2015-05-01</td>\n",
       "      <td>764.761611</td>\n",
       "      <td>237.805</td>\n",
       "      <td>531.469599</td>\n",
       "      <td>4853875.0</td>\n",
       "      <td>144785.0</td>\n",
       "      <td>35265.0</td>\n",
       "      <td>99182.0</td>\n",
       "      <td>10338.0</td>\n",
       "      <td>191535.8</td>\n",
       "      <td>152755.9</td>\n",
       "      <td>1.886909e+11</td>\n",
       "      <td>6.1</td>\n",
       "      <td>360.36</td>\n",
       "      <td>1079000.0</td>\n",
       "    </tr>\n",
       "    <tr>\n",
       "      <th>4</th>\n",
       "      <td>AL</td>\n",
       "      <td>2015-06-01</td>\n",
       "      <td>770.767118</td>\n",
       "      <td>238.638</td>\n",
       "      <td>531.469599</td>\n",
       "      <td>4853875.0</td>\n",
       "      <td>144785.0</td>\n",
       "      <td>35265.0</td>\n",
       "      <td>99182.0</td>\n",
       "      <td>10338.0</td>\n",
       "      <td>191535.8</td>\n",
       "      <td>152755.9</td>\n",
       "      <td>1.886909e+11</td>\n",
       "      <td>6.2</td>\n",
       "      <td>360.36</td>\n",
       "      <td>1205000.0</td>\n",
       "    </tr>\n",
       "    <tr>\n",
       "      <th>...</th>\n",
       "      <td>...</td>\n",
       "      <td>...</td>\n",
       "      <td>...</td>\n",
       "      <td>...</td>\n",
       "      <td>...</td>\n",
       "      <td>...</td>\n",
       "      <td>...</td>\n",
       "      <td>...</td>\n",
       "      <td>...</td>\n",
       "      <td>...</td>\n",
       "      <td>...</td>\n",
       "      <td>...</td>\n",
       "      <td>...</td>\n",
       "      <td>...</td>\n",
       "      <td>...</td>\n",
       "      <td>...</td>\n",
       "    </tr>\n",
       "    <tr>\n",
       "      <th>2663</th>\n",
       "      <td>WY</td>\n",
       "      <td>2019-07-01</td>\n",
       "      <td>512.436401</td>\n",
       "      <td>256.571</td>\n",
       "      <td>2065.828782</td>\n",
       "      <td>580116.0</td>\n",
       "      <td>9097.0</td>\n",
       "      <td>1394.0</td>\n",
       "      <td>6981.0</td>\n",
       "      <td>722.0</td>\n",
       "      <td>38832.8</td>\n",
       "      <td>24839.0</td>\n",
       "      <td>3.548560e+10</td>\n",
       "      <td>3.7</td>\n",
       "      <td>441.19</td>\n",
       "      <td>1232000.0</td>\n",
       "    </tr>\n",
       "    <tr>\n",
       "      <th>2664</th>\n",
       "      <td>WY</td>\n",
       "      <td>2019-08-01</td>\n",
       "      <td>515.675242</td>\n",
       "      <td>256.558</td>\n",
       "      <td>2065.828782</td>\n",
       "      <td>580116.0</td>\n",
       "      <td>9097.0</td>\n",
       "      <td>1394.0</td>\n",
       "      <td>6981.0</td>\n",
       "      <td>722.0</td>\n",
       "      <td>38832.8</td>\n",
       "      <td>24839.0</td>\n",
       "      <td>3.548560e+10</td>\n",
       "      <td>3.8</td>\n",
       "      <td>445.13</td>\n",
       "      <td>1370000.0</td>\n",
       "    </tr>\n",
       "    <tr>\n",
       "      <th>2665</th>\n",
       "      <td>WY</td>\n",
       "      <td>2019-09-01</td>\n",
       "      <td>516.000366</td>\n",
       "      <td>256.759</td>\n",
       "      <td>2065.828782</td>\n",
       "      <td>580116.0</td>\n",
       "      <td>9097.0</td>\n",
       "      <td>1394.0</td>\n",
       "      <td>6981.0</td>\n",
       "      <td>722.0</td>\n",
       "      <td>38832.8</td>\n",
       "      <td>24839.0</td>\n",
       "      <td>3.548560e+10</td>\n",
       "      <td>4.0</td>\n",
       "      <td>445.13</td>\n",
       "      <td>1297000.0</td>\n",
       "    </tr>\n",
       "    <tr>\n",
       "      <th>2666</th>\n",
       "      <td>WY</td>\n",
       "      <td>2019-10-01</td>\n",
       "      <td>514.886048</td>\n",
       "      <td>257.346</td>\n",
       "      <td>2065.828782</td>\n",
       "      <td>580116.0</td>\n",
       "      <td>9097.0</td>\n",
       "      <td>1394.0</td>\n",
       "      <td>6981.0</td>\n",
       "      <td>722.0</td>\n",
       "      <td>39186.5</td>\n",
       "      <td>24839.0</td>\n",
       "      <td>3.571410e+10</td>\n",
       "      <td>4.1</td>\n",
       "      <td>445.13</td>\n",
       "      <td>1328000.0</td>\n",
       "    </tr>\n",
       "    <tr>\n",
       "      <th>2667</th>\n",
       "      <td>WY</td>\n",
       "      <td>2019-11-01</td>\n",
       "      <td>520.809397</td>\n",
       "      <td>257.208</td>\n",
       "      <td>2065.828782</td>\n",
       "      <td>580116.0</td>\n",
       "      <td>9097.0</td>\n",
       "      <td>1394.0</td>\n",
       "      <td>6981.0</td>\n",
       "      <td>722.0</td>\n",
       "      <td>39186.5</td>\n",
       "      <td>24839.0</td>\n",
       "      <td>3.571410e+10</td>\n",
       "      <td>4.2</td>\n",
       "      <td>445.13</td>\n",
       "      <td>1343000.0</td>\n",
       "    </tr>\n",
       "  </tbody>\n",
       "</table>\n",
       "<p>2668 rows × 16 columns</p>\n",
       "</div>"
      ],
      "text/plain": [
       "     State        Date        zori      cpi  property_tax  population  \\\n",
       "0       AL  2015-02-01  757.299395  234.722    531.469599   4853875.0   \n",
       "1       AL  2015-03-01  760.788563  236.119    531.469599   4853875.0   \n",
       "2       AL  2015-04-01  765.762525  236.599    531.469599   4853875.0   \n",
       "3       AL  2015-05-01  764.761611  237.805    531.469599   4853875.0   \n",
       "4       AL  2015-06-01  770.767118  238.638    531.469599   4853875.0   \n",
       "...    ...         ...         ...      ...           ...         ...   \n",
       "2663    WY  2019-07-01  512.436401  256.571   2065.828782    580116.0   \n",
       "2664    WY  2019-08-01  515.675242  256.558   2065.828782    580116.0   \n",
       "2665    WY  2019-09-01  516.000366  256.759   2065.828782    580116.0   \n",
       "2666    WY  2019-10-01  514.886048  257.346   2065.828782    580116.0   \n",
       "2667    WY  2019-11-01  520.809397  257.208   2065.828782    580116.0   \n",
       "\n",
       "      property_crime  burglary  larceny  motor_vehicle_theft       gdp  \\\n",
       "0           144785.0   35265.0  99182.0              10338.0  189878.6   \n",
       "1           144785.0   35265.0  99182.0              10338.0  189878.6   \n",
       "2           144785.0   35265.0  99182.0              10338.0  191535.8   \n",
       "3           144785.0   35265.0  99182.0              10338.0  191535.8   \n",
       "4           144785.0   35265.0  99182.0              10338.0  191535.8   \n",
       "...              ...       ...      ...                  ...       ...   \n",
       "2663          9097.0    1394.0   6981.0                722.0   38832.8   \n",
       "2664          9097.0    1394.0   6981.0                722.0   38832.8   \n",
       "2665          9097.0    1394.0   6981.0                722.0   38832.8   \n",
       "2666          9097.0    1394.0   6981.0                722.0   39186.5   \n",
       "2667          9097.0    1394.0   6981.0                722.0   39186.5   \n",
       "\n",
       "      personal_consumption  personal_income  unemployment_rates  \\\n",
       "0                 152755.9     1.872202e+11                 6.1   \n",
       "1                 152755.9     1.872202e+11                 6.1   \n",
       "2                 152755.9     1.886909e+11                 6.1   \n",
       "3                 152755.9     1.886909e+11                 6.1   \n",
       "4                 152755.9     1.886909e+11                 6.2   \n",
       "...                    ...              ...                 ...   \n",
       "2663               24839.0     3.548560e+10                 3.7   \n",
       "2664               24839.0     3.548560e+10                 3.8   \n",
       "2665               24839.0     3.548560e+10                 4.0   \n",
       "2666               24839.0     3.571410e+10                 4.1   \n",
       "2667               24839.0     3.571410e+10                 4.2   \n",
       "\n",
       "      house_price_index  housing_units  \n",
       "0                355.30       886000.0  \n",
       "1                355.30       960000.0  \n",
       "2                355.30      1190000.0  \n",
       "3                360.36      1079000.0  \n",
       "4                360.36      1205000.0  \n",
       "...                 ...            ...  \n",
       "2663             441.19      1232000.0  \n",
       "2664             445.13      1370000.0  \n",
       "2665             445.13      1297000.0  \n",
       "2666             445.13      1328000.0  \n",
       "2667             445.13      1343000.0  \n",
       "\n",
       "[2668 rows x 16 columns]"
      ]
     },
     "execution_count": 848,
     "metadata": {},
     "output_type": "execute_result"
    }
   ],
   "source": [
    "data"
   ]
  },
  {
   "cell_type": "code",
   "execution_count": 849,
   "id": "f7d51c80",
   "metadata": {},
   "outputs": [],
   "source": [
    "end_train = '2019-05-01'\n",
    "state_data, data_train, data_test = splitTrainTestByState(data, 'VA') ## select state name"
   ]
  },
  {
   "cell_type": "markdown",
   "id": "66c3668c",
   "metadata": {},
   "source": [
    "# ForecasterAutoreg"
   ]
  },
  {
   "cell_type": "markdown",
   "id": "c1be1674",
   "metadata": {},
   "source": [
    "With the ForecasterAutoreg class, a model is created and trained from a RandomForestRegressor regressor with a time window of 6 lags. This means that the model uses the previous 6 months as predictors."
   ]
  },
  {
   "cell_type": "code",
   "execution_count": 850,
   "id": "594be773",
   "metadata": {},
   "outputs": [
    {
     "data": {
      "text/plain": [
       "================= \n",
       "ForecasterAutoreg \n",
       "================= \n",
       "Regressor: RandomForestRegressor(random_state=123) \n",
       "Lags: [1 2 3 4 5 6] \n",
       "Transformer for y: None \n",
       "Transformer for exog: None \n",
       "Window size: 6 \n",
       "Included exogenous: False \n",
       "Type of exogenous variable: None \n",
       "Exogenous variables names: None \n",
       "Training range: [0, 51] \n",
       "Training index type: RangeIndex \n",
       "Training index frequency: 1 \n",
       "Regressor parameters: {'bootstrap': True, 'ccp_alpha': 0.0, 'criterion': 'squared_error', 'max_depth': None, 'max_features': 'auto', 'max_leaf_nodes': None, 'max_samples': None, 'min_impurity_decrease': 0.0, 'min_samples_leaf': 1, 'min_samples_split': 2, 'min_weight_fraction_leaf': 0.0, 'n_estimators': 100, 'n_jobs': None, 'oob_score': False, 'random_state': 123, 'verbose': 0, 'warm_start': False} \n",
       "Creation date: 2022-12-04 22:48:29 \n",
       "Last fit date: 2022-12-04 22:48:29 \n",
       "Skforecast version: 0.5.1 \n",
       "Python version: 3.9.12 "
      ]
     },
     "execution_count": 850,
     "metadata": {},
     "output_type": "execute_result"
    }
   ],
   "source": [
    "# Create and train forecaster\n",
    "# ==============================================================================\n",
    "forecaster = ForecasterAutoreg(\n",
    "                regressor = RandomForestRegressor(random_state=123),\n",
    "                lags      = 6\n",
    "             )\n",
    "\n",
    "forecaster.fit(y=data_train['zori'])\n",
    "forecaster"
   ]
  },
  {
   "cell_type": "markdown",
   "id": "84ed33ff",
   "metadata": {},
   "source": [
    "### Predictions"
   ]
  },
  {
   "cell_type": "markdown",
   "id": "4604d2a0",
   "metadata": {},
   "source": [
    "Once the model is trained, the test data is predicted (12 months into the future)"
   ]
  },
  {
   "cell_type": "code",
   "execution_count": 851,
   "id": "85075a9a",
   "metadata": {},
   "outputs": [
    {
     "data": {
      "text/plain": [
       "6     1613.596184\n",
       "7     1613.596184\n",
       "8     1613.596184\n",
       "9     1613.596184\n",
       "10    1613.596184\n",
       "11    1613.596184\n",
       "Name: pred, dtype: float64"
      ]
     },
     "execution_count": 851,
     "metadata": {},
     "output_type": "execute_result"
    }
   ],
   "source": [
    "# Predictions\n",
    "# ==============================================================================\n",
    "steps = 6\n",
    "predictions = forecaster.predict(steps=steps)\n",
    "predictions.head(6)"
   ]
  },
  {
   "cell_type": "code",
   "execution_count": 852,
   "id": "97d7a180",
   "metadata": {},
   "outputs": [
    {
     "name": "stderr",
     "output_type": "stream",
     "text": [
      "matplotlib.category INFO  Using categorical units to plot a list of strings that are all parsable as floats or dates. If these strings should be plotted as numbers, cast to the appropriate data type before plotting.\n",
      "matplotlib.category INFO  Using categorical units to plot a list of strings that are all parsable as floats or dates. If these strings should be plotted as numbers, cast to the appropriate data type before plotting.\n",
      "matplotlib.category INFO  Using categorical units to plot a list of strings that are all parsable as floats or dates. If these strings should be plotted as numbers, cast to the appropriate data type before plotting.\n",
      "matplotlib.category INFO  Using categorical units to plot a list of strings that are all parsable as floats or dates. If these strings should be plotted as numbers, cast to the appropriate data type before plotting.\n",
      "matplotlib.category INFO  Using categorical units to plot a list of strings that are all parsable as floats or dates. If these strings should be plotted as numbers, cast to the appropriate data type before plotting.\n",
      "matplotlib.category INFO  Using categorical units to plot a list of strings that are all parsable as floats or dates. If these strings should be plotted as numbers, cast to the appropriate data type before plotting.\n"
     ]
    },
    {
     "data": {
      "image/png": "[encoded data removed]",
      "text/plain": [
       "<Figure size 648x288 with 1 Axes>"
      ]
     },
     "metadata": {
      "needs_background": "light"
     },
     "output_type": "display_data"
    }
   ],
   "source": [
    "# Plot\n",
    "# ==============================================================================\n",
    "fig, ax = plt.subplots(figsize=(9, 4))\n",
    "ax.plot(data_train['Date'], data_train['zori'])\n",
    "ax.plot(data_test['Date'], data_test['zori'])\n",
    "ax.plot(data_test['Date'], predictions)\n",
    "\n",
    "ax.set(xlabel=\"Date\",\n",
    "       ylabel=\"zori\",\n",
    "       title=\"date to predictions\")\n",
    "plt.show()"
   ]
  },
  {
   "cell_type": "markdown",
   "id": "41b91249",
   "metadata": {},
   "source": [
    "### Prediction error in the test set"
   ]
  },
  {
   "cell_type": "markdown",
   "id": "10d505ef",
   "metadata": {},
   "source": [
    "The error that the model makes in its predictions is quantified. In this case, the metric used is the mean squared error (mse)."
   ]
  },
  {
   "cell_type": "code",
   "execution_count": 854,
   "id": "d096120f",
   "metadata": {},
   "outputs": [
    {
     "name": "stdout",
     "output_type": "stream",
     "text": [
      "Test error (mse): 19.547253704436887\n"
     ]
    }
   ],
   "source": [
    "# Test error\n",
    "# ==============================================================================\n",
    "error_mse = mean_squared_error(\n",
    "                y_true = data_test['zori'],\n",
    "                y_pred = predictions,\n",
    "                squared=False\n",
    "            )\n",
    "\n",
    "print(f\"Test error (mse): {error_mse}\")"
   ]
  },
  {
   "cell_type": "markdown",
   "id": "31413a97",
   "metadata": {},
   "source": [
    "### Hyperparameter tuning"
   ]
  },
  {
   "cell_type": "markdown",
   "id": "0536e8f0",
   "metadata": {},
   "source": [
    "The trained ForecasterAutoreg uses a 6 lag time window and a Random Forest model with the default hyperparameters. However, there is no reason why these values are the most suitable. In order to identify the best combination of lags and hyperparameters, the Skforecast library provides the grid_search_forecaster function. It compares the results obtained with each model configuration."
   ]
  },
  {
   "cell_type": "code",
   "execution_count": 883,
   "id": "284bedfb",
   "metadata": {},
   "outputs": [
    {
     "name": "stdout",
     "output_type": "stream",
     "text": [
      "Number of models compared: 80.\n"
     ]
    },
    {
     "name": "stderr",
     "output_type": "stream",
     "text": [
      "loop lags_grid:   0%|                                               | 0/4 [00:00<?, ?it/s]\n",
      "loop param_grid:   0%|                                             | 0/20 [00:00<?, ?it/s]\u001b[A\n",
      "loop param_grid:   5%|█▊                                   | 1/20 [00:00<00:07,  2.49it/s]\u001b[A\n",
      "loop param_grid:  10%|███▋                                 | 2/20 [00:01<00:11,  1.63it/s]\u001b[A\n",
      "loop param_grid:  15%|█████▌                               | 3/20 [00:02<00:14,  1.18it/s]\u001b[A\n",
      "loop param_grid:  20%|███████▍                             | 4/20 [00:03<00:17,  1.11s/it]\u001b[A\n",
      "loop param_grid:  25%|█████████▎                           | 5/20 [00:04<00:12,  1.18it/s]\u001b[A\n",
      "loop param_grid:  30%|███████████                          | 6/20 [00:04<00:11,  1.22it/s]\u001b[A\n",
      "loop param_grid:  35%|████████████▉                        | 7/20 [00:06<00:11,  1.09it/s]\u001b[A\n",
      "loop param_grid:  40%|██████████████▊                      | 8/20 [00:07<00:13,  1.10s/it]\u001b[A\n",
      "loop param_grid:  45%|████████████████▋                    | 9/20 [00:07<00:09,  1.14it/s]\u001b[A\n",
      "loop param_grid:  50%|██████████████████                  | 10/20 [00:08<00:08,  1.19it/s]\u001b[A\n",
      "loop param_grid:  55%|███████████████████▊                | 11/20 [00:09<00:08,  1.08it/s]\u001b[A\n",
      "loop param_grid:  60%|█████████████████████▌              | 12/20 [00:11<00:08,  1.10s/it]\u001b[A\n",
      "loop param_grid:  65%|███████████████████████▍            | 13/20 [00:11<00:06,  1.13it/s]\u001b[A\n",
      "loop param_grid:  70%|█████████████████████████▏          | 14/20 [00:12<00:05,  1.18it/s]\u001b[A\n",
      "loop param_grid:  75%|███████████████████████████         | 15/20 [00:13<00:04,  1.06it/s]\u001b[A\n",
      "loop param_grid:  80%|████████████████████████████▊       | 16/20 [00:15<00:04,  1.11s/it]\u001b[A\n",
      "loop param_grid:  85%|██████████████████████████████▌     | 17/20 [00:15<00:02,  1.12it/s]\u001b[A\n",
      "loop param_grid:  90%|████████████████████████████████▍   | 18/20 [00:16<00:01,  1.17it/s]\u001b[A\n",
      "loop param_grid:  95%|██████████████████████████████████▏ | 19/20 [00:17<00:00,  1.05it/s]\u001b[A\n",
      "loop param_grid: 100%|████████████████████████████████████| 20/20 [00:18<00:00,  1.12s/it]\u001b[A\n",
      "loop lags_grid:  25%|█████████▊                             | 1/4 [00:18<00:56, 18.98s/it]\u001b[A\n",
      "loop param_grid:   0%|                                             | 0/20 [00:00<?, ?it/s]\u001b[A\n",
      "loop param_grid:   5%|█▊                                   | 1/20 [00:00<00:07,  2.51it/s]\u001b[A\n",
      "loop param_grid:  10%|███▋                                 | 2/20 [00:01<00:10,  1.65it/s]\u001b[A\n",
      "loop param_grid:  15%|█████▌                               | 3/20 [00:02<00:14,  1.18it/s]\u001b[A\n",
      "loop param_grid:  20%|███████▍                             | 4/20 [00:03<00:17,  1.11s/it]\u001b[A\n",
      "loop param_grid:  25%|█████████▎                           | 5/20 [00:04<00:12,  1.17it/s]\u001b[A\n",
      "loop param_grid:  30%|███████████                          | 6/20 [00:04<00:11,  1.22it/s]\u001b[A\n",
      "loop param_grid:  35%|████████████▉                        | 7/20 [00:06<00:11,  1.09it/s]\u001b[A\n",
      "loop param_grid:  40%|██████████████▊                      | 8/20 [00:07<00:13,  1.10s/it]\u001b[A\n",
      "loop param_grid:  45%|████████████████▋                    | 9/20 [00:07<00:09,  1.12it/s]\u001b[A\n",
      "loop param_grid:  50%|██████████████████                  | 10/20 [00:08<00:08,  1.17it/s]\u001b[A\n",
      "loop param_grid:  55%|███████████████████▊                | 11/20 [00:09<00:08,  1.05it/s]\u001b[A\n",
      "loop param_grid:  60%|█████████████████████▌              | 12/20 [00:11<00:08,  1.12s/it]\u001b[A\n",
      "loop param_grid:  65%|███████████████████████▍            | 13/20 [00:11<00:06,  1.11it/s]\u001b[A\n",
      "loop param_grid:  70%|█████████████████████████▏          | 14/20 [00:12<00:05,  1.17it/s]\u001b[A\n",
      "loop param_grid:  75%|███████████████████████████         | 15/20 [00:13<00:04,  1.06it/s]\u001b[A\n",
      "loop param_grid:  80%|████████████████████████████▊       | 16/20 [00:15<00:04,  1.11s/it]\u001b[A\n",
      "loop param_grid:  85%|██████████████████████████████▌     | 17/20 [00:15<00:02,  1.11it/s]\u001b[A\n",
      "loop param_grid:  90%|████████████████████████████████▍   | 18/20 [00:16<00:01,  1.16it/s]\u001b[A\n",
      "loop param_grid:  95%|██████████████████████████████████▏ | 19/20 [00:17<00:00,  1.05it/s]\u001b[A\n",
      "loop param_grid: 100%|████████████████████████████████████| 20/20 [00:19<00:00,  1.13s/it]\u001b[A\n",
      "loop lags_grid:  50%|███████████████████▌                   | 2/4 [00:38<00:38, 19.06s/it]\u001b[A\n",
      "loop param_grid:   0%|                                             | 0/20 [00:00<?, ?it/s]\u001b[A\n",
      "loop param_grid:   5%|█▊                                   | 1/20 [00:00<00:07,  2.51it/s]\u001b[A\n",
      "loop param_grid:  10%|███▋                                 | 2/20 [00:01<00:11,  1.58it/s]\u001b[A\n",
      "loop param_grid:  15%|█████▌                               | 3/20 [00:02<00:14,  1.17it/s]\u001b[A\n",
      "loop param_grid:  20%|███████▍                             | 4/20 [00:03<00:17,  1.12s/it]\u001b[A\n",
      "loop param_grid:  25%|█████████▎                           | 5/20 [00:04<00:12,  1.17it/s]\u001b[A\n",
      "loop param_grid:  30%|███████████                          | 6/20 [00:05<00:11,  1.20it/s]\u001b[A\n",
      "loop param_grid:  35%|████████████▉                        | 7/20 [00:06<00:12,  1.07it/s]\u001b[A\n",
      "loop param_grid:  40%|██████████████▊                      | 8/20 [00:07<00:13,  1.13s/it]\u001b[A\n",
      "loop param_grid:  45%|████████████████▋                    | 9/20 [00:08<00:10,  1.10it/s]\u001b[A\n",
      "loop param_grid:  50%|██████████████████                  | 10/20 [00:08<00:08,  1.16it/s]\u001b[A\n",
      "loop param_grid:  55%|███████████████████▊                | 11/20 [00:10<00:08,  1.05it/s]\u001b[A\n",
      "loop param_grid:  60%|█████████████████████▌              | 12/20 [00:11<00:09,  1.15s/it]\u001b[A\n",
      "loop param_grid:  65%|███████████████████████▍            | 13/20 [00:12<00:06,  1.08it/s]\u001b[A\n",
      "loop param_grid:  70%|█████████████████████████▏          | 14/20 [00:12<00:05,  1.13it/s]\u001b[A\n",
      "loop param_grid:  75%|███████████████████████████         | 15/20 [00:14<00:04,  1.04it/s]\u001b[A\n",
      "loop param_grid:  80%|████████████████████████████▊       | 16/20 [00:15<00:04,  1.14s/it]\u001b[A\n",
      "loop param_grid:  85%|██████████████████████████████▌     | 17/20 [00:15<00:02,  1.09it/s]\u001b[A\n",
      "loop param_grid:  90%|████████████████████████████████▍   | 18/20 [00:16<00:01,  1.14it/s]\u001b[A\n",
      "loop param_grid:  95%|██████████████████████████████████▏ | 19/20 [00:17<00:00,  1.04it/s]\u001b[A\n",
      "loop param_grid: 100%|████████████████████████████████████| 20/20 [00:19<00:00,  1.13s/it]\u001b[A\n",
      "loop lags_grid:  75%|█████████████████████████████▎         | 3/4 [00:57<00:19, 19.23s/it]\u001b[A\n",
      "loop param_grid:   0%|                                             | 0/20 [00:00<?, ?it/s]\u001b[A\n",
      "loop param_grid:   5%|█▊                                   | 1/20 [00:00<00:07,  2.41it/s]\u001b[A\n",
      "loop param_grid:  10%|███▋                                 | 2/20 [00:01<00:11,  1.62it/s]\u001b[A\n",
      "loop param_grid:  15%|█████▌                               | 3/20 [00:02<00:14,  1.16it/s]\u001b[A\n",
      "loop param_grid:  20%|███████▍                             | 4/20 [00:03<00:18,  1.13s/it]\u001b[A\n",
      "loop param_grid:  25%|█████████▎                           | 5/20 [00:04<00:13,  1.15it/s]\u001b[A\n",
      "loop param_grid:  30%|███████████                          | 6/20 [00:05<00:11,  1.18it/s]\u001b[A\n",
      "loop param_grid:  35%|████████████▉                        | 7/20 [00:06<00:12,  1.05it/s]\u001b[A\n",
      "loop param_grid:  40%|██████████████▊                      | 8/20 [00:07<00:14,  1.17s/it]\u001b[A\n",
      "loop param_grid:  45%|████████████████▋                    | 9/20 [00:08<00:10,  1.06it/s]\u001b[A\n",
      "loop param_grid:  50%|██████████████████                  | 10/20 [00:09<00:08,  1.12it/s]\u001b[A\n",
      "loop param_grid:  55%|███████████████████▊                | 11/20 [00:10<00:08,  1.01it/s]\u001b[A\n",
      "loop param_grid:  60%|█████████████████████▌              | 12/20 [00:11<00:09,  1.16s/it]\u001b[A\n",
      "loop param_grid:  65%|███████████████████████▍            | 13/20 [00:12<00:06,  1.08it/s]\u001b[A\n",
      "loop param_grid:  70%|█████████████████████████▏          | 14/20 [00:13<00:05,  1.13it/s]\u001b[A\n",
      "loop param_grid:  75%|███████████████████████████         | 15/20 [00:14<00:04,  1.03it/s]\u001b[A\n",
      "loop param_grid:  80%|████████████████████████████▊       | 16/20 [00:15<00:04,  1.14s/it]\u001b[A\n",
      "loop param_grid:  85%|██████████████████████████████▌     | 17/20 [00:16<00:02,  1.09it/s]\u001b[A\n",
      "loop param_grid:  90%|████████████████████████████████▍   | 18/20 [00:16<00:01,  1.14it/s]\u001b[A\n",
      "loop param_grid:  95%|██████████████████████████████████▏ | 19/20 [00:18<00:00,  1.03it/s]\u001b[A\n",
      "loop param_grid: 100%|████████████████████████████████████| 20/20 [00:19<00:00,  1.14s/it]\u001b[A\n",
      "loop lags_grid: 100%|███████████████████████████████████████| 4/4 [01:17<00:00, 19.30s/it]\u001b[A\n"
     ]
    },
    {
     "name": "stdout",
     "output_type": "stream",
     "text": [
      "`Forecaster` refitted using the best-found lags and parameters, and the whole data set: \n",
      "  Lags: [1 2 3] \n",
      "  Parameters: {'max_depth': 5, 'n_estimators': 400}\n",
      "  Backtesting metric: 915.1729975614616\n",
      "\n"
     ]
    }
   ],
   "source": [
    "# Hyperparameter Grid search\n",
    "# ==============================================================================\n",
    "steps = 6\n",
    "forecaster = ForecasterAutoreg(\n",
    "                regressor = RandomForestRegressor(random_state=123),\n",
    "                lags      = 6 # This value will be replaced in the grid search\n",
    "             )\n",
    "\n",
    "# Lags used as predictors\n",
    "lags_grid = [3, 4, 5, 6]\n",
    "\n",
    "# Regressor's hyperparameters\n",
    "param_grid = {'n_estimators': [100, 200, 300, 400],\n",
    "              'max_depth': [3, 4, 5, 7, 10]}\n",
    "\n",
    "results_grid = grid_search_forecaster(\n",
    "                        forecaster         = forecaster,\n",
    "                        y                  = data_train['zori'],\n",
    "                        param_grid         = param_grid,\n",
    "                        lags_grid          = lags_grid,\n",
    "                        steps              = steps,\n",
    "                        refit              = True,\n",
    "                        metric             = 'mean_squared_error',\n",
    "                        initial_train_size = int(len(data_train)*0.5),\n",
    "                        fixed_train_size   = False,\n",
    "                        return_best        = True, #no need to create and train forecaster again, it's already the best\n",
    "                        verbose            = False\n",
    "               )"
   ]
  },
  {
   "cell_type": "code",
   "execution_count": 884,
   "id": "fee76618",
   "metadata": {},
   "outputs": [
    {
     "data": {
      "text/html": [
       "<div>\n",
       "<style scoped>\n",
       "    .dataframe tbody tr th:only-of-type {\n",
       "        vertical-align: middle;\n",
       "    }\n",
       "\n",
       "    .dataframe tbody tr th {\n",
       "        vertical-align: top;\n",
       "    }\n",
       "\n",
       "    .dataframe thead th {\n",
       "        text-align: right;\n",
       "    }\n",
       "</style>\n",
       "<table border=\"1\" class=\"dataframe\">\n",
       "  <thead>\n",
       "    <tr style=\"text-align: right;\">\n",
       "      <th></th>\n",
       "      <th>lags</th>\n",
       "      <th>params</th>\n",
       "      <th>mean_squared_error</th>\n",
       "      <th>max_depth</th>\n",
       "      <th>n_estimators</th>\n",
       "    </tr>\n",
       "  </thead>\n",
       "  <tbody>\n",
       "    <tr>\n",
       "      <th>11</th>\n",
       "      <td>[1, 2, 3]</td>\n",
       "      <td>{'max_depth': 5, 'n_estimators': 400}</td>\n",
       "      <td>915.172998</td>\n",
       "      <td>5</td>\n",
       "      <td>400</td>\n",
       "    </tr>\n",
       "    <tr>\n",
       "      <th>19</th>\n",
       "      <td>[1, 2, 3]</td>\n",
       "      <td>{'max_depth': 10, 'n_estimators': 400}</td>\n",
       "      <td>916.484422</td>\n",
       "      <td>10</td>\n",
       "      <td>400</td>\n",
       "    </tr>\n",
       "    <tr>\n",
       "      <th>15</th>\n",
       "      <td>[1, 2, 3]</td>\n",
       "      <td>{'max_depth': 7, 'n_estimators': 400}</td>\n",
       "      <td>917.638338</td>\n",
       "      <td>7</td>\n",
       "      <td>400</td>\n",
       "    </tr>\n",
       "  </tbody>\n",
       "</table>\n",
       "</div>"
      ],
      "text/plain": [
       "         lags                                  params  mean_squared_error  \\\n",
       "11  [1, 2, 3]   {'max_depth': 5, 'n_estimators': 400}          915.172998   \n",
       "19  [1, 2, 3]  {'max_depth': 10, 'n_estimators': 400}          916.484422   \n",
       "15  [1, 2, 3]   {'max_depth': 7, 'n_estimators': 400}          917.638338   \n",
       "\n",
       "    max_depth  n_estimators  \n",
       "11          5           400  \n",
       "19         10           400  \n",
       "15          7           400  "
      ]
     },
     "execution_count": 884,
     "metadata": {},
     "output_type": "execute_result"
    }
   ],
   "source": [
    "# Grid Search results\n",
    "# ==============================================================================\n",
    "results_grid.head(3)"
   ]
  },
  {
   "cell_type": "markdown",
   "id": "9a225d49",
   "metadata": {},
   "source": [
    "The best results are obtained using a time window of 3 lags and a Random Forest set up of {'max_depth': 3, 'n_estimators': 400}."
   ]
  },
  {
   "cell_type": "markdown",
   "id": "f2544033",
   "metadata": {},
   "source": [
    "### Final model"
   ]
  },
  {
   "cell_type": "markdown",
   "id": "2378028e",
   "metadata": {},
   "source": [
    "Finally, a ForecasterAutoreg is trained with the optimal configuration found by validation. This step is not necessary if return_best = True is specified in the grid_search_forecaster function."
   ]
  },
  {
   "cell_type": "code",
   "execution_count": 885,
   "id": "d67261f3",
   "metadata": {},
   "outputs": [],
   "source": [
    "# Create and train forecaster with the best hyperparameters\n",
    "# ==============================================================================\n",
    "regressor = RandomForestRegressor(max_depth=3, n_estimators=400, random_state=123)\n",
    "forecaster = ForecasterAutoreg(\n",
    "                regressor = regressor,\n",
    "                lags      = 3\n",
    "             )\n",
    "\n",
    "forecaster.fit(y=data_train['zori'])"
   ]
  },
  {
   "cell_type": "code",
   "execution_count": 886,
   "id": "e11ce762",
   "metadata": {},
   "outputs": [],
   "source": [
    "# Predictions\n",
    "# ==============================================================================\n",
    "predictions = forecaster.predict(steps=steps)"
   ]
  },
  {
   "cell_type": "code",
   "execution_count": 887,
   "id": "b5015d0c",
   "metadata": {},
   "outputs": [
    {
     "data": {
      "text/plain": [
       "3    1604.656740\n",
       "4    1604.631372\n",
       "5    1604.631372\n",
       "6    1604.631372\n",
       "7    1604.631372\n",
       "8    1604.631372\n",
       "Name: pred, dtype: float64"
      ]
     },
     "execution_count": 887,
     "metadata": {},
     "output_type": "execute_result"
    }
   ],
   "source": [
    "predictions"
   ]
  },
  {
   "cell_type": "code",
   "execution_count": 888,
   "id": "fc1ba966",
   "metadata": {},
   "outputs": [
    {
     "name": "stderr",
     "output_type": "stream",
     "text": [
      "matplotlib.category INFO  Using categorical units to plot a list of strings that are all parsable as floats or dates. If these strings should be plotted as numbers, cast to the appropriate data type before plotting.\n",
      "matplotlib.category INFO  Using categorical units to plot a list of strings that are all parsable as floats or dates. If these strings should be plotted as numbers, cast to the appropriate data type before plotting.\n",
      "matplotlib.category INFO  Using categorical units to plot a list of strings that are all parsable as floats or dates. If these strings should be plotted as numbers, cast to the appropriate data type before plotting.\n",
      "matplotlib.category INFO  Using categorical units to plot a list of strings that are all parsable as floats or dates. If these strings should be plotted as numbers, cast to the appropriate data type before plotting.\n",
      "matplotlib.category INFO  Using categorical units to plot a list of strings that are all parsable as floats or dates. If these strings should be plotted as numbers, cast to the appropriate data type before plotting.\n",
      "matplotlib.category INFO  Using categorical units to plot a list of strings that are all parsable as floats or dates. If these strings should be plotted as numbers, cast to the appropriate data type before plotting.\n"
     ]
    },
    {
     "data": {
      "image/png": "[encoded data removed]",
      "text/plain": [
       "<Figure size 648x288 with 1 Axes>"
      ]
     },
     "metadata": {
      "needs_background": "light"
     },
     "output_type": "display_data"
    }
   ],
   "source": [
    "# Plot\n",
    "# ==============================================================================\n",
    "fig, ax = plt.subplots(figsize=(9, 4))\n",
    "ax.plot(data_train['Date'], data_train['zori'])\n",
    "ax.plot(data_test['Date'], data_test['zori'])\n",
    "ax.plot(data_test['Date'], predictions)\n",
    "\n",
    "ax.set(xlabel=\"Date\",\n",
    "       ylabel=\"zori\",\n",
    "       title=\"date to predictions\")\n",
    "plt.show()"
   ]
  },
  {
   "cell_type": "code",
   "execution_count": 889,
   "id": "9f7e2430",
   "metadata": {},
   "outputs": [
    {
     "name": "stdout",
     "output_type": "stream",
     "text": [
      "Test error (mse): 27.711199999395706\n"
     ]
    }
   ],
   "source": [
    "# Test error\n",
    "# ==============================================================================\n",
    "error_mse = mean_squared_error(\n",
    "                y_true = data_test['zori'],\n",
    "                y_pred = predictions,\n",
    "                squared=False\n",
    "            )\n",
    "\n",
    "print(f\"Test error (mse): {error_mse}\")"
   ]
  },
  {
   "cell_type": "markdown",
   "id": "8bfb872c",
   "metadata": {},
   "source": [
    "## Predictors importance"
   ]
  },
  {
   "cell_type": "markdown",
   "id": "00046b85",
   "metadata": {},
   "source": [
    "Since the ForecasterAutoreg object uses Scikit-learn models, the importance of predictors can be accessed once trained. When the regressor used is a LinearRegression(), Lasso() or Ridge(), the coefficients of the model reflect their importance. In GradientBoostingRegressor() or RandomForestRegressor() regressors, the importance of predictors is based on impurity."
   ]
  },
  {
   "cell_type": "code",
   "execution_count": 890,
   "id": "f4d6d334",
   "metadata": {},
   "outputs": [
    {
     "data": {
      "text/html": [
       "<div>\n",
       "<style scoped>\n",
       "    .dataframe tbody tr th:only-of-type {\n",
       "        vertical-align: middle;\n",
       "    }\n",
       "\n",
       "    .dataframe tbody tr th {\n",
       "        vertical-align: top;\n",
       "    }\n",
       "\n",
       "    .dataframe thead th {\n",
       "        text-align: right;\n",
       "    }\n",
       "</style>\n",
       "<table border=\"1\" class=\"dataframe\">\n",
       "  <thead>\n",
       "    <tr style=\"text-align: right;\">\n",
       "      <th></th>\n",
       "      <th>feature</th>\n",
       "      <th>importance</th>\n",
       "    </tr>\n",
       "  </thead>\n",
       "  <tbody>\n",
       "    <tr>\n",
       "      <th>0</th>\n",
       "      <td>lag_1</td>\n",
       "      <td>0.35697</td>\n",
       "    </tr>\n",
       "    <tr>\n",
       "      <th>1</th>\n",
       "      <td>lag_2</td>\n",
       "      <td>0.33346</td>\n",
       "    </tr>\n",
       "    <tr>\n",
       "      <th>2</th>\n",
       "      <td>lag_3</td>\n",
       "      <td>0.30957</td>\n",
       "    </tr>\n",
       "  </tbody>\n",
       "</table>\n",
       "</div>"
      ],
      "text/plain": [
       "  feature  importance\n",
       "0   lag_1     0.35697\n",
       "1   lag_2     0.33346\n",
       "2   lag_3     0.30957"
      ]
     },
     "execution_count": 890,
     "metadata": {},
     "output_type": "execute_result"
    }
   ],
   "source": [
    "# Predictors importance\n",
    "# ==============================================================================\n",
    "forecaster.get_feature_importance()"
   ]
  },
  {
   "cell_type": "markdown",
   "id": "d6d53fba",
   "metadata": {},
   "source": [
    "## Recursive autoregressive forecasting with exogenous variables"
   ]
  },
  {
   "cell_type": "markdown",
   "id": "61ce6eee",
   "metadata": {},
   "source": [
    "In the previous example, only lags of the predicted variable itself have been used as predictors. In certain scenarios, it is possible to have information about other variables, whose future value is known, so could serve as additional predictors in the model.\n",
    "\n",
    "Continuing with the previous example, a new variable whose behavior is correlated with the modeled time series and it is wanted to incorporate as a predictor is simulated. The same applies to multiple exogenous variables.\n"
   ]
  },
  {
   "cell_type": "code",
   "execution_count": 891,
   "id": "566631ae",
   "metadata": {},
   "outputs": [
    {
     "data": {
      "text/plain": [
       "Index(['cpi', 'property_tax', 'population', 'property_crime', 'burglary',\n",
       "       'larceny', 'motor_vehicle_theft', 'gdp', 'personal_consumption',\n",
       "       'personal_income', 'unemployment_rates', 'house_price_index',\n",
       "       'housing_units'],\n",
       "      dtype='object')"
      ]
     },
     "execution_count": 891,
     "metadata": {},
     "output_type": "execute_result"
    }
   ],
   "source": [
    "data_x = state_data.iloc[:, 3:]\n",
    "data_x.columns"
   ]
  },
  {
   "cell_type": "code",
   "execution_count": 892,
   "id": "408209de",
   "metadata": {
    "scrolled": true
   },
   "outputs": [
    {
     "data": {
      "text/plain": [
       "['cpi',\n",
       " 'property_tax',\n",
       " 'population',\n",
       " 'property_crime',\n",
       " 'burglary',\n",
       " 'larceny',\n",
       " 'motor_vehicle_theft',\n",
       " 'gdp',\n",
       " 'personal_consumption',\n",
       " 'personal_income',\n",
       " 'unemployment_rates',\n",
       " 'house_price_index',\n",
       " 'housing_units']"
      ]
     },
     "execution_count": 892,
     "metadata": {},
     "output_type": "execute_result"
    }
   ],
   "source": [
    "exog_variables = [column for column in data_x.columns]\n",
    "exog_variables"
   ]
  },
  {
   "cell_type": "code",
   "execution_count": 893,
   "id": "7f204044",
   "metadata": {},
   "outputs": [
    {
     "data": {
      "text/plain": [
       "'2019-05-01'"
      ]
     },
     "execution_count": 893,
     "metadata": {},
     "output_type": "execute_result"
    }
   ],
   "source": [
    "end_train"
   ]
  },
  {
   "cell_type": "code",
   "execution_count": 894,
   "id": "48e85b4a",
   "metadata": {
    "scrolled": true
   },
   "outputs": [
    {
     "data": {
      "text/plain": [
       "(52, 13)"
      ]
     },
     "execution_count": 894,
     "metadata": {},
     "output_type": "execute_result"
    }
   ],
   "source": [
    "data_train.loc[data_train['Date'] <= end_train, exog_variables].shape"
   ]
  },
  {
   "cell_type": "code",
   "execution_count": 895,
   "id": "c21cd63a",
   "metadata": {},
   "outputs": [
    {
     "data": {
      "text/plain": [
       "(52, 16)"
      ]
     },
     "execution_count": 895,
     "metadata": {},
     "output_type": "execute_result"
    }
   ],
   "source": [
    "data_train.shape"
   ]
  },
  {
   "cell_type": "code",
   "execution_count": 896,
   "id": "757ff1da",
   "metadata": {
    "scrolled": true
   },
   "outputs": [
    {
     "data": {
      "text/plain": [
       "================= \n",
       "ForecasterAutoreg \n",
       "================= \n",
       "Regressor: RandomForestRegressor(random_state=123) \n",
       "Lags: [1 2 3] \n",
       "Transformer for y: None \n",
       "Transformer for exog: None \n",
       "Window size: 3 \n",
       "Included exogenous: True \n",
       "Type of exogenous variable: <class 'pandas.core.frame.DataFrame'> \n",
       "Exogenous variables names: ['cpi', 'property_tax', 'population', 'property_crime', 'burglary', 'larceny', 'motor_vehicle_theft', 'gdp', 'personal_consumption', 'personal_income', 'unemployment_rates', 'house_price_index', 'housing_units'] \n",
       "Training range: [0, 51] \n",
       "Training index type: RangeIndex \n",
       "Training index frequency: 1 \n",
       "Regressor parameters: {'bootstrap': True, 'ccp_alpha': 0.0, 'criterion': 'squared_error', 'max_depth': None, 'max_features': 'auto', 'max_leaf_nodes': None, 'max_samples': None, 'min_impurity_decrease': 0.0, 'min_samples_leaf': 1, 'min_samples_split': 2, 'min_weight_fraction_leaf': 0.0, 'n_estimators': 100, 'n_jobs': None, 'oob_score': False, 'random_state': 123, 'verbose': 0, 'warm_start': False} \n",
       "Creation date: 2022-12-04 23:33:35 \n",
       "Last fit date: 2022-12-04 23:33:35 \n",
       "Skforecast version: 0.5.1 \n",
       "Python version: 3.9.12 "
      ]
     },
     "execution_count": 896,
     "metadata": {},
     "output_type": "execute_result"
    }
   ],
   "source": [
    "# Create and train forecaster\n",
    "# ==============================================================================\n",
    "forecaster = ForecasterAutoreg(\n",
    "                regressor = RandomForestRegressor(random_state=123),\n",
    "                lags      = 3\n",
    "             )\n",
    "\n",
    "forecaster.fit(y=data_train['zori'], exog = data_train.loc[data_train['Date'] <= end_train, exog_variables])\n",
    "forecaster"
   ]
  },
  {
   "cell_type": "code",
   "execution_count": 897,
   "id": "a68d5a6a",
   "metadata": {},
   "outputs": [
    {
     "data": {
      "text/plain": [
       "(6, 16)"
      ]
     },
     "execution_count": 897,
     "metadata": {},
     "output_type": "execute_result"
    }
   ],
   "source": [
    "data_test.shape"
   ]
  },
  {
   "cell_type": "code",
   "execution_count": 898,
   "id": "34ddeda1",
   "metadata": {},
   "outputs": [],
   "source": [
    "# Predictions\n",
    "# ==============================================================================\n",
    "predictions = forecaster.predict(steps = 6, exog=data_test.loc[data_test['Date'] > end_train, exog_variables])"
   ]
  },
  {
   "cell_type": "code",
   "execution_count": 899,
   "id": "cbf6f581",
   "metadata": {},
   "outputs": [
    {
     "name": "stderr",
     "output_type": "stream",
     "text": [
      "matplotlib.category INFO  Using categorical units to plot a list of strings that are all parsable as floats or dates. If these strings should be plotted as numbers, cast to the appropriate data type before plotting.\n",
      "matplotlib.category INFO  Using categorical units to plot a list of strings that are all parsable as floats or dates. If these strings should be plotted as numbers, cast to the appropriate data type before plotting.\n",
      "matplotlib.category INFO  Using categorical units to plot a list of strings that are all parsable as floats or dates. If these strings should be plotted as numbers, cast to the appropriate data type before plotting.\n",
      "matplotlib.category INFO  Using categorical units to plot a list of strings that are all parsable as floats or dates. If these strings should be plotted as numbers, cast to the appropriate data type before plotting.\n",
      "matplotlib.category INFO  Using categorical units to plot a list of strings that are all parsable as floats or dates. If these strings should be plotted as numbers, cast to the appropriate data type before plotting.\n",
      "matplotlib.category INFO  Using categorical units to plot a list of strings that are all parsable as floats or dates. If these strings should be plotted as numbers, cast to the appropriate data type before plotting.\n"
     ]
    },
    {
     "data": {
      "image/png": "[encoded data removed]",
      "text/plain": [
       "<Figure size 648x288 with 1 Axes>"
      ]
     },
     "metadata": {
      "needs_background": "light"
     },
     "output_type": "display_data"
    }
   ],
   "source": [
    "# Plot\n",
    "# ==============================================================================\n",
    "fig, ax = plt.subplots(figsize=(9, 4))\n",
    "ax.plot(data_train['Date'], data_train['zori'])\n",
    "ax.plot(data_test['Date'], data_test['zori'])\n",
    "ax.plot(data_test['Date'], predictions)\n",
    "\n",
    "ax.set(xlabel=\"Date\",\n",
    "       ylabel=\"zori\",\n",
    "       title=\"date to predictions\")\n",
    "plt.show()"
   ]
  },
  {
   "cell_type": "code",
   "execution_count": 900,
   "id": "5532df7e",
   "metadata": {},
   "outputs": [
    {
     "name": "stdout",
     "output_type": "stream",
     "text": [
      "Test error (rmse): 26.639296888571767\n"
     ]
    }
   ],
   "source": [
    "# Test error\n",
    "# ==============================================================================\n",
    "error_mse = mean_squared_error(\n",
    "                y_true = data_test['zori'],\n",
    "                y_pred = predictions,\n",
    "                squared=False\n",
    "            )\n",
    "\n",
    "print(f\"Test error (rmse): {error_mse}\")\n"
   ]
  },
  {
   "cell_type": "markdown",
   "id": "ea7979fb",
   "metadata": {},
   "source": [
    "### the test error is too large, skip hyperparameter tunning"
   ]
  },
  {
   "cell_type": "markdown",
   "id": "72fb2188",
   "metadata": {},
   "source": [
    "## Boosting method"
   ]
  },
  {
   "cell_type": "markdown",
   "id": "156cb4ad",
   "metadata": {},
   "source": [
    "## 02/01/2015 - 12/01/2018 as train data, 01/01/2019 - 05/01/2019 as validation data, 06/01/2019 - 11/01/2019 as test data (duration we want to predict)"
   ]
  },
  {
   "cell_type": "code",
   "execution_count": 901,
   "id": "11769cb1",
   "metadata": {},
   "outputs": [],
   "source": [
    "end_train = '2018-12-01'\n",
    "end_validation = '2019-05-01'\n",
    "state_data, data_train, data_val, data_test = selectAndSplitByState(data, 'VA') ## select state name"
   ]
  },
  {
   "cell_type": "code",
   "execution_count": 902,
   "id": "ab61a64e",
   "metadata": {},
   "outputs": [
    {
     "data": {
      "text/plain": [
       "(6, 16)"
      ]
     },
     "execution_count": 902,
     "metadata": {},
     "output_type": "execute_result"
    }
   ],
   "source": [
    "data_test.shape"
   ]
  },
  {
   "cell_type": "code",
   "execution_count": 903,
   "id": "9b9e3ffb",
   "metadata": {},
   "outputs": [
    {
     "data": {
      "image/png": "[encoded data removed]",
      "text/plain": [
       "<Figure size 792x288 with 1 Axes>"
      ]
     },
     "metadata": {
      "needs_background": "light"
     },
     "output_type": "display_data"
    }
   ],
   "source": [
    "# Plot time series\n",
    "# ==============================================================================\n",
    "fig, ax = plt.subplots(figsize=(11, 4))\n",
    "data_train['zori'].plot(ax=ax, label='train')\n",
    "data_val['zori'].plot(ax=ax, label='validation')\n",
    "data_test['zori'].plot(ax=ax, label='test')\n",
    "ax.set_title('zori')\n",
    "ax.legend();"
   ]
  },
  {
   "cell_type": "markdown",
   "id": "6e0c494a",
   "metadata": {},
   "source": [
    "## Autocorrelation plots"
   ]
  },
  {
   "cell_type": "code",
   "execution_count": 904,
   "id": "58e9e4f9",
   "metadata": {
    "scrolled": true
   },
   "outputs": [
    {
     "data": {
      "image/png": "[encoded data removed]",
      "text/plain": [
       "<Figure size 504x216 with 1 Axes>"
      ]
     },
     "metadata": {
      "needs_background": "light"
     },
     "output_type": "display_data"
    }
   ],
   "source": [
    "# Autocorrelation plot\n",
    "# ==============================================================================\n",
    "fig, ax = plt.subplots(figsize=(7, 3))\n",
    "plot_acf(data['zori'], ax=ax, lags=72)\n",
    "plt.show()"
   ]
  },
  {
   "cell_type": "code",
   "execution_count": 905,
   "id": "db76ddee",
   "metadata": {
    "scrolled": false
   },
   "outputs": [
    {
     "data": {
      "image/png": "[encoded data removed]",
      "text/plain": [
       "<Figure size 504x216 with 1 Axes>"
      ]
     },
     "metadata": {
      "needs_background": "light"
     },
     "output_type": "display_data"
    }
   ],
   "source": [
    "# Partial autocorrelation plot\n",
    "# ==============================================================================\n",
    "fig, ax = plt.subplots(figsize=(7, 3))\n",
    "plot_pacf(data['zori'], ax=ax, lags=72, method='ywm')\n",
    "plt.show()"
   ]
  },
  {
   "cell_type": "markdown",
   "id": "f3e85936",
   "metadata": {},
   "source": [
    "The autocorrelation and partial autocorrelation plots show a clear association between one month's zori index and previous months, as well as between one month's demand and the same month's demand on years. This type of correlation is an indication that autoregressive models can work well."
   ]
  },
  {
   "cell_type": "markdown",
   "id": "061e1f01",
   "metadata": {},
   "source": [
    "# 1. XGBoost"
   ]
  },
  {
   "cell_type": "code",
   "execution_count": 931,
   "id": "010d29ba",
   "metadata": {},
   "outputs": [
    {
     "data": {
      "text/plain": [
       "================= \n",
       "ForecasterAutoreg \n",
       "================= \n",
       "Regressor: XGBRegressor(base_score=None, booster=None, colsample_bylevel=None,\n",
       "             colsample_bynode=None, colsample_bytree=None,\n",
       "             enable_categorical=False, gamma=None, gpu_id=None,\n",
       "             importance_type=None, interaction_constraints=None,\n",
       "             learning_rate=None, max_delta_step=None, max_depth=None,\n",
       "             min_child_weight=None, missing=nan, monotone_constraints=None,\n",
       "             n_estimators=100, n_jobs=None, num_parallel_tree=None,\n",
       "             predictor=None, random_state=123, reg_alpha=None, reg_lambda=None,\n",
       "             scale_pos_weight=None, subsample=None, tree_method=None,\n",
       "             validate_parameters=None, verbosity=None) \n",
       "Lags: [1 2 3] \n",
       "Transformer for y: None \n",
       "Transformer for exog: None \n",
       "Window size: 3 \n",
       "Included exogenous: False \n",
       "Type of exogenous variable: None \n",
       "Exogenous variables names: None \n",
       "Training range: None \n",
       "Training index type: None \n",
       "Training index frequency: None \n",
       "Regressor parameters: {'objective': 'reg:squarederror', 'base_score': None, 'booster': None, 'colsample_bylevel': None, 'colsample_bynode': None, 'colsample_bytree': None, 'enable_categorical': False, 'gamma': None, 'gpu_id': None, 'importance_type': None, 'interaction_constraints': None, 'learning_rate': None, 'max_delta_step': None, 'max_depth': None, 'min_child_weight': None, 'missing': nan, 'monotone_constraints': None, 'n_estimators': 100, 'n_jobs': None, 'num_parallel_tree': None, 'predictor': None, 'random_state': 123, 'reg_alpha': None, 'reg_lambda': None, 'scale_pos_weight': None, 'subsample': None, 'tree_method': None, 'validate_parameters': None, 'verbosity': None} \n",
       "Creation date: 2022-12-04 23:40:22 \n",
       "Last fit date: None \n",
       "Skforecast version: 0.5.1 \n",
       "Python version: 3.9.12 "
      ]
     },
     "execution_count": 931,
     "metadata": {},
     "output_type": "execute_result"
    }
   ],
   "source": [
    "# Create forecaster\n",
    "# ==============================================================================\n",
    "forecaster = ForecasterAutoreg(\n",
    "                regressor = XGBRegressor(random_state=123),\n",
    "                lags = 3\n",
    "                )\n",
    "\n",
    "forecaster"
   ]
  },
  {
   "cell_type": "code",
   "execution_count": 932,
   "id": "731f2cee",
   "metadata": {},
   "outputs": [
    {
     "data": {
      "text/plain": [
       "46"
      ]
     },
     "execution_count": 932,
     "metadata": {},
     "output_type": "execute_result"
    }
   ],
   "source": [
    "int(len(data_train))"
   ]
  },
  {
   "cell_type": "code",
   "execution_count": 933,
   "id": "04d329d3",
   "metadata": {},
   "outputs": [
    {
     "data": {
      "text/plain": [
       "51"
      ]
     },
     "execution_count": 933,
     "metadata": {},
     "output_type": "execute_result"
    }
   ],
   "source": [
    "len(state_data.loc[state_data['Date'] < end_validation, 'zori'])"
   ]
  },
  {
   "cell_type": "code",
   "execution_count": 934,
   "id": "62c3fdb0",
   "metadata": {},
   "outputs": [
    {
     "name": "stdout",
     "output_type": "stream",
     "text": [
      "Number of models compared: 18.\n"
     ]
    },
    {
     "name": "stderr",
     "output_type": "stream",
     "text": [
      "loop lags_grid:   0%|                                               | 0/1 [00:00<?, ?it/s]\n",
      "loop param_grid:   0%|                                             | 0/18 [00:00<?, ?it/s]\u001b[A\n",
      "loop param_grid:  11%|████                                 | 2/18 [00:00<00:02,  6.88it/s]\u001b[A\n",
      "loop param_grid:  17%|██████▏                              | 3/18 [00:00<00:03,  4.32it/s]\u001b[A\n",
      "loop param_grid:  28%|██████████▎                          | 5/18 [00:00<00:02,  5.10it/s]\u001b[A\n",
      "loop param_grid:  33%|████████████▎                        | 6/18 [00:01<00:02,  4.19it/s]\u001b[A\n",
      "loop param_grid:  44%|████████████████▍                    | 8/18 [00:01<00:02,  4.85it/s]\u001b[A\n",
      "loop param_grid:  50%|██████████████████▌                  | 9/18 [00:01<00:02,  4.21it/s]\u001b[A\n",
      "loop param_grid:  56%|████████████████████                | 10/18 [00:02<00:01,  4.46it/s]\u001b[A\n",
      "loop param_grid:  61%|██████████████████████              | 11/18 [00:02<00:01,  3.87it/s]\u001b[A\n",
      "loop param_grid:  67%|████████████████████████            | 12/18 [00:03<00:01,  3.14it/s]\u001b[A\n",
      "loop param_grid:  72%|██████████████████████████          | 13/18 [00:03<00:01,  3.82it/s]\u001b[A\n",
      "loop param_grid:  78%|████████████████████████████        | 14/18 [00:03<00:01,  3.20it/s]\u001b[A\n",
      "loop param_grid:  83%|██████████████████████████████      | 15/18 [00:04<00:01,  2.79it/s]\u001b[A\n",
      "loop param_grid:  89%|████████████████████████████████    | 16/18 [00:04<00:00,  3.27it/s]\u001b[A\n",
      "loop param_grid:  94%|██████████████████████████████████  | 17/18 [00:04<00:00,  2.77it/s]\u001b[A\n",
      "loop param_grid: 100%|████████████████████████████████████| 18/18 [00:05<00:00,  2.49it/s]\u001b[A\n",
      "loop lags_grid: 100%|███████████████████████████████████████| 1/1 [00:05<00:00,  5.21s/it]\u001b[A\n"
     ]
    },
    {
     "name": "stdout",
     "output_type": "stream",
     "text": [
      "`Forecaster` refitted using the best-found lags and parameters, and the whole data set: \n",
      "  Lags: [1 2 3] \n",
      "  Parameters: {'learning_rate': 0.1, 'max_depth': 10, 'n_estimators': 500}\n",
      "  Backtesting metric: 2019.0665799540207\n",
      "\n"
     ]
    }
   ],
   "source": [
    "# Grid search of hyperparameters and lags\n",
    "# ==============================================================================\n",
    "# Regressor hyperparameters\n",
    "param_grid = {\n",
    "    'n_estimators': [100, 400, 500],\n",
    "    'max_depth': [3, 5, 10],\n",
    "    'learning_rate': [0.01, 0.1]\n",
    "    }\n",
    "\n",
    "# Lags used as predictors\n",
    "# lags_grid = [11, 22, 33, [1, 2, 3, 23, 24, 25]]\n",
    "\n",
    "\n",
    "results_grid = grid_search_forecaster(\n",
    "        forecaster         = forecaster,\n",
    "        y                  = state_data.loc[state_data['Date'] < end_validation, 'zori'], # Train and validation data\n",
    "        exog               = state_data.loc[state_data['Date'] < end_validation, exog_variables],\n",
    "        param_grid         = param_grid,\n",
    "#         lags_grid          = lags_grid,\n",
    "        steps              = 6,\n",
    "        refit              = False,\n",
    "        metric             = 'mean_squared_error',\n",
    "        initial_train_size = int(len(data_train)), # Model is trained with trainign data\n",
    "        fixed_train_size   = False,\n",
    "        return_best        = True,\n",
    "        verbose            = False\n",
    "        )"
   ]
  },
  {
   "cell_type": "code",
   "execution_count": 935,
   "id": "7027c4fc",
   "metadata": {
    "scrolled": false
   },
   "outputs": [
    {
     "data": {
      "text/html": [
       "<div>\n",
       "<style scoped>\n",
       "    .dataframe tbody tr th:only-of-type {\n",
       "        vertical-align: middle;\n",
       "    }\n",
       "\n",
       "    .dataframe tbody tr th {\n",
       "        vertical-align: top;\n",
       "    }\n",
       "\n",
       "    .dataframe thead th {\n",
       "        text-align: right;\n",
       "    }\n",
       "</style>\n",
       "<table border=\"1\" class=\"dataframe\">\n",
       "  <thead>\n",
       "    <tr style=\"text-align: right;\">\n",
       "      <th></th>\n",
       "      <th>lags</th>\n",
       "      <th>params</th>\n",
       "      <th>mean_squared_error</th>\n",
       "      <th>learning_rate</th>\n",
       "      <th>max_depth</th>\n",
       "      <th>n_estimators</th>\n",
       "    </tr>\n",
       "  </thead>\n",
       "  <tbody>\n",
       "    <tr>\n",
       "      <th>17</th>\n",
       "      <td>[1, 2, 3]</td>\n",
       "      <td>{'learning_rate': 0.1, 'max_depth': 10, 'n_est...</td>\n",
       "      <td>2019.066580</td>\n",
       "      <td>0.1</td>\n",
       "      <td>10.0</td>\n",
       "      <td>500.0</td>\n",
       "    </tr>\n",
       "    <tr>\n",
       "      <th>16</th>\n",
       "      <td>[1, 2, 3]</td>\n",
       "      <td>{'learning_rate': 0.1, 'max_depth': 10, 'n_est...</td>\n",
       "      <td>2019.066580</td>\n",
       "      <td>0.1</td>\n",
       "      <td>10.0</td>\n",
       "      <td>400.0</td>\n",
       "    </tr>\n",
       "    <tr>\n",
       "      <th>14</th>\n",
       "      <td>[1, 2, 3]</td>\n",
       "      <td>{'learning_rate': 0.1, 'max_depth': 5, 'n_esti...</td>\n",
       "      <td>2027.277244</td>\n",
       "      <td>0.1</td>\n",
       "      <td>5.0</td>\n",
       "      <td>500.0</td>\n",
       "    </tr>\n",
       "    <tr>\n",
       "      <th>13</th>\n",
       "      <td>[1, 2, 3]</td>\n",
       "      <td>{'learning_rate': 0.1, 'max_depth': 5, 'n_esti...</td>\n",
       "      <td>2027.277244</td>\n",
       "      <td>0.1</td>\n",
       "      <td>5.0</td>\n",
       "      <td>400.0</td>\n",
       "    </tr>\n",
       "    <tr>\n",
       "      <th>11</th>\n",
       "      <td>[1, 2, 3]</td>\n",
       "      <td>{'learning_rate': 0.1, 'max_depth': 3, 'n_esti...</td>\n",
       "      <td>2027.735456</td>\n",
       "      <td>0.1</td>\n",
       "      <td>3.0</td>\n",
       "      <td>500.0</td>\n",
       "    </tr>\n",
       "  </tbody>\n",
       "</table>\n",
       "</div>"
      ],
      "text/plain": [
       "         lags                                             params  \\\n",
       "17  [1, 2, 3]  {'learning_rate': 0.1, 'max_depth': 10, 'n_est...   \n",
       "16  [1, 2, 3]  {'learning_rate': 0.1, 'max_depth': 10, 'n_est...   \n",
       "14  [1, 2, 3]  {'learning_rate': 0.1, 'max_depth': 5, 'n_esti...   \n",
       "13  [1, 2, 3]  {'learning_rate': 0.1, 'max_depth': 5, 'n_esti...   \n",
       "11  [1, 2, 3]  {'learning_rate': 0.1, 'max_depth': 3, 'n_esti...   \n",
       "\n",
       "    mean_squared_error  learning_rate  max_depth  n_estimators  \n",
       "17         2019.066580            0.1       10.0         500.0  \n",
       "16         2019.066580            0.1       10.0         400.0  \n",
       "14         2027.277244            0.1        5.0         500.0  \n",
       "13         2027.277244            0.1        5.0         400.0  \n",
       "11         2027.735456            0.1        3.0         500.0  "
      ]
     },
     "execution_count": 935,
     "metadata": {},
     "output_type": "execute_result"
    }
   ],
   "source": [
    "# Results of grid search\n",
    "# ==============================================================================\n",
    "results_grid.head(5)"
   ]
  },
  {
   "cell_type": "markdown",
   "id": "b74b1dc5",
   "metadata": {},
   "source": [
    "The best results are obtained using a time window of 6 lags and a Random Forest set up of {'max_depth': 10, 'n_estimators': 500}."
   ]
  },
  {
   "cell_type": "code",
   "execution_count": 936,
   "id": "8b1128bc",
   "metadata": {
    "scrolled": true
   },
   "outputs": [
    {
     "name": "stdout",
     "output_type": "stream",
     "text": [
      "Backtest error: 321.4289447062937\n"
     ]
    }
   ],
   "source": [
    "# Backtesting\n",
    "# ==============================================================================\n",
    "metric, predictions = backtesting_forecaster(\n",
    "    forecaster = forecaster,\n",
    "    y          = state_data['zori'],\n",
    "    initial_train_size = len(state_data.loc[state_data['Date'] < end_validation]),\n",
    "    fixed_train_size   = False,\n",
    "    steps      = 6,\n",
    "    refit      = False,\n",
    "    metric     = 'mean_squared_error',\n",
    "    verbose    = False # Change to True to see detailed information\n",
    "    )\n",
    "\n",
    "print(f\"Backtest error: {metric}\")"
   ]
  },
  {
   "cell_type": "code",
   "execution_count": 937,
   "id": "2bc9610b",
   "metadata": {
    "scrolled": true
   },
   "outputs": [
    {
     "data": {
      "text/plain": [
       "3    1613.933594\n",
       "4    1613.933594\n",
       "5    1613.933594\n",
       "6    1613.933594\n",
       "7    1613.933594\n",
       "8    1613.933594\n",
       "3    1613.933594\n",
       "Name: pred, dtype: float64"
      ]
     },
     "execution_count": 937,
     "metadata": {},
     "output_type": "execute_result"
    }
   ],
   "source": [
    "# Predictions\n",
    "# ==============================================================================\n",
    "predictions['pred']"
   ]
  },
  {
   "cell_type": "code",
   "execution_count": 938,
   "id": "e84b018c",
   "metadata": {
    "scrolled": true
   },
   "outputs": [
    {
     "name": "stderr",
     "output_type": "stream",
     "text": [
      "matplotlib.category INFO  Using categorical units to plot a list of strings that are all parsable as floats or dates. If these strings should be plotted as numbers, cast to the appropriate data type before plotting.\n",
      "matplotlib.category INFO  Using categorical units to plot a list of strings that are all parsable as floats or dates. If these strings should be plotted as numbers, cast to the appropriate data type before plotting.\n",
      "matplotlib.category INFO  Using categorical units to plot a list of strings that are all parsable as floats or dates. If these strings should be plotted as numbers, cast to the appropriate data type before plotting.\n",
      "matplotlib.category INFO  Using categorical units to plot a list of strings that are all parsable as floats or dates. If these strings should be plotted as numbers, cast to the appropriate data type before plotting.\n",
      "matplotlib.category INFO  Using categorical units to plot a list of strings that are all parsable as floats or dates. If these strings should be plotted as numbers, cast to the appropriate data type before plotting.\n",
      "matplotlib.category INFO  Using categorical units to plot a list of strings that are all parsable as floats or dates. If these strings should be plotted as numbers, cast to the appropriate data type before plotting.\n",
      "matplotlib.category INFO  Using categorical units to plot a list of strings that are all parsable as floats or dates. If these strings should be plotted as numbers, cast to the appropriate data type before plotting.\n",
      "matplotlib.category INFO  Using categorical units to plot a list of strings that are all parsable as floats or dates. If these strings should be plotted as numbers, cast to the appropriate data type before plotting.\n"
     ]
    },
    {
     "data": {
      "image/png": "[encoded data removed]",
      "text/plain": [
       "<Figure size 648x288 with 1 Axes>"
      ]
     },
     "metadata": {
      "needs_background": "light"
     },
     "output_type": "display_data"
    }
   ],
   "source": [
    "# Plot\n",
    "# ==============================================================================\n",
    "fig, ax = plt.subplots(figsize=(9, 4))\n",
    "ax.plot(data_train['Date'],\n",
    "        data_train['zori'])\n",
    "ax.plot(data_val['Date'],\n",
    "        data_val['zori'])\n",
    "ax.plot(data_test['Date'],\n",
    "        data_test['zori'])\n",
    "ax.plot(data_test['Date'], predictions['pred'][:-1])\n",
    "ax.set(xlabel=\"Date\",\n",
    "       ylabel=\"zori\",\n",
    "       title=\"date to predictions\")\n",
    "plt.show()"
   ]
  },
  {
   "cell_type": "code",
   "execution_count": 939,
   "id": "0ee8dda4",
   "metadata": {},
   "outputs": [
    {
     "name": "stdout",
     "output_type": "stream",
     "text": [
      "Test error (rmse): 19.253776763216162\n"
     ]
    }
   ],
   "source": [
    "# Test error\n",
    "# ==============================================================================\n",
    "error_mse = mean_squared_error(\n",
    "                y_true = data_test['zori'],\n",
    "                y_pred = predictions[:-1],\n",
    "                squared=False\n",
    "            )\n",
    "\n",
    "print(f\"Test error (rmse): {error_mse}\")"
   ]
  },
  {
   "cell_type": "code",
   "execution_count": 940,
   "id": "645f217a",
   "metadata": {},
   "outputs": [
    {
     "data": {
      "text/html": [
       "<div>\n",
       "<style scoped>\n",
       "    .dataframe tbody tr th:only-of-type {\n",
       "        vertical-align: middle;\n",
       "    }\n",
       "\n",
       "    .dataframe tbody tr th {\n",
       "        vertical-align: top;\n",
       "    }\n",
       "\n",
       "    .dataframe thead th {\n",
       "        text-align: right;\n",
       "    }\n",
       "</style>\n",
       "<table border=\"1\" class=\"dataframe\">\n",
       "  <thead>\n",
       "    <tr style=\"text-align: right;\">\n",
       "      <th></th>\n",
       "      <th>feature</th>\n",
       "      <th>importance</th>\n",
       "    </tr>\n",
       "  </thead>\n",
       "  <tbody>\n",
       "    <tr>\n",
       "      <th>0</th>\n",
       "      <td>lag_1</td>\n",
       "      <td>0.181182</td>\n",
       "    </tr>\n",
       "    <tr>\n",
       "      <th>1</th>\n",
       "      <td>lag_2</td>\n",
       "      <td>0.176774</td>\n",
       "    </tr>\n",
       "    <tr>\n",
       "      <th>2</th>\n",
       "      <td>lag_3</td>\n",
       "      <td>0.000115</td>\n",
       "    </tr>\n",
       "    <tr>\n",
       "      <th>3</th>\n",
       "      <td>cpi</td>\n",
       "      <td>0.092738</td>\n",
       "    </tr>\n",
       "    <tr>\n",
       "      <th>4</th>\n",
       "      <td>property_tax</td>\n",
       "      <td>0.000000</td>\n",
       "    </tr>\n",
       "    <tr>\n",
       "      <th>5</th>\n",
       "      <td>population</td>\n",
       "      <td>0.000000</td>\n",
       "    </tr>\n",
       "    <tr>\n",
       "      <th>6</th>\n",
       "      <td>property_crime</td>\n",
       "      <td>0.000000</td>\n",
       "    </tr>\n",
       "    <tr>\n",
       "      <th>7</th>\n",
       "      <td>burglary</td>\n",
       "      <td>0.000000</td>\n",
       "    </tr>\n",
       "    <tr>\n",
       "      <th>8</th>\n",
       "      <td>larceny</td>\n",
       "      <td>0.000004</td>\n",
       "    </tr>\n",
       "    <tr>\n",
       "      <th>9</th>\n",
       "      <td>motor_vehicle_theft</td>\n",
       "      <td>0.000000</td>\n",
       "    </tr>\n",
       "    <tr>\n",
       "      <th>10</th>\n",
       "      <td>gdp</td>\n",
       "      <td>0.000042</td>\n",
       "    </tr>\n",
       "    <tr>\n",
       "      <th>11</th>\n",
       "      <td>personal_consumption</td>\n",
       "      <td>0.000000</td>\n",
       "    </tr>\n",
       "    <tr>\n",
       "      <th>12</th>\n",
       "      <td>personal_income</td>\n",
       "      <td>0.000000</td>\n",
       "    </tr>\n",
       "    <tr>\n",
       "      <th>13</th>\n",
       "      <td>unemployment_rates</td>\n",
       "      <td>0.000148</td>\n",
       "    </tr>\n",
       "    <tr>\n",
       "      <th>14</th>\n",
       "      <td>house_price_index</td>\n",
       "      <td>0.548943</td>\n",
       "    </tr>\n",
       "    <tr>\n",
       "      <th>15</th>\n",
       "      <td>housing_units</td>\n",
       "      <td>0.000053</td>\n",
       "    </tr>\n",
       "  </tbody>\n",
       "</table>\n",
       "</div>"
      ],
      "text/plain": [
       "                 feature  importance\n",
       "0                  lag_1    0.181182\n",
       "1                  lag_2    0.176774\n",
       "2                  lag_3    0.000115\n",
       "3                    cpi    0.092738\n",
       "4           property_tax    0.000000\n",
       "5             population    0.000000\n",
       "6         property_crime    0.000000\n",
       "7               burglary    0.000000\n",
       "8                larceny    0.000004\n",
       "9    motor_vehicle_theft    0.000000\n",
       "10                   gdp    0.000042\n",
       "11  personal_consumption    0.000000\n",
       "12       personal_income    0.000000\n",
       "13    unemployment_rates    0.000148\n",
       "14     house_price_index    0.548943\n",
       "15         housing_units    0.000053"
      ]
     },
     "execution_count": 940,
     "metadata": {},
     "output_type": "execute_result"
    }
   ],
   "source": [
    "# Extract feature importance\n",
    "# ==============================================================================\n",
    "importance = forecaster.get_feature_importance()\n",
    "importance"
   ]
  },
  {
   "cell_type": "markdown",
   "id": "2f71ddfc",
   "metadata": {},
   "source": [
    "## 2. LightGBM"
   ]
  },
  {
   "cell_type": "code",
   "execution_count": 915,
   "id": "d7392dbe",
   "metadata": {
    "scrolled": true
   },
   "outputs": [
    {
     "data": {
      "text/plain": [
       "================= \n",
       "ForecasterAutoreg \n",
       "================= \n",
       "Regressor: LGBMRegressor(random_state=123) \n",
       "Lags: [1 2 3] \n",
       "Transformer for y: None \n",
       "Transformer for exog: None \n",
       "Window size: 3 \n",
       "Included exogenous: False \n",
       "Type of exogenous variable: None \n",
       "Exogenous variables names: None \n",
       "Training range: None \n",
       "Training index type: None \n",
       "Training index frequency: None \n",
       "Regressor parameters: {'boosting_type': 'gbdt', 'class_weight': None, 'colsample_bytree': 1.0, 'importance_type': 'split', 'learning_rate': 0.1, 'max_depth': -1, 'min_child_samples': 20, 'min_child_weight': 0.001, 'min_split_gain': 0.0, 'n_estimators': 100, 'n_jobs': -1, 'num_leaves': 31, 'objective': None, 'random_state': 123, 'reg_alpha': 0.0, 'reg_lambda': 0.0, 'silent': True, 'subsample': 1.0, 'subsample_for_bin': 200000, 'subsample_freq': 0} \n",
       "Creation date: 2022-12-04 23:37:07 \n",
       "Last fit date: None \n",
       "Skforecast version: 0.5.1 \n",
       "Python version: 3.9.12 "
      ]
     },
     "execution_count": 915,
     "metadata": {},
     "output_type": "execute_result"
    }
   ],
   "source": [
    "# Create forecaster\n",
    "# ==============================================================================\n",
    "forecaster = ForecasterAutoreg(\n",
    "                regressor = LGBMRegressor(random_state=123),\n",
    "                lags = 3\n",
    "             )\n",
    "\n",
    "forecaster"
   ]
  },
  {
   "cell_type": "code",
   "execution_count": 916,
   "id": "fa267fda",
   "metadata": {},
   "outputs": [
    {
     "name": "stdout",
     "output_type": "stream",
     "text": [
      "Number of models compared: 18.\n"
     ]
    },
    {
     "name": "stderr",
     "output_type": "stream",
     "text": [
      "loop lags_grid:   0%|                                               | 0/1 [00:00<?, ?it/s]\n",
      "loop param_grid:   0%|                                             | 0/18 [00:00<?, ?it/s]\u001b[A\n",
      "loop param_grid:  11%|████                                 | 2/18 [00:00<00:02,  7.16it/s]\u001b[A\n",
      "loop param_grid:  17%|██████▏                              | 3/18 [00:00<00:02,  6.10it/s]\u001b[A\n",
      "loop param_grid:  28%|██████████▎                          | 5/18 [00:00<00:01,  7.59it/s]\u001b[A\n",
      "loop param_grid:  33%|████████████▎                        | 6/18 [00:00<00:01,  6.73it/s]\u001b[A\n",
      "loop param_grid:  44%|████████████████▍                    | 8/18 [00:01<00:01,  7.52it/s]\u001b[A\n",
      "loop param_grid:  50%|██████████████████▌                  | 9/18 [00:01<00:01,  6.41it/s]\u001b[A\n",
      "loop param_grid:  61%|██████████████████████              | 11/18 [00:01<00:00,  7.63it/s]\u001b[A\n",
      "loop param_grid:  67%|████████████████████████            | 12/18 [00:01<00:00,  6.37it/s]\u001b[A\n",
      "loop param_grid:  78%|████████████████████████████        | 14/18 [00:01<00:00,  7.38it/s]\u001b[A\n",
      "loop param_grid:  83%|██████████████████████████████      | 15/18 [00:02<00:00,  6.51it/s]\u001b[A\n",
      "loop param_grid:  94%|██████████████████████████████████  | 17/18 [00:02<00:00,  7.40it/s]\u001b[A\n",
      "loop param_grid: 100%|████████████████████████████████████| 18/18 [00:02<00:00,  6.54it/s]\u001b[A\n",
      "loop lags_grid: 100%|███████████████████████████████████████| 1/1 [00:02<00:00,  2.63s/it]\u001b[A\n"
     ]
    },
    {
     "name": "stdout",
     "output_type": "stream",
     "text": [
      "`Forecaster` refitted using the best-found lags and parameters, and the whole data set: \n",
      "  Lags: [1 2 3] \n",
      "  Parameters: {'learning_rate': 0.1, 'max_depth': 10, 'n_estimators': 500}\n",
      "  Backtesting metric: 8267.534543551765\n",
      "\n"
     ]
    }
   ],
   "source": [
    "# Grid search of hyperparameters and lags\n",
    "# ==============================================================================\n",
    "# Regressor hyperparameters\n",
    "param_grid = {\n",
    "    'n_estimators': [100, 400, 500],\n",
    "    'max_depth': [3, 5, 10],\n",
    "    'learning_rate': [0.01, 0.1]\n",
    "}\n",
    "\n",
    "# Lags used as predictors\n",
    "# lags_grid = [6, [1, 2, 3, 6, 7, 8, 28, 29, 30]]\n",
    "\n",
    "results_grid = grid_search_forecaster(\n",
    "                        forecaster         = forecaster,\n",
    "                        y                  = state_data.loc[state_data['Date'] < end_validation, 'zori'],\n",
    "                        exog               = state_data.loc[state_data['Date'] < end_validation, exog_variables],\n",
    "                        param_grid         = param_grid,\n",
    "#                         lags_grid          = lags_grid,\n",
    "                        steps              = 6,\n",
    "                        refit              = False,\n",
    "                        metric             = 'mean_squared_error',\n",
    "                        initial_train_size = int(len(data_train)),\n",
    "                        fixed_train_size   = False,\n",
    "                        return_best        = True,\n",
    "                        verbose            = False\n",
    "               )"
   ]
  },
  {
   "cell_type": "code",
   "execution_count": 917,
   "id": "8da4f7dc",
   "metadata": {},
   "outputs": [
    {
     "name": "stdout",
     "output_type": "stream",
     "text": [
      "Finished loading model, total used 500 iterations\n",
      "Backtest error: 12044.229656720354\n"
     ]
    }
   ],
   "source": [
    "# Backtesting\n",
    "# ==============================================================================\n",
    "metric, predictions = backtesting_forecaster(\n",
    "                            forecaster         = forecaster,\n",
    "                            y                  = state_data['zori'],\n",
    "                            exog               = state_data[exog_variables],\n",
    "                            initial_train_size = len(state_data.loc[state_data['Date'] < end_validation]),\n",
    "                            fixed_train_size   = False,\n",
    "                            steps              = 6,\n",
    "                            refit              = False,\n",
    "                            metric             = 'mean_squared_error',\n",
    "                            verbose            = False\n",
    "                      )\n",
    "\n",
    "print(f\"Backtest error: {metric}\")"
   ]
  },
  {
   "cell_type": "code",
   "execution_count": 918,
   "id": "27fe5d3e",
   "metadata": {},
   "outputs": [
    {
     "data": {
      "text/html": [
       "<div>\n",
       "<style scoped>\n",
       "    .dataframe tbody tr th:only-of-type {\n",
       "        vertical-align: middle;\n",
       "    }\n",
       "\n",
       "    .dataframe tbody tr th {\n",
       "        vertical-align: top;\n",
       "    }\n",
       "\n",
       "    .dataframe thead th {\n",
       "        text-align: right;\n",
       "    }\n",
       "</style>\n",
       "<table border=\"1\" class=\"dataframe\">\n",
       "  <thead>\n",
       "    <tr style=\"text-align: right;\">\n",
       "      <th></th>\n",
       "      <th>feature</th>\n",
       "      <th>importance</th>\n",
       "    </tr>\n",
       "  </thead>\n",
       "  <tbody>\n",
       "    <tr>\n",
       "      <th>0</th>\n",
       "      <td>lag_1</td>\n",
       "      <td>121</td>\n",
       "    </tr>\n",
       "    <tr>\n",
       "      <th>1</th>\n",
       "      <td>lag_2</td>\n",
       "      <td>0</td>\n",
       "    </tr>\n",
       "    <tr>\n",
       "      <th>2</th>\n",
       "      <td>lag_3</td>\n",
       "      <td>0</td>\n",
       "    </tr>\n",
       "    <tr>\n",
       "      <th>3</th>\n",
       "      <td>cpi</td>\n",
       "      <td>0</td>\n",
       "    </tr>\n",
       "    <tr>\n",
       "      <th>4</th>\n",
       "      <td>property_tax</td>\n",
       "      <td>34</td>\n",
       "    </tr>\n",
       "    <tr>\n",
       "      <th>5</th>\n",
       "      <td>population</td>\n",
       "      <td>0</td>\n",
       "    </tr>\n",
       "    <tr>\n",
       "      <th>6</th>\n",
       "      <td>property_crime</td>\n",
       "      <td>0</td>\n",
       "    </tr>\n",
       "    <tr>\n",
       "      <th>7</th>\n",
       "      <td>burglary</td>\n",
       "      <td>0</td>\n",
       "    </tr>\n",
       "    <tr>\n",
       "      <th>8</th>\n",
       "      <td>larceny</td>\n",
       "      <td>0</td>\n",
       "    </tr>\n",
       "    <tr>\n",
       "      <th>9</th>\n",
       "      <td>motor_vehicle_theft</td>\n",
       "      <td>0</td>\n",
       "    </tr>\n",
       "    <tr>\n",
       "      <th>10</th>\n",
       "      <td>gdp</td>\n",
       "      <td>97</td>\n",
       "    </tr>\n",
       "    <tr>\n",
       "      <th>11</th>\n",
       "      <td>personal_consumption</td>\n",
       "      <td>0</td>\n",
       "    </tr>\n",
       "    <tr>\n",
       "      <th>12</th>\n",
       "      <td>personal_income</td>\n",
       "      <td>23</td>\n",
       "    </tr>\n",
       "    <tr>\n",
       "      <th>13</th>\n",
       "      <td>unemployment_rates</td>\n",
       "      <td>0</td>\n",
       "    </tr>\n",
       "    <tr>\n",
       "      <th>14</th>\n",
       "      <td>house_price_index</td>\n",
       "      <td>0</td>\n",
       "    </tr>\n",
       "    <tr>\n",
       "      <th>15</th>\n",
       "      <td>housing_units</td>\n",
       "      <td>225</td>\n",
       "    </tr>\n",
       "  </tbody>\n",
       "</table>\n",
       "</div>"
      ],
      "text/plain": [
       "                 feature  importance\n",
       "0                  lag_1         121\n",
       "1                  lag_2           0\n",
       "2                  lag_3           0\n",
       "3                    cpi           0\n",
       "4           property_tax          34\n",
       "5             population           0\n",
       "6         property_crime           0\n",
       "7               burglary           0\n",
       "8                larceny           0\n",
       "9    motor_vehicle_theft           0\n",
       "10                   gdp          97\n",
       "11  personal_consumption           0\n",
       "12       personal_income          23\n",
       "13    unemployment_rates           0\n",
       "14     house_price_index           0\n",
       "15         housing_units         225"
      ]
     },
     "execution_count": 918,
     "metadata": {},
     "output_type": "execute_result"
    }
   ],
   "source": [
    "# Extract feature importance\n",
    "# ==============================================================================\n",
    "importance = forecaster.get_feature_importance()\n",
    "importance"
   ]
  },
  {
   "cell_type": "code",
   "execution_count": 919,
   "id": "63e66d8b",
   "metadata": {},
   "outputs": [
    {
     "data": {
      "text/html": [
       "<div>\n",
       "<style scoped>\n",
       "    .dataframe tbody tr th:only-of-type {\n",
       "        vertical-align: middle;\n",
       "    }\n",
       "\n",
       "    .dataframe tbody tr th {\n",
       "        vertical-align: top;\n",
       "    }\n",
       "\n",
       "    .dataframe thead th {\n",
       "        text-align: right;\n",
       "    }\n",
       "</style>\n",
       "<table border=\"1\" class=\"dataframe\">\n",
       "  <thead>\n",
       "    <tr style=\"text-align: right;\">\n",
       "      <th></th>\n",
       "      <th>pred</th>\n",
       "    </tr>\n",
       "  </thead>\n",
       "  <tbody>\n",
       "    <tr>\n",
       "      <th>3</th>\n",
       "      <td>1519.66572</td>\n",
       "    </tr>\n",
       "    <tr>\n",
       "      <th>4</th>\n",
       "      <td>1519.66572</td>\n",
       "    </tr>\n",
       "    <tr>\n",
       "      <th>5</th>\n",
       "      <td>1519.66572</td>\n",
       "    </tr>\n",
       "    <tr>\n",
       "      <th>6</th>\n",
       "      <td>1519.66572</td>\n",
       "    </tr>\n",
       "    <tr>\n",
       "      <th>7</th>\n",
       "      <td>1519.66572</td>\n",
       "    </tr>\n",
       "    <tr>\n",
       "      <th>8</th>\n",
       "      <td>1519.66572</td>\n",
       "    </tr>\n",
       "    <tr>\n",
       "      <th>3</th>\n",
       "      <td>1519.66572</td>\n",
       "    </tr>\n",
       "  </tbody>\n",
       "</table>\n",
       "</div>"
      ],
      "text/plain": [
       "         pred\n",
       "3  1519.66572\n",
       "4  1519.66572\n",
       "5  1519.66572\n",
       "6  1519.66572\n",
       "7  1519.66572\n",
       "8  1519.66572\n",
       "3  1519.66572"
      ]
     },
     "execution_count": 919,
     "metadata": {},
     "output_type": "execute_result"
    }
   ],
   "source": [
    "predictions"
   ]
  },
  {
   "cell_type": "code",
   "execution_count": 920,
   "id": "557e89d4",
   "metadata": {
    "scrolled": true
   },
   "outputs": [
    {
     "name": "stderr",
     "output_type": "stream",
     "text": [
      "matplotlib.category INFO  Using categorical units to plot a list of strings that are all parsable as floats or dates. If these strings should be plotted as numbers, cast to the appropriate data type before plotting.\n",
      "matplotlib.category INFO  Using categorical units to plot a list of strings that are all parsable as floats or dates. If these strings should be plotted as numbers, cast to the appropriate data type before plotting.\n",
      "matplotlib.category INFO  Using categorical units to plot a list of strings that are all parsable as floats or dates. If these strings should be plotted as numbers, cast to the appropriate data type before plotting.\n",
      "matplotlib.category INFO  Using categorical units to plot a list of strings that are all parsable as floats or dates. If these strings should be plotted as numbers, cast to the appropriate data type before plotting.\n"
     ]
    },
    {
     "data": {
      "image/png": "[encoded data removed]",
      "text/plain": [
       "<Figure size 648x288 with 1 Axes>"
      ]
     },
     "metadata": {
      "needs_background": "light"
     },
     "output_type": "display_data"
    }
   ],
   "source": [
    "fig, ax = plt.subplots(figsize=(9, 4))\n",
    "ax.plot(state_data['Date'],\n",
    "        state_data['zori'])\n",
    "ax.plot(data_test['Date'], predictions['pred'][:-1])\n",
    "ax.set(xlabel=\"Date\",\n",
    "       ylabel=\"zori\",\n",
    "       title=\"date to predictions\")\n",
    "plt.show()"
   ]
  },
  {
   "cell_type": "code",
   "execution_count": 921,
   "id": "7596b936",
   "metadata": {},
   "outputs": [
    {
     "name": "stdout",
     "output_type": "stream",
     "text": [
      "Test error (rmse): 111.38567484020078\n"
     ]
    }
   ],
   "source": [
    "# Test error\n",
    "# ==============================================================================\n",
    "error_mse = mean_squared_error(\n",
    "                y_true = data_test['zori'],\n",
    "                y_pred = predictions[:-1],\n",
    "                squared=False\n",
    "            )\n",
    "\n",
    "print(f\"Test error (rmse): {error_mse}\")"
   ]
  },
  {
   "cell_type": "markdown",
   "id": "72adadf5",
   "metadata": {},
   "source": [
    "## 3. CatBoost"
   ]
  },
  {
   "cell_type": "code",
   "execution_count": 922,
   "id": "84e3a16a",
   "metadata": {
    "scrolled": false
   },
   "outputs": [
    {
     "data": {
      "text/plain": [
       "================= \n",
       "ForecasterAutoreg \n",
       "================= \n",
       "Regressor: <catboost.core.CatBoostRegressor object at 0x7fad4c243fd0> \n",
       "Lags: [1 2 3] \n",
       "Transformer for y: None \n",
       "Transformer for exog: None \n",
       "Window size: 3 \n",
       "Included exogenous: False \n",
       "Type of exogenous variable: None \n",
       "Exogenous variables names: None \n",
       "Training range: None \n",
       "Training index type: None \n",
       "Training index frequency: None \n",
       "Regressor parameters: {'loss_function': 'RMSE', 'silent': True, 'random_state': 123} \n",
       "Creation date: 2022-12-04 23:38:28 \n",
       "Last fit date: None \n",
       "Skforecast version: 0.5.1 \n",
       "Python version: 3.9.12 "
      ]
     },
     "execution_count": 922,
     "metadata": {},
     "output_type": "execute_result"
    }
   ],
   "source": [
    "# Create forecaster\n",
    "# ==============================================================================\n",
    "forecaster = ForecasterAutoreg(\n",
    "                regressor = CatBoostRegressor(random_state=123, silent=True),\n",
    "                lags = 3\n",
    "             )\n",
    "\n",
    "forecaster"
   ]
  },
  {
   "cell_type": "code",
   "execution_count": 923,
   "id": "375cd458",
   "metadata": {},
   "outputs": [],
   "source": [
    "state_data, data_train, data_val, data_test = selectAndSplitByState(data, 'VA')"
   ]
  },
  {
   "cell_type": "code",
   "execution_count": 924,
   "id": "e7d700d2",
   "metadata": {
    "scrolled": true
   },
   "outputs": [
    {
     "name": "stdout",
     "output_type": "stream",
     "text": [
      "Number of models compared: 18.\n"
     ]
    },
    {
     "name": "stderr",
     "output_type": "stream",
     "text": [
      "loop lags_grid:   0%|                                               | 0/1 [00:00<?, ?it/s]\n",
      "loop param_grid:   0%|                                             | 0/18 [00:00<?, ?it/s]\u001b[A\n",
      "loop param_grid:  11%|████                                 | 2/18 [00:00<00:01, 11.18it/s]\u001b[A\n",
      "loop param_grid:  22%|████████▏                            | 4/18 [00:00<00:01, 11.98it/s]\u001b[A\n",
      "loop param_grid:  33%|████████████▎                        | 6/18 [00:00<00:01,  8.13it/s]\u001b[A\n",
      "loop param_grid:  44%|████████████████▍                    | 8/18 [00:00<00:01,  7.35it/s]\u001b[A\n",
      "loop param_grid:  50%|██████████████████▌                  | 9/18 [00:01<00:01,  5.72it/s]\u001b[A\n",
      "loop param_grid:  61%|██████████████████████              | 11/18 [00:01<00:00,  7.56it/s]\u001b[A\n",
      "loop param_grid:  67%|████████████████████████            | 12/18 [00:01<00:00,  7.72it/s]\u001b[A\n",
      "loop param_grid:  78%|████████████████████████████        | 14/18 [00:01<00:00,  7.66it/s]\u001b[A\n",
      "loop param_grid:  83%|██████████████████████████████      | 15/18 [00:02<00:00,  6.98it/s]\u001b[A\n",
      "loop param_grid:  94%|██████████████████████████████████  | 17/18 [00:02<00:00,  5.40it/s]\u001b[A\n",
      "loop param_grid: 100%|████████████████████████████████████| 18/18 [00:03<00:00,  3.95it/s]\u001b[A\n",
      "loop lags_grid: 100%|███████████████████████████████████████| 1/1 [00:03<00:00,  3.02s/it]\u001b[A"
     ]
    },
    {
     "name": "stdout",
     "output_type": "stream",
     "text": [
      "`Forecaster` refitted using the best-found lags and parameters, and the whole data set: \n",
      "  Lags: [1 2 3] \n",
      "  Parameters: {'learning_rate': 0.1, 'max_depth': 3, 'n_estimators': 400}\n",
      "  Backtesting metric: 2589.1993489148713\n",
      "\n"
     ]
    },
    {
     "name": "stderr",
     "output_type": "stream",
     "text": [
      "\n"
     ]
    }
   ],
   "source": [
    "# Grid search of hyperparameters and lags\n",
    "# ==============================================================================\n",
    "# Regressor hyperparameters\n",
    "param_grid = {\n",
    "    'n_estimators': [100, 400, 500],\n",
    "    'max_depth': [3, 5, 10],\n",
    "    'learning_rate': [0.01, 0.1]\n",
    "}\n",
    "\n",
    "# Lags used as predictors\n",
    "# lags_grid = [6, [1, 2, 3, 6, 7, 8, 13, 14, 15]]\n",
    "\n",
    "results_grid = grid_search_forecaster(\n",
    "                        forecaster         = forecaster,\n",
    "                        y                  = state_data.loc[state_data['Date'] < end_validation, 'zori'],\n",
    "                        exog               = state_data.loc[state_data['Date'] < end_validation, exog_variables],\n",
    "                        param_grid         = param_grid,\n",
    "#                         lags_grid          = lags_grid,\n",
    "                        steps              = 6,\n",
    "                        refit              = False,\n",
    "                        metric             = 'mean_squared_error',\n",
    "                        initial_train_size = int(len(data_train)),\n",
    "                        fixed_train_size   = False,\n",
    "                        return_best        = True,\n",
    "                        verbose            = False\n",
    "               )"
   ]
  },
  {
   "cell_type": "code",
   "execution_count": 925,
   "id": "39def789",
   "metadata": {},
   "outputs": [
    {
     "data": {
      "text/html": [
       "<div>\n",
       "<style scoped>\n",
       "    .dataframe tbody tr th:only-of-type {\n",
       "        vertical-align: middle;\n",
       "    }\n",
       "\n",
       "    .dataframe tbody tr th {\n",
       "        vertical-align: top;\n",
       "    }\n",
       "\n",
       "    .dataframe thead th {\n",
       "        text-align: right;\n",
       "    }\n",
       "</style>\n",
       "<table border=\"1\" class=\"dataframe\">\n",
       "  <thead>\n",
       "    <tr style=\"text-align: right;\">\n",
       "      <th></th>\n",
       "      <th>lags</th>\n",
       "      <th>params</th>\n",
       "      <th>mean_squared_error</th>\n",
       "      <th>learning_rate</th>\n",
       "      <th>max_depth</th>\n",
       "      <th>n_estimators</th>\n",
       "    </tr>\n",
       "  </thead>\n",
       "  <tbody>\n",
       "    <tr>\n",
       "      <th>10</th>\n",
       "      <td>[1, 2, 3]</td>\n",
       "      <td>{'learning_rate': 0.1, 'max_depth': 3, 'n_esti...</td>\n",
       "      <td>2589.199349</td>\n",
       "      <td>0.1</td>\n",
       "      <td>3.0</td>\n",
       "      <td>400.0</td>\n",
       "    </tr>\n",
       "    <tr>\n",
       "      <th>11</th>\n",
       "      <td>[1, 2, 3]</td>\n",
       "      <td>{'learning_rate': 0.1, 'max_depth': 3, 'n_esti...</td>\n",
       "      <td>2597.617867</td>\n",
       "      <td>0.1</td>\n",
       "      <td>3.0</td>\n",
       "      <td>500.0</td>\n",
       "    </tr>\n",
       "    <tr>\n",
       "      <th>9</th>\n",
       "      <td>[1, 2, 3]</td>\n",
       "      <td>{'learning_rate': 0.1, 'max_depth': 3, 'n_esti...</td>\n",
       "      <td>2712.320764</td>\n",
       "      <td>0.1</td>\n",
       "      <td>3.0</td>\n",
       "      <td>100.0</td>\n",
       "    </tr>\n",
       "    <tr>\n",
       "      <th>14</th>\n",
       "      <td>[1, 2, 3]</td>\n",
       "      <td>{'learning_rate': 0.1, 'max_depth': 5, 'n_esti...</td>\n",
       "      <td>3134.783407</td>\n",
       "      <td>0.1</td>\n",
       "      <td>5.0</td>\n",
       "      <td>500.0</td>\n",
       "    </tr>\n",
       "    <tr>\n",
       "      <th>13</th>\n",
       "      <td>[1, 2, 3]</td>\n",
       "      <td>{'learning_rate': 0.1, 'max_depth': 5, 'n_esti...</td>\n",
       "      <td>3135.004138</td>\n",
       "      <td>0.1</td>\n",
       "      <td>5.0</td>\n",
       "      <td>400.0</td>\n",
       "    </tr>\n",
       "  </tbody>\n",
       "</table>\n",
       "</div>"
      ],
      "text/plain": [
       "         lags                                             params  \\\n",
       "10  [1, 2, 3]  {'learning_rate': 0.1, 'max_depth': 3, 'n_esti...   \n",
       "11  [1, 2, 3]  {'learning_rate': 0.1, 'max_depth': 3, 'n_esti...   \n",
       "9   [1, 2, 3]  {'learning_rate': 0.1, 'max_depth': 3, 'n_esti...   \n",
       "14  [1, 2, 3]  {'learning_rate': 0.1, 'max_depth': 5, 'n_esti...   \n",
       "13  [1, 2, 3]  {'learning_rate': 0.1, 'max_depth': 5, 'n_esti...   \n",
       "\n",
       "    mean_squared_error  learning_rate  max_depth  n_estimators  \n",
       "10         2589.199349            0.1        3.0         400.0  \n",
       "11         2597.617867            0.1        3.0         500.0  \n",
       "9          2712.320764            0.1        3.0         100.0  \n",
       "14         3134.783407            0.1        5.0         500.0  \n",
       "13         3135.004138            0.1        5.0         400.0  "
      ]
     },
     "execution_count": 925,
     "metadata": {},
     "output_type": "execute_result"
    }
   ],
   "source": [
    "results_grid.head(5)"
   ]
  },
  {
   "cell_type": "code",
   "execution_count": 926,
   "id": "ba7bbbe0",
   "metadata": {},
   "outputs": [
    {
     "name": "stdout",
     "output_type": "stream",
     "text": [
      "Backtest error: 888.0980483318027\n"
     ]
    }
   ],
   "source": [
    "# Backtesting\n",
    "# ==============================================================================\n",
    "metric, predictions = backtesting_forecaster(\n",
    "                            forecaster         = forecaster,\n",
    "                            y                  = state_data['zori'],\n",
    "                            exog               = state_data[exog_variables],\n",
    "                            initial_train_size = len(state_data.loc[state_data['Date'] < end_validation]),\n",
    "                            fixed_train_size   = False,\n",
    "                            steps              = 6,\n",
    "                            refit              = False,\n",
    "                            metric             = 'mean_squared_error',\n",
    "                            verbose            = False\n",
    "                      )\n",
    "\n",
    "print(f\"Backtest error: {metric}\")"
   ]
  },
  {
   "cell_type": "code",
   "execution_count": 927,
   "id": "2f8ea3ad",
   "metadata": {},
   "outputs": [
    {
     "data": {
      "text/html": [
       "<div>\n",
       "<style scoped>\n",
       "    .dataframe tbody tr th:only-of-type {\n",
       "        vertical-align: middle;\n",
       "    }\n",
       "\n",
       "    .dataframe tbody tr th {\n",
       "        vertical-align: top;\n",
       "    }\n",
       "\n",
       "    .dataframe thead th {\n",
       "        text-align: right;\n",
       "    }\n",
       "</style>\n",
       "<table border=\"1\" class=\"dataframe\">\n",
       "  <thead>\n",
       "    <tr style=\"text-align: right;\">\n",
       "      <th></th>\n",
       "      <th>feature</th>\n",
       "      <th>importance</th>\n",
       "    </tr>\n",
       "  </thead>\n",
       "  <tbody>\n",
       "    <tr>\n",
       "      <th>0</th>\n",
       "      <td>lag_1</td>\n",
       "      <td>1.544625</td>\n",
       "    </tr>\n",
       "    <tr>\n",
       "      <th>1</th>\n",
       "      <td>lag_2</td>\n",
       "      <td>24.827526</td>\n",
       "    </tr>\n",
       "    <tr>\n",
       "      <th>2</th>\n",
       "      <td>lag_3</td>\n",
       "      <td>7.513479</td>\n",
       "    </tr>\n",
       "    <tr>\n",
       "      <th>3</th>\n",
       "      <td>cpi</td>\n",
       "      <td>2.160195</td>\n",
       "    </tr>\n",
       "    <tr>\n",
       "      <th>4</th>\n",
       "      <td>property_tax</td>\n",
       "      <td>3.479778</td>\n",
       "    </tr>\n",
       "    <tr>\n",
       "      <th>5</th>\n",
       "      <td>population</td>\n",
       "      <td>4.610255</td>\n",
       "    </tr>\n",
       "    <tr>\n",
       "      <th>6</th>\n",
       "      <td>property_crime</td>\n",
       "      <td>4.729183</td>\n",
       "    </tr>\n",
       "    <tr>\n",
       "      <th>7</th>\n",
       "      <td>burglary</td>\n",
       "      <td>2.126283</td>\n",
       "    </tr>\n",
       "    <tr>\n",
       "      <th>8</th>\n",
       "      <td>larceny</td>\n",
       "      <td>17.779152</td>\n",
       "    </tr>\n",
       "    <tr>\n",
       "      <th>9</th>\n",
       "      <td>motor_vehicle_theft</td>\n",
       "      <td>0.300837</td>\n",
       "    </tr>\n",
       "    <tr>\n",
       "      <th>10</th>\n",
       "      <td>gdp</td>\n",
       "      <td>2.216770</td>\n",
       "    </tr>\n",
       "    <tr>\n",
       "      <th>11</th>\n",
       "      <td>personal_consumption</td>\n",
       "      <td>2.991517</td>\n",
       "    </tr>\n",
       "    <tr>\n",
       "      <th>12</th>\n",
       "      <td>personal_income</td>\n",
       "      <td>13.071206</td>\n",
       "    </tr>\n",
       "    <tr>\n",
       "      <th>13</th>\n",
       "      <td>unemployment_rates</td>\n",
       "      <td>6.136555</td>\n",
       "    </tr>\n",
       "    <tr>\n",
       "      <th>14</th>\n",
       "      <td>house_price_index</td>\n",
       "      <td>6.087575</td>\n",
       "    </tr>\n",
       "    <tr>\n",
       "      <th>15</th>\n",
       "      <td>housing_units</td>\n",
       "      <td>0.425064</td>\n",
       "    </tr>\n",
       "  </tbody>\n",
       "</table>\n",
       "</div>"
      ],
      "text/plain": [
       "                 feature  importance\n",
       "0                  lag_1    1.544625\n",
       "1                  lag_2   24.827526\n",
       "2                  lag_3    7.513479\n",
       "3                    cpi    2.160195\n",
       "4           property_tax    3.479778\n",
       "5             population    4.610255\n",
       "6         property_crime    4.729183\n",
       "7               burglary    2.126283\n",
       "8                larceny   17.779152\n",
       "9    motor_vehicle_theft    0.300837\n",
       "10                   gdp    2.216770\n",
       "11  personal_consumption    2.991517\n",
       "12       personal_income   13.071206\n",
       "13    unemployment_rates    6.136555\n",
       "14     house_price_index    6.087575\n",
       "15         housing_units    0.425064"
      ]
     },
     "execution_count": 927,
     "metadata": {},
     "output_type": "execute_result"
    }
   ],
   "source": [
    "# Extract feature importance\n",
    "# ==============================================================================\n",
    "importance = forecaster.get_feature_importance()\n",
    "importance"
   ]
  },
  {
   "cell_type": "code",
   "execution_count": 928,
   "id": "04b0ff59",
   "metadata": {
    "scrolled": true
   },
   "outputs": [
    {
     "data": {
      "text/html": [
       "<div>\n",
       "<style scoped>\n",
       "    .dataframe tbody tr th:only-of-type {\n",
       "        vertical-align: middle;\n",
       "    }\n",
       "\n",
       "    .dataframe tbody tr th {\n",
       "        vertical-align: top;\n",
       "    }\n",
       "\n",
       "    .dataframe thead th {\n",
       "        text-align: right;\n",
       "    }\n",
       "</style>\n",
       "<table border=\"1\" class=\"dataframe\">\n",
       "  <thead>\n",
       "    <tr style=\"text-align: right;\">\n",
       "      <th></th>\n",
       "      <th>pred</th>\n",
       "    </tr>\n",
       "  </thead>\n",
       "  <tbody>\n",
       "    <tr>\n",
       "      <th>3</th>\n",
       "      <td>1613.704822</td>\n",
       "    </tr>\n",
       "    <tr>\n",
       "      <th>4</th>\n",
       "      <td>1607.790770</td>\n",
       "    </tr>\n",
       "    <tr>\n",
       "      <th>5</th>\n",
       "      <td>1607.790770</td>\n",
       "    </tr>\n",
       "    <tr>\n",
       "      <th>6</th>\n",
       "      <td>1612.984326</td>\n",
       "    </tr>\n",
       "    <tr>\n",
       "      <th>7</th>\n",
       "      <td>1613.704822</td>\n",
       "    </tr>\n",
       "    <tr>\n",
       "      <th>8</th>\n",
       "      <td>1612.930170</td>\n",
       "    </tr>\n",
       "    <tr>\n",
       "      <th>3</th>\n",
       "      <td>1578.140631</td>\n",
       "    </tr>\n",
       "  </tbody>\n",
       "</table>\n",
       "</div>"
      ],
      "text/plain": [
       "          pred\n",
       "3  1613.704822\n",
       "4  1607.790770\n",
       "5  1607.790770\n",
       "6  1612.984326\n",
       "7  1613.704822\n",
       "8  1612.930170\n",
       "3  1578.140631"
      ]
     },
     "execution_count": 928,
     "metadata": {},
     "output_type": "execute_result"
    }
   ],
   "source": [
    "predictions"
   ]
  },
  {
   "cell_type": "code",
   "execution_count": 929,
   "id": "15a00755",
   "metadata": {
    "scrolled": true
   },
   "outputs": [
    {
     "name": "stderr",
     "output_type": "stream",
     "text": [
      "matplotlib.category INFO  Using categorical units to plot a list of strings that are all parsable as floats or dates. If these strings should be plotted as numbers, cast to the appropriate data type before plotting.\n",
      "matplotlib.category INFO  Using categorical units to plot a list of strings that are all parsable as floats or dates. If these strings should be plotted as numbers, cast to the appropriate data type before plotting.\n",
      "matplotlib.category INFO  Using categorical units to plot a list of strings that are all parsable as floats or dates. If these strings should be plotted as numbers, cast to the appropriate data type before plotting.\n",
      "matplotlib.category INFO  Using categorical units to plot a list of strings that are all parsable as floats or dates. If these strings should be plotted as numbers, cast to the appropriate data type before plotting.\n"
     ]
    },
    {
     "data": {
      "image/png": "[encoded data removed]",
      "text/plain": [
       "<Figure size 648x288 with 1 Axes>"
      ]
     },
     "metadata": {
      "needs_background": "light"
     },
     "output_type": "display_data"
    }
   ],
   "source": [
    "fig, ax = plt.subplots(figsize=(9, 4))\n",
    "ax.plot(state_data['Date'],\n",
    "        state_data['zori'], label='history')\n",
    "# ax.plot(data_test['Date'],\n",
    "#         data_test['zori'], label = 'test')\n",
    "ax.plot(data_test['Date'], predictions['pred'][:-1], label = 'pred')\n",
    "ax.set(xlabel=\"Date\",\n",
    "       ylabel=\"zori\",\n",
    "       title=\"date to predictions\")\n",
    "plt.show()"
   ]
  },
  {
   "cell_type": "code",
   "execution_count": 930,
   "id": "7a5828bb",
   "metadata": {},
   "outputs": [
    {
     "name": "stdout",
     "output_type": "stream",
     "text": [
      "Test error (mse): 20.99214423456708\n"
     ]
    }
   ],
   "source": [
    "# Test error\n",
    "# ==============================================================================\n",
    "error_mse = mean_squared_error(\n",
    "                y_true = data_test['zori'],\n",
    "                y_pred = predictions[:-1],\n",
    "                squared=False\n",
    "            )\n",
    "\n",
    "print(f\"Test error (mse): {error_mse}\")"
   ]
  }
 ],
 "metadata": {
  "kernelspec": {
   "display_name": "Python 3 (ipykernel)",
   "language": "python",
   "name": "python3"
  },
  "language_info": {
   "codemirror_mode": {
    "name": "ipython",
    "version": 3
   },
   "file_extension": ".py",
   "mimetype": "text/x-python",
   "name": "python",
   "nbconvert_exporter": "python",
   "pygments_lexer": "ipython3",
   "version": "3.9.12"
  }
 },
 "nbformat": 4,
 "nbformat_minor": 5
}
