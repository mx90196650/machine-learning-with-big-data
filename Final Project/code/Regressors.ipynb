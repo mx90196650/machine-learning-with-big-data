{
 "cells": [
  {
   "cell_type": "markdown",
   "id": "1b2bb6bd",
   "metadata": {},
   "source": [
    "## Import functions and metrics"
   ]
  },
  {
   "cell_type": "code",
   "execution_count": 84,
   "id": "bc175207",
   "metadata": {},
   "outputs": [],
   "source": [
    "import numpy as np\n",
    "import pandas as pd\n",
    "from tqdm import tqdm\n",
    "import time\n",
    "\n",
    "# Dummy\n",
    "from sklearn.dummy import DummyRegressor\n",
    "\n",
    "# Ensemble\n",
    "from sklearn.ensemble import AdaBoostRegressor\n",
    "from sklearn.ensemble import BaggingRegressor\n",
    "from sklearn.ensemble import ExtraTreesRegressor\n",
    "from sklearn.ensemble import GradientBoostingRegressor\n",
    "from sklearn.ensemble import RandomForestRegressor\n",
    "from sklearn.ensemble import HistGradientBoostingRegressor\n",
    "\n",
    "# Linear\n",
    "## Classical linear regressors\n",
    "from sklearn.linear_model import LinearRegression\n",
    "from sklearn.linear_model import Ridge\n",
    "from sklearn.linear_model import SGDRegressor\n",
    "\n",
    "## Regressors with variable selection\n",
    "from sklearn.linear_model import ElasticNet\n",
    "from sklearn.linear_model import Lasso\n",
    "\n",
    "## Bayesian regressors\n",
    "from sklearn.linear_model import ARDRegression\n",
    "from sklearn.linear_model import BayesianRidge\n",
    "\n",
    "## Outlier-robust regressors\n",
    "from sklearn.linear_model import HuberRegressor\n",
    "from sklearn.linear_model import TheilSenRegressor\n",
    "\n",
    "## Generalized linear models (GLM) for regression\n",
    "from sklearn.linear_model import PoissonRegressor\n",
    "from sklearn.linear_model import TweedieRegressor\n",
    "from sklearn.linear_model import GammaRegressor\n",
    "\n",
    "## Miscellaneous\n",
    "from sklearn.linear_model import PassiveAggressiveRegressor\n",
    "\n",
    "# Nearest Neighbors\n",
    "from sklearn.neighbors import KNeighborsRegressor\n",
    "\n",
    "# SVM\n",
    "from sklearn.svm import LinearSVR\n",
    "\n",
    "# Decision Trees\n",
    "from sklearn.tree import DecisionTreeRegressor\n",
    "from sklearn.tree import ExtraTreeRegressor\n",
    "\n",
    "# Metrics\n",
    "from sklearn.metrics import explained_variance_score\n",
    "from sklearn.metrics import mean_squared_error\n",
    "from sklearn.metrics import r2_score\n",
    "from sklearn.metrics import mean_absolute_error\n",
    "from sklearn.metrics import recall_score\n",
    "from sklearn.metrics import precision_score\n",
    "from sklearn.metrics import f1_score\n",
    "\n",
    "from sklearn.model_selection import KFold\n",
    "from sklearn.model_selection import train_test_split\n",
    "from sklearn.model_selection import cross_val_score\n",
    "from sklearn.preprocessing import scale, normalize\n",
    "from sklearn.model_selection import validation_curve\n",
    "\n",
    "import matplotlib.pyplot as plt "
   ]
  },
  {
   "cell_type": "markdown",
   "id": "80e9bcdb",
   "metadata": {},
   "source": [
    "## Import data and split"
   ]
  },
  {
   "cell_type": "code",
   "execution_count": 3,
   "id": "768a0b66",
   "metadata": {},
   "outputs": [],
   "source": [
    "def describe(arr):\n",
    "    # measures of central tendency\n",
    "    mean = np.mean(arr)\n",
    "    median = np.median(arr)\n",
    "\n",
    "    # measures of dispersion\n",
    "    min = np.amin(arr)\n",
    "    max = np.amax(arr)\n",
    "    range = np.ptp(arr)\n",
    "    variance = np.var(arr)\n",
    "    sd = np.std(arr)\n",
    "\n",
    "    print(\"Descriptive analysis\")\n",
    "    print(\"Array =\", arr)\n",
    "    print(\"Measures of Central Tendency\")\n",
    "    print(\"Mean =\", mean)\n",
    "    print(\"Median =\", median)\n",
    "    print(\"Measures of Dispersion\")\n",
    "    print(\"Minimum =\", min)\n",
    "    print(\"Maximum =\", max)\n",
    "    print(\"Range =\", range)\n",
    "    print(\"Variance =\", variance)\n",
    "    print(\"Standard Deviation =\", sd)\n",
    "    print(\"(M, N) = (\", len(arr), \",\", (len(arr[0]) if type(arr[0]) == np.ndarray else 1), \")\")"
   ]
  },
  {
   "cell_type": "code",
   "execution_count": 3,
   "id": "dbea048c",
   "metadata": {},
   "outputs": [
    {
     "name": "stderr",
     "output_type": "stream",
     "text": [
      "/Users/alberthsieh/opt/anaconda3/lib/python3.9/site-packages/sklearn/preprocessing/_data.py:235: UserWarning: Numerical issues were encountered when centering the data and might not be solved. Dataset may contain too large values. You may need to prescale your features.\n",
      "  warnings.warn(\n",
      "/Users/alberthsieh/opt/anaconda3/lib/python3.9/site-packages/sklearn/preprocessing/_data.py:235: UserWarning: Numerical issues were encountered when centering the data and might not be solved. Dataset may contain too large values. You may need to prescale your features.\n",
      "  warnings.warn(\n"
     ]
    },
    {
     "name": "stdout",
     "output_type": "stream",
     "text": [
      "### X_train\n",
      "Descriptive analysis\n",
      "Array = [[-1.38257167e+00 -1.36072222e+00 -4.84691249e-02 ...  1.93854207e+00\n",
      "   2.53034238e+00  1.24470000e+04]\n",
      " [-1.38257167e+00 -1.36072222e+00 -4.84691249e-02 ...  1.93854207e+00\n",
      "   2.53034238e+00  5.42960000e+04]\n",
      " [-1.38257167e+00 -1.36072222e+00 -4.84691249e-02 ...  1.93854207e+00\n",
      "   2.53034238e+00  3.38390000e+04]\n",
      " ...\n",
      " [ 1.32496452e+00  9.97026879e-01 -4.84691249e-02 ... -1.13157517e+00\n",
      "  -2.25641283e+00  4.00740000e+04]\n",
      " [ 1.32496452e+00  1.29174552e+00 -4.84691249e-02 ... -1.13157517e+00\n",
      "  -2.13674395e+00  4.00740000e+04]\n",
      " [ 1.32496452e+00  1.58646415e+00 -4.84691249e-02 ... -1.13157517e+00\n",
      "  -2.13674395e+00  4.00740000e+04]]\n",
      "Measures of Central Tendency\n",
      "Mean = 321.21340519831733\n",
      "Median = -0.06262242910851495\n",
      "Measures of Dispersion\n",
      "Minimum = -3.2137638748632056\n",
      "Maximum = 839919.0\n",
      "Range = 839922.2137638748\n",
      "Variance = 120468150.40333891\n",
      "Standard Deviation = 10975.798394802034\n",
      "(M, N) = ( 120320 , 208 )\n",
      "\n",
      "### y_train\n",
      "Descriptive analysis\n",
      "Array = [-0.01373456 -0.01373456 -0.01373456 ... -0.01373457 -0.01373457\n",
      " -0.01373457]\n",
      "Measures of Central Tendency\n",
      "Mean = -2.7165031453594256e-18\n",
      "Median = -0.013734565422930806\n",
      "Measures of Dispersion\n",
      "Minimum = -0.013734566233726809\n",
      "Maximum = 123.377565480839\n",
      "Range = 123.39130004707272\n",
      "Variance = 0.9999999999999998\n",
      "Standard Deviation = 0.9999999999999999\n",
      "(M, N) = ( 120320 , 1 )\n",
      "\n",
      "### X_test\n",
      "Descriptive analysis\n",
      "Array = [[ 0.00000000e+00 -1.58113883e+00 -4.84691249e-02 ...  2.19065061e+00\n",
      "   1.20041728e+00  1.24470000e+04]\n",
      " [ 0.00000000e+00 -1.58113883e+00 -4.84691249e-02 ...  2.19065061e+00\n",
      "   1.20041728e+00  5.42960000e+04]\n",
      " [ 0.00000000e+00 -1.58113883e+00 -4.84691249e-02 ...  2.19065061e+00\n",
      "   1.20041728e+00  3.38390000e+04]\n",
      " ...\n",
      " [ 0.00000000e+00  9.48683298e-01 -4.84691249e-02 ... -1.13391891e+00\n",
      "  -1.46667155e+00  4.00740000e+04]\n",
      " [ 0.00000000e+00  1.26491106e+00 -4.84691249e-02 ... -1.13326368e+00\n",
      "  -1.46667155e+00  4.00740000e+04]\n",
      " [ 0.00000000e+00  1.58113883e+00 -4.84691249e-02 ... -1.13326368e+00\n",
      "  -1.64447747e+00  4.00740000e+04]]\n",
      "Measures of Central Tendency\n",
      "Mean = 321.21340519831733\n",
      "Median = -0.06262242910851495\n",
      "Measures of Dispersion\n",
      "Minimum = -3.0669248498438693\n",
      "Maximum = 839919.0\n",
      "Range = 839922.0669248499\n",
      "Variance = 120468150.39853126\n",
      "Standard Deviation = 10975.798394583022\n",
      "(M, N) = ( 28160 , 208 )\n",
      "\n",
      "### y_test\n",
      "Descriptive analysis\n",
      "Array = [-0.02698307 -0.0270886  -0.02666461 ... -0.02812259 -0.02812548\n",
      " -0.02812548]\n",
      "Measures of Central Tendency\n",
      "Mean = 1.312081756375185e-17\n",
      "Median = -0.027802268596218288\n",
      "Measures of Dispersion\n",
      "Minimum = -0.028784578152323534\n",
      "Maximum = 60.210117578223574\n",
      "Range = 60.2389021563759\n",
      "Variance = 1.0\n",
      "Standard Deviation = 1.0\n",
      "(M, N) = ( 28160 , 1 )\n"
     ]
    }
   ],
   "source": [
    "train_data = pd.read_csv('../data/train_data.csv', index_col=False)\n",
    "test_data = pd.read_csv('../data/test_data.csv', index_col=False)\n",
    "# train_data = scale(train_data)\n",
    "# test_data = scale(test_data)\n",
    "X_train = train_data.drop(['Zori', 'State','CityID'], axis=1).to_numpy()\n",
    "# X_train = train_data.drop(['Zori', 'State', 'Year','Ada','Adams','Alameda','Allegheny','Anne Arundel','Anoka','Arapahoe','Atlantic','Baldwin','Baltimore','Bay','Beaver','Bell','Benton','Bergen','Bexar','Boone','Boulder','Brazoria','Brevard','Bristol','Broward','Bucks','Burlington','Butler','Camden','Campbell','Carroll','Cass','Chatham','Chester','Chesterfield','Clackamas','Clark','Clay','Clayton','Cobb','Collin','Columbia','Contra Costa','Cook','Cumberland','Cuyahoga','Dakota','Dallas','Dane','Davis','DeSoto','Dekalb','Delaware','Denton','Douglas','DuPage','El Paso','Erie','Essex','Fairfax','Fairfield','Fayette','Fort Bend','Franklin','Fulton','Galveston','Gaston','Greene','Greenville','Gwinnett','Hamilton','Hancock','Harford','Harnett','Harris','Hartford','Hennepin','Henrico','Hidalgo','Hillsborough','Honolulu','Howard','Hudson','Jackson','Jefferson','Jefferson Parish','Johnson','Kane','Kendall','Kent','Kenton','King','Kitsap','Lake','Lancaster','Lee','Lehigh','Lexington','Los Angeles','Loudoun','Macomb','Madison','Manatee','Maricopa','Marin','Marion','Mecklenburg','Mercer','Miami-Dade','Middlesex','Milwaukee','Monmouth','Monroe','Monterey','Montgomery','Morris','Nassau','New Castle','New Haven','New London','Norfolk','Oakland','Okaloosa','Oklahoma','Onondaga','Orange','Osceola','Palm Beach','Pasco','Passaic','Pierce','Pima','Pinal','Pinellas','Placer','Plymouth','Polk','Prince Georges','Prince William','Providence','Pulaski','Ramsey','Richland','Riverside','Rockingham','Sacramento','Saint Charles','Saint Clair','Saint Johns','Saint Louis','Salt Lake','San Bernardino','San Diego','San Joaquin','San Luis Obispo','San Mateo','Santa Barbara','Santa Clara','Santa Cruz','Sarasota','Scott','Seminole','Shelby','Snohomish','Solano','Somerset','Sonoma','Stark','Suffolk','Summit','Tarrant','Travis','Tulsa','Union','Utah','Ventura','Volusia','Wake','Walton','Warren','Washington','Wayne','Weber','Weld','Westchester','Westmoreland','Will','Williamson','Winnebago','Worcester','York'], axis=1)\n",
    "# X_train = train_data.drop(['Zori', 'State', 'Year','Ada','Adams','Alameda','Allegheny','Anne Arundel','Anoka','Arapahoe','Atlantic','Baldwin','Baltimore','Bay','Beaver','Bell','Benton','Bergen','Bexar','Boone','Boulder','Brazoria','Brevard','Bristol','Broward','Bucks','Burlington','Butler','Camden','Campbell','Carroll','Cass','Chatham','Chester','Chesterfield','Clackamas','Clark','Clay','Clayton','Cobb','Collin','Columbia','Contra Costa','Cook','Cumberland','Cuyahoga','Dakota','Dallas','Dane','Davis','DeSoto','Dekalb','Delaware','Denton','Douglas','DuPage','El Paso','Erie','Essex','Fairfax','Fairfield','Fayette','Fort Bend','Franklin','Fulton','Galveston','Gaston','Greene','Greenville','Gwinnett','Hamilton','Hancock','Harford','Harnett','Harris','Hartford','Hennepin','Henrico','Hidalgo','Hillsborough','Honolulu','Howard','Hudson','Jackson','Jefferson','Jefferson Parish','Johnson','Kane','Kendall','Kent','Kenton','King','Kitsap','Lake','Lancaster','Lee','Lehigh','Lexington','Los Angeles','Loudoun','Macomb','Madison','Manatee','Maricopa','Marin','Marion','Mecklenburg','Mercer','Miami-Dade','Middlesex','Milwaukee','Monmouth','Monroe','Monterey','Montgomery','Morris','Nassau','New Castle','New Haven','New London','Norfolk','Oakland','Okaloosa','Oklahoma','Onondaga','Orange','Osceola','Palm Beach','Pasco','Passaic','Pierce','Pima','Pinal','Pinellas','Placer','Plymouth','Polk','Prince Georges','Prince William','Providence','Pulaski','Ramsey','Richland','Riverside','Rockingham','Sacramento','Saint Charles','Saint Clair','Saint Johns','Saint Louis','Salt Lake','San Bernardino','San Diego','San Joaquin','San Luis Obispo','San Mateo','Santa Barbara','Santa Clara','Santa Cruz','Sarasota','Scott','Seminole','Shelby','Snohomish','Solano','Somerset','Sonoma','Stark','Suffolk','Summit','Tarrant','Travis','Tulsa','Union','Utah','Ventura','Volusia','Wake','Walton','Warren','Washington','Wayne','Weber','Weld','Westchester','Westmoreland','Will','Williamson','Winnebago','Worcester','York','violent_crime','homicide','rape','robbery','aggravated_assault','Per Capita (dollars)','property_crime','burglary','larceny','motor_vehicle_theft','Unemployment Rates'], axis=1)\n",
    "# X_train = train_data.drop(['Zori', 'State', 'Year','Ada','Adams','Alameda','Allegheny','Anne Arundel','Anoka','Arapahoe','Atlantic','Baldwin','Baltimore','Bay','Beaver','Bell','Benton','Bergen','Bexar','Boone','Boulder','Brazoria','Brevard','Bristol','Broward','Bucks','Burlington','Butler','Camden','Campbell','Carroll','Cass','Chatham','Chester','Chesterfield','Clackamas','Clark','Clay','Clayton','Cobb','Collin','Columbia','Contra Costa','Cook','Cumberland','Cuyahoga','Dakota','Dallas','Dane','Davis','DeSoto','Dekalb','Delaware','Denton','Douglas','DuPage','El Paso','Erie','Essex','Fairfax','Fairfield','Fayette','Fort Bend','Franklin','Fulton','Galveston','Gaston','Greene','Greenville','Gwinnett','Hamilton','Hancock','Harford','Harnett','Harris','Hartford','Hennepin','Henrico','Hidalgo','Hillsborough','Honolulu','Howard','Hudson','Jackson','Jefferson','Jefferson Parish','Johnson','Kane','Kendall','Kent','Kenton','King','Kitsap','Lake','Lancaster','Lee','Lehigh','Lexington','Los Angeles','Loudoun','Macomb','Madison','Manatee','Maricopa','Marin','Marion','Mecklenburg','Mercer','Miami-Dade','Middlesex','Milwaukee','Monmouth','Monroe','Monterey','Montgomery','Morris','Nassau','New Castle','New Haven','New London','Norfolk','Oakland','Okaloosa','Oklahoma','Onondaga','Orange','Osceola','Palm Beach','Pasco','Passaic','Pierce','Pima','Pinal','Pinellas','Placer','Plymouth','Polk','Prince Georges','Prince William','Providence','Pulaski','Ramsey','Richland','Riverside','Rockingham','Sacramento','Saint Charles','Saint Clair','Saint Johns','Saint Louis','Salt Lake','San Bernardino','San Diego','San Joaquin','San Luis Obispo','San Mateo','Santa Barbara','Santa Clara','Santa Cruz','Sarasota','Scott','Seminole','Shelby','Snohomish','Solano','Somerset','Sonoma','Stark','Suffolk','Summit','Tarrant','Travis','Tulsa','Union','Utah','Ventura','Volusia','Wake','Walton','Warren','Washington','Wayne','Weber','Weld','Westchester','Westmoreland','Will','Williamson','Winnebago','Worcester','York','violent_crime','homicide','rape','robbery','aggravated_assault','Per Capita (dollars)','property_crime','burglary','larceny','motor_vehicle_theft','Unemployment Rates'], axis=1).to_numpy()\n",
    "# X_train = train_data.drop(['CityID', 'Zori', 'State', 'Year','Ada','Adams','Alameda','Allegheny','Anne Arundel','Anoka','Arapahoe','Atlantic','Baldwin','Baltimore','Bay','Beaver','Bell','Benton','Bergen','Bexar','Boone','Boulder','Brazoria','Brevard','Bristol','Broward','Bucks','Burlington','Butler','Camden','Campbell','Carroll','Cass','Chatham','Chester','Chesterfield','Clackamas','Clark','Clay','Clayton','Cobb','Collin','Columbia','Contra Costa','Cook','Cumberland','Cuyahoga','Dakota','Dallas','Dane','Davis','DeSoto','Dekalb','Delaware','Denton','Douglas','DuPage','El Paso','Erie','Essex','Fairfax','Fairfield','Fayette','Fort Bend','Franklin','Fulton','Galveston','Gaston','Greene','Greenville','Gwinnett','Hamilton','Hancock','Harford','Harnett','Harris','Hartford','Hennepin','Henrico','Hidalgo','Hillsborough','Honolulu','Howard','Hudson','Jackson','Jefferson','Jefferson Parish','Johnson','Kane','Kendall','Kent','Kenton','King','Kitsap','Lake','Lancaster','Lee','Lehigh','Lexington','Los Angeles','Loudoun','Macomb','Madison','Manatee','Maricopa','Marin','Marion','Mecklenburg','Mercer','Miami-Dade','Middlesex','Milwaukee','Monmouth','Monroe','Monterey','Montgomery','Morris','Nassau','New Castle','New Haven','New London','Norfolk','Oakland','Okaloosa','Oklahoma','Onondaga','Orange','Osceola','Palm Beach','Pasco','Passaic','Pierce','Pima','Pinal','Pinellas','Placer','Plymouth','Polk','Prince Georges','Prince William','Providence','Pulaski','Ramsey','Richland','Riverside','Rockingham','Sacramento','Saint Charles','Saint Clair','Saint Johns','Saint Louis','Salt Lake','San Bernardino','San Diego','San Joaquin','San Luis Obispo','San Mateo','Santa Barbara','Santa Clara','Santa Cruz','Sarasota','Scott','Seminole','Shelby','Snohomish','Solano','Somerset','Sonoma','Stark','Suffolk','Summit','Tarrant','Travis','Tulsa','Union','Utah','Ventura','Volusia','Wake','Walton','Warren','Washington','Wayne','Weber','Weld','Westchester','Westmoreland','Will','Williamson','Winnebago','Worcester','York','violent_crime','homicide','rape','robbery','aggravated_assault','Per Capita (dollars)','property_crime','burglary','larceny','motor_vehicle_theft','Unemployment Rates'], axis=1).to_numpy()\n",
    "# X_train = np.append(train_data.drop(['CityID', 'Zori', 'State', 'Year','Ada','Adams','Alameda','Allegheny','Anne Arundel','Anoka','Arapahoe','Atlantic','Baldwin','Baltimore','Bay','Beaver','Bell','Benton','Bergen','Bexar','Boone','Boulder','Brazoria','Brevard','Bristol','Broward','Bucks','Burlington','Butler','Camden','Campbell','Carroll','Cass','Chatham','Chester','Chesterfield','Clackamas','Clark','Clay','Clayton','Cobb','Collin','Columbia','Contra Costa','Cook','Cumberland','Cuyahoga','Dakota','Dallas','Dane','Davis','DeSoto','Dekalb','Delaware','Denton','Douglas','DuPage','El Paso','Erie','Essex','Fairfax','Fairfield','Fayette','Fort Bend','Franklin','Fulton','Galveston','Gaston','Greene','Greenville','Gwinnett','Hamilton','Hancock','Harford','Harnett','Harris','Hartford','Hennepin','Henrico','Hidalgo','Hillsborough','Honolulu','Howard','Hudson','Jackson','Jefferson','Jefferson Parish','Johnson','Kane','Kendall','Kent','Kenton','King','Kitsap','Lake','Lancaster','Lee','Lehigh','Lexington','Los Angeles','Loudoun','Macomb','Madison','Manatee','Maricopa','Marin','Marion','Mecklenburg','Mercer','Miami-Dade','Middlesex','Milwaukee','Monmouth','Monroe','Monterey','Montgomery','Morris','Nassau','New Castle','New Haven','New London','Norfolk','Oakland','Okaloosa','Oklahoma','Onondaga','Orange','Osceola','Palm Beach','Pasco','Passaic','Pierce','Pima','Pinal','Pinellas','Placer','Plymouth','Polk','Prince Georges','Prince William','Providence','Pulaski','Ramsey','Richland','Riverside','Rockingham','Sacramento','Saint Charles','Saint Clair','Saint Johns','Saint Louis','Salt Lake','San Bernardino','San Diego','San Joaquin','San Luis Obispo','San Mateo','Santa Barbara','Santa Clara','Santa Cruz','Sarasota','Scott','Seminole','Shelby','Snohomish','Solano','Somerset','Sonoma','Stark','Suffolk','Summit','Tarrant','Travis','Tulsa','Union','Utah','Ventura','Volusia','Wake','Walton','Warren','Washington','Wayne','Weber','Weld','Westchester','Westmoreland','Will','Williamson','Winnebago','Worcester','York','violent_crime','homicide','rape','robbery','aggravated_assault','Per Capita (dollars)','property_crime','burglary','larceny','motor_vehicle_theft','Unemployment Rates'], axis=1).to_numpy(), np.reshape(train_data['CityID'].to_numpy(), (-1, 1)), 1)\n",
    "y_train = train_data['Zori'].to_numpy()\n",
    "\n",
    "X_train = scale(X_train)\n",
    "y_train = scale(y_train)\n",
    "# X_train = normalize(X_train, axis=0 )\n",
    "# y_train = normalize(y_train)\n",
    "\n",
    "X_train = np.append(X_train, np.reshape(train_data['CityID'].to_numpy(), (-1, 1)), 1)\n",
    "\n",
    "X_test = test_data.drop(['Zori','State','CityID'], axis=1)\n",
    "# X_test = test_data.drop(['Zori', 'State', 'Year','Ada','Adams','Alameda','Allegheny','Anne Arundel','Anoka','Arapahoe','Atlantic','Baldwin','Baltimore','Bay','Beaver','Bell','Benton','Bergen','Bexar','Boone','Boulder','Brazoria','Brevard','Bristol','Broward','Bucks','Burlington','Butler','Camden','Campbell','Carroll','Cass','Chatham','Chester','Chesterfield','Clackamas','Clark','Clay','Clayton','Cobb','Collin','Columbia','Contra Costa','Cook','Cumberland','Cuyahoga','Dakota','Dallas','Dane','Davis','DeSoto','Dekalb','Delaware','Denton','Douglas','DuPage','El Paso','Erie','Essex','Fairfax','Fairfield','Fayette','Fort Bend','Franklin','Fulton','Galveston','Gaston','Greene','Greenville','Gwinnett','Hamilton','Hancock','Harford','Harnett','Harris','Hartford','Hennepin','Henrico','Hidalgo','Hillsborough','Honolulu','Howard','Hudson','Jackson','Jefferson','Jefferson Parish','Johnson','Kane','Kendall','Kent','Kenton','King','Kitsap','Lake','Lancaster','Lee','Lehigh','Lexington','Los Angeles','Loudoun','Macomb','Madison','Manatee','Maricopa','Marin','Marion','Mecklenburg','Mercer','Miami-Dade','Middlesex','Milwaukee','Monmouth','Monroe','Monterey','Montgomery','Morris','Nassau','New Castle','New Haven','New London','Norfolk','Oakland','Okaloosa','Oklahoma','Onondaga','Orange','Osceola','Palm Beach','Pasco','Passaic','Pierce','Pima','Pinal','Pinellas','Placer','Plymouth','Polk','Prince Georges','Prince William','Providence','Pulaski','Ramsey','Richland','Riverside','Rockingham','Sacramento','Saint Charles','Saint Clair','Saint Johns','Saint Louis','Salt Lake','San Bernardino','San Diego','San Joaquin','San Luis Obispo','San Mateo','Santa Barbara','Santa Clara','Santa Cruz','Sarasota','Scott','Seminole','Shelby','Snohomish','Solano','Somerset','Sonoma','Stark','Suffolk','Summit','Tarrant','Travis','Tulsa','Union','Utah','Ventura','Volusia','Wake','Walton','Warren','Washington','Wayne','Weber','Weld','Westchester','Westmoreland','Will','Williamson','Winnebago','Worcester','York','violent_crime','homicide','rape','robbery','aggravated_assault','Per Capita (dollars)','property_crime','burglary','larceny','motor_vehicle_theft','Unemployment Rates'], axis=1).to_numpy()\n",
    "# X_test = np.append(test_data.drop(['CityID', 'Zori', 'State', 'Year','Ada','Adams','Alameda','Allegheny','Anne Arundel','Anoka','Arapahoe','Atlantic','Baldwin','Baltimore','Bay','Beaver','Bell','Benton','Bergen','Bexar','Boone','Boulder','Brazoria','Brevard','Bristol','Broward','Bucks','Burlington','Butler','Camden','Campbell','Carroll','Cass','Chatham','Chester','Chesterfield','Clackamas','Clark','Clay','Clayton','Cobb','Collin','Columbia','Contra Costa','Cook','Cumberland','Cuyahoga','Dakota','Dallas','Dane','Davis','DeSoto','Dekalb','Delaware','Denton','Douglas','DuPage','El Paso','Erie','Essex','Fairfax','Fairfield','Fayette','Fort Bend','Franklin','Fulton','Galveston','Gaston','Greene','Greenville','Gwinnett','Hamilton','Hancock','Harford','Harnett','Harris','Hartford','Hennepin','Henrico','Hidalgo','Hillsborough','Honolulu','Howard','Hudson','Jackson','Jefferson','Jefferson Parish','Johnson','Kane','Kendall','Kent','Kenton','King','Kitsap','Lake','Lancaster','Lee','Lehigh','Lexington','Los Angeles','Loudoun','Macomb','Madison','Manatee','Maricopa','Marin','Marion','Mecklenburg','Mercer','Miami-Dade','Middlesex','Milwaukee','Monmouth','Monroe','Monterey','Montgomery','Morris','Nassau','New Castle','New Haven','New London','Norfolk','Oakland','Okaloosa','Oklahoma','Onondaga','Orange','Osceola','Palm Beach','Pasco','Passaic','Pierce','Pima','Pinal','Pinellas','Placer','Plymouth','Polk','Prince Georges','Prince William','Providence','Pulaski','Ramsey','Richland','Riverside','Rockingham','Sacramento','Saint Charles','Saint Clair','Saint Johns','Saint Louis','Salt Lake','San Bernardino','San Diego','San Joaquin','San Luis Obispo','San Mateo','Santa Barbara','Santa Clara','Santa Cruz','Sarasota','Scott','Seminole','Shelby','Snohomish','Solano','Somerset','Sonoma','Stark','Suffolk','Summit','Tarrant','Travis','Tulsa','Union','Utah','Ventura','Volusia','Wake','Walton','Warren','Washington','Wayne','Weber','Weld','Westchester','Westmoreland','Will','Williamson','Winnebago','Worcester','York','violent_crime','homicide','rape','robbery','aggravated_assault','Per Capita (dollars)','property_crime','burglary','larceny','motor_vehicle_theft','Unemployment Rates'], axis=1).to_numpy(), np.reshape(test_data['CityID'].to_numpy(), (-1, 1)), 1)\n",
    "y_test = test_data['Zori'].to_numpy()\n",
    "\n",
    "X_test = scale(X_test)\n",
    "y_test = scale(y_test)\n",
    "\n",
    "X_test = np.append(X_test, np.reshape(test_data['CityID'].to_numpy(), (-1, 1)), 1)\n",
    "\n",
    "print(\"### X_train\")\n",
    "describe(X_train)\n",
    "print()\n",
    "print(\"### y_train\")\n",
    "describe(y_train)\n",
    "print()\n",
    "print(\"### X_test\")\n",
    "describe(X_test)\n",
    "print()\n",
    "print(\"### y_test\")\n",
    "describe(y_test)\n",
    "# train_data['CityID'].to_numpy()"
   ]
  },
  {
   "cell_type": "code",
   "execution_count": 4,
   "id": "1b2a75cf",
   "metadata": {},
   "outputs": [
    {
     "name": "stdout",
     "output_type": "stream",
     "text": [
      "row counts: 120320\n"
     ]
    },
    {
     "data": {
      "image/png": "[encoded data removed]",
      "text/plain": [
       "<Figure size 432x288 with 1 Axes>"
      ]
     },
     "metadata": {
      "needs_background": "light"
     },
     "output_type": "display_data"
    },
    {
     "data": {
      "text/plain": [
       "<Figure size 720x504 with 0 Axes>"
      ]
     },
     "metadata": {},
     "output_type": "display_data"
    },
    {
     "name": "stdout",
     "output_type": "stream",
     "text": [
      "742.8693126327064 2727.555308680198 -243.92194185062795\n",
      "row counts: 116185\n"
     ]
    }
   ],
   "source": [
    "df_train = pd.read_csv(\"../data/train_data.csv\")\n",
    "df_test = pd.read_csv(\"../data/test_data.csv\")\n",
    "print(f\"row counts: {len(df_train)}\")\n",
    "df_train.rename(columns={'Per capita': 'Per capita personal income', 'Per Capita (dollars)': 'Revenue Per Capita (dollars)'}, inplace=True)\n",
    "df_test.rename(columns={'Per capita': 'Per capita personal income',  'Per Capita (dollars)': 'Revenue Per Capita (dollars)'}, inplace=True)\n",
    "# df_train.iloc[:,-17:].describe()\n",
    "df_train.describe()\n",
    "\n",
    "plt.boxplot(df_train.Zori)\n",
    "fig = plt.figure(figsize =(10, 7))\n",
    "plt.show()\n",
    "\n",
    "zoriArr = pd.concat([df_train.Zori, df_test.Zori], ignore_index=True)\n",
    "\n",
    "# finding the 1st quartile\n",
    "q1 = np.quantile(zoriArr, 0.25)\n",
    " \n",
    "# finding the 3rd quartile\n",
    "q3 = np.quantile(zoriArr, 0.75)\n",
    "med = np.median(zoriArr)\n",
    " \n",
    "# finding the iqr region\n",
    "iqr = q3-q1\n",
    " \n",
    "# finding upper and lower whiskers\n",
    "upper_bound = q3+(1.5*iqr)\n",
    "lower_bound = q1-(1.5*iqr)\n",
    "print(iqr, upper_bound, lower_bound)\n",
    "\n",
    "df_train = df_train[(df_train.Zori < upper_bound) & (df_train.Zori > lower_bound)]\n",
    "df_test = df_test[(df_test.Zori < upper_bound) & (df_test.Zori > lower_bound)]\n",
    "print(f\"row counts: {len(df_train)}\")\n",
    "df_train.describe()\n",
    "\n",
    "# X_train_2 = df_train.iloc[:, -17:]\n",
    "X_train = df_train.drop(['Zori', 'State'], axis=1)\n",
    "y_train = df_train['Zori']\n",
    "\n",
    "# X_test_2 = df_test.iloc[:, -17:]\n",
    "X_test = df_test.drop(['Zori', 'State'], axis=1)\n",
    "y_test = df_test['Zori']"
   ]
  },
  {
   "cell_type": "code",
   "execution_count": 121,
   "id": "006fbe97",
   "metadata": {},
   "outputs": [
    {
     "data": {
      "text/html": [
       "<div>\n",
       "<style scoped>\n",
       "    .dataframe tbody tr th:only-of-type {\n",
       "        vertical-align: middle;\n",
       "    }\n",
       "\n",
       "    .dataframe tbody tr th {\n",
       "        vertical-align: top;\n",
       "    }\n",
       "\n",
       "    .dataframe thead th {\n",
       "        text-align: right;\n",
       "    }\n",
       "</style>\n",
       "<table border=\"1\" class=\"dataframe\">\n",
       "  <thead>\n",
       "    <tr style=\"text-align: right;\">\n",
       "      <th></th>\n",
       "      <th>CityID</th>\n",
       "      <th>Year</th>\n",
       "      <th>Month</th>\n",
       "      <th>Ada</th>\n",
       "      <th>Adams</th>\n",
       "      <th>Alameda</th>\n",
       "      <th>Allegheny</th>\n",
       "      <th>Anne Arundel</th>\n",
       "      <th>Anoka</th>\n",
       "      <th>Arapahoe</th>\n",
       "      <th>...</th>\n",
       "      <th>aggravated_assault</th>\n",
       "      <th>property_crime</th>\n",
       "      <th>burglary</th>\n",
       "      <th>larceny</th>\n",
       "      <th>motor_vehicle_theft</th>\n",
       "      <th>GDP</th>\n",
       "      <th>state_personal_consumption</th>\n",
       "      <th>Per capita personal income</th>\n",
       "      <th>Personal income</th>\n",
       "      <th>Unemployment Rates</th>\n",
       "    </tr>\n",
       "  </thead>\n",
       "  <tbody>\n",
       "    <tr>\n",
       "      <th>count</th>\n",
       "      <td>26610.000000</td>\n",
       "      <td>26610.0</td>\n",
       "      <td>26610.000000</td>\n",
       "      <td>26610.000000</td>\n",
       "      <td>26610.000000</td>\n",
       "      <td>26610.000000</td>\n",
       "      <td>26610.000000</td>\n",
       "      <td>26610.000000</td>\n",
       "      <td>26610.000000</td>\n",
       "      <td>26610.000000</td>\n",
       "      <td>...</td>\n",
       "      <td>26610.000000</td>\n",
       "      <td>26610.000000</td>\n",
       "      <td>26610.000000</td>\n",
       "      <td>26610.000000</td>\n",
       "      <td>26610.000000</td>\n",
       "      <td>2.661000e+04</td>\n",
       "      <td>2.661000e+04</td>\n",
       "      <td>26610.000000</td>\n",
       "      <td>2.661000e+04</td>\n",
       "      <td>26610.000000</td>\n",
       "    </tr>\n",
       "    <tr>\n",
       "      <th>mean</th>\n",
       "      <td>66324.229763</td>\n",
       "      <td>2019.0</td>\n",
       "      <td>5.990455</td>\n",
       "      <td>0.002480</td>\n",
       "      <td>0.004547</td>\n",
       "      <td>0.002104</td>\n",
       "      <td>0.009508</td>\n",
       "      <td>0.005374</td>\n",
       "      <td>0.002894</td>\n",
       "      <td>0.002894</td>\n",
       "      <td>...</td>\n",
       "      <td>34823.341338</td>\n",
       "      <td>298903.853025</td>\n",
       "      <td>46261.223412</td>\n",
       "      <td>219282.439196</td>\n",
       "      <td>33360.190417</td>\n",
       "      <td>8.532807e+05</td>\n",
       "      <td>6.488567e+05</td>\n",
       "      <td>57089.209395</td>\n",
       "      <td>8.322878e+11</td>\n",
       "      <td>3.610011</td>\n",
       "    </tr>\n",
       "    <tr>\n",
       "      <th>std</th>\n",
       "      <td>141610.224667</td>\n",
       "      <td>0.0</td>\n",
       "      <td>3.162501</td>\n",
       "      <td>0.049741</td>\n",
       "      <td>0.067280</td>\n",
       "      <td>0.045827</td>\n",
       "      <td>0.097045</td>\n",
       "      <td>0.073111</td>\n",
       "      <td>0.053716</td>\n",
       "      <td>0.053716</td>\n",
       "      <td>...</td>\n",
       "      <td>30573.944650</td>\n",
       "      <td>265635.152159</td>\n",
       "      <td>44086.431935</td>\n",
       "      <td>183544.962786</td>\n",
       "      <td>40373.820709</td>\n",
       "      <td>7.571811e+05</td>\n",
       "      <td>5.258622e+05</td>\n",
       "      <td>7823.246744</td>\n",
       "      <td>6.920397e+11</td>\n",
       "      <td>0.566143</td>\n",
       "    </tr>\n",
       "    <tr>\n",
       "      <th>min</th>\n",
       "      <td>3304.000000</td>\n",
       "      <td>2019.0</td>\n",
       "      <td>1.000000</td>\n",
       "      <td>0.000000</td>\n",
       "      <td>0.000000</td>\n",
       "      <td>0.000000</td>\n",
       "      <td>0.000000</td>\n",
       "      <td>0.000000</td>\n",
       "      <td>0.000000</td>\n",
       "      <td>0.000000</td>\n",
       "      <td>...</td>\n",
       "      <td>828.000000</td>\n",
       "      <td>9097.000000</td>\n",
       "      <td>1394.000000</td>\n",
       "      <td>6981.000000</td>\n",
       "      <td>722.000000</td>\n",
       "      <td>3.819180e+04</td>\n",
       "      <td>2.483900e+04</td>\n",
       "      <td>38826.000000</td>\n",
       "      <td>3.521290e+10</td>\n",
       "      <td>1.900000</td>\n",
       "    </tr>\n",
       "    <tr>\n",
       "      <th>25%</th>\n",
       "      <td>16948.000000</td>\n",
       "      <td>2019.0</td>\n",
       "      <td>3.000000</td>\n",
       "      <td>0.000000</td>\n",
       "      <td>0.000000</td>\n",
       "      <td>0.000000</td>\n",
       "      <td>0.000000</td>\n",
       "      <td>0.000000</td>\n",
       "      <td>0.000000</td>\n",
       "      <td>0.000000</td>\n",
       "      <td>...</td>\n",
       "      <td>14037.000000</td>\n",
       "      <td>118637.000000</td>\n",
       "      <td>16399.000000</td>\n",
       "      <td>91225.000000</td>\n",
       "      <td>11260.000000</td>\n",
       "      <td>3.420315e+05</td>\n",
       "      <td>2.734034e+05</td>\n",
       "      <td>49862.000000</td>\n",
       "      <td>3.403815e+11</td>\n",
       "      <td>3.200000</td>\n",
       "    </tr>\n",
       "    <tr>\n",
       "      <th>50%</th>\n",
       "      <td>32168.000000</td>\n",
       "      <td>2019.0</td>\n",
       "      <td>6.000000</td>\n",
       "      <td>0.000000</td>\n",
       "      <td>0.000000</td>\n",
       "      <td>0.000000</td>\n",
       "      <td>0.000000</td>\n",
       "      <td>0.000000</td>\n",
       "      <td>0.000000</td>\n",
       "      <td>0.000000</td>\n",
       "      <td>...</td>\n",
       "      <td>23568.000000</td>\n",
       "      <td>179670.000000</td>\n",
       "      <td>28065.000000</td>\n",
       "      <td>143937.000000</td>\n",
       "      <td>18031.000000</td>\n",
       "      <td>5.610030e+05</td>\n",
       "      <td>4.584683e+05</td>\n",
       "      <td>56650.000000</td>\n",
       "      <td>5.848389e+11</td>\n",
       "      <td>3.500000</td>\n",
       "    </tr>\n",
       "    <tr>\n",
       "      <th>75%</th>\n",
       "      <td>46803.000000</td>\n",
       "      <td>2019.0</td>\n",
       "      <td>9.000000</td>\n",
       "      <td>0.000000</td>\n",
       "      <td>0.000000</td>\n",
       "      <td>0.000000</td>\n",
       "      <td>0.000000</td>\n",
       "      <td>0.000000</td>\n",
       "      <td>0.000000</td>\n",
       "      <td>0.000000</td>\n",
       "      <td>...</td>\n",
       "      <td>55472.000000</td>\n",
       "      <td>460966.000000</td>\n",
       "      <td>63338.000000</td>\n",
       "      <td>358537.000000</td>\n",
       "      <td>39091.000000</td>\n",
       "      <td>9.683930e+05</td>\n",
       "      <td>9.669428e+05</td>\n",
       "      <td>63473.000000</td>\n",
       "      <td>1.135182e+12</td>\n",
       "      <td>4.100000</td>\n",
       "    </tr>\n",
       "    <tr>\n",
       "      <th>max</th>\n",
       "      <td>839919.000000</td>\n",
       "      <td>2019.0</td>\n",
       "      <td>11.000000</td>\n",
       "      <td>1.000000</td>\n",
       "      <td>1.000000</td>\n",
       "      <td>1.000000</td>\n",
       "      <td>1.000000</td>\n",
       "      <td>1.000000</td>\n",
       "      <td>1.000000</td>\n",
       "      <td>1.000000</td>\n",
       "      <td>...</td>\n",
       "      <td>105544.000000</td>\n",
       "      <td>921177.000000</td>\n",
       "      <td>152551.000000</td>\n",
       "      <td>626865.000000</td>\n",
       "      <td>141761.000000</td>\n",
       "      <td>2.776155e+06</td>\n",
       "      <td>1.921463e+06</td>\n",
       "      <td>75247.000000</td>\n",
       "      <td>2.584684e+12</td>\n",
       "      <td>5.600000</td>\n",
       "    </tr>\n",
       "  </tbody>\n",
       "</table>\n",
       "<p>8 rows × 208 columns</p>\n",
       "</div>"
      ],
      "text/plain": [
       "              CityID     Year         Month           Ada         Adams  \\\n",
       "count   26610.000000  26610.0  26610.000000  26610.000000  26610.000000   \n",
       "mean    66324.229763   2019.0      5.990455      0.002480      0.004547   \n",
       "std    141610.224667      0.0      3.162501      0.049741      0.067280   \n",
       "min      3304.000000   2019.0      1.000000      0.000000      0.000000   \n",
       "25%     16948.000000   2019.0      3.000000      0.000000      0.000000   \n",
       "50%     32168.000000   2019.0      6.000000      0.000000      0.000000   \n",
       "75%     46803.000000   2019.0      9.000000      0.000000      0.000000   \n",
       "max    839919.000000   2019.0     11.000000      1.000000      1.000000   \n",
       "\n",
       "            Alameda     Allegheny  Anne Arundel         Anoka      Arapahoe  \\\n",
       "count  26610.000000  26610.000000  26610.000000  26610.000000  26610.000000   \n",
       "mean       0.002104      0.009508      0.005374      0.002894      0.002894   \n",
       "std        0.045827      0.097045      0.073111      0.053716      0.053716   \n",
       "min        0.000000      0.000000      0.000000      0.000000      0.000000   \n",
       "25%        0.000000      0.000000      0.000000      0.000000      0.000000   \n",
       "50%        0.000000      0.000000      0.000000      0.000000      0.000000   \n",
       "75%        0.000000      0.000000      0.000000      0.000000      0.000000   \n",
       "max        1.000000      1.000000      1.000000      1.000000      1.000000   \n",
       "\n",
       "       ...  aggravated_assault  property_crime       burglary        larceny  \\\n",
       "count  ...        26610.000000    26610.000000   26610.000000   26610.000000   \n",
       "mean   ...        34823.341338   298903.853025   46261.223412  219282.439196   \n",
       "std    ...        30573.944650   265635.152159   44086.431935  183544.962786   \n",
       "min    ...          828.000000     9097.000000    1394.000000    6981.000000   \n",
       "25%    ...        14037.000000   118637.000000   16399.000000   91225.000000   \n",
       "50%    ...        23568.000000   179670.000000   28065.000000  143937.000000   \n",
       "75%    ...        55472.000000   460966.000000   63338.000000  358537.000000   \n",
       "max    ...       105544.000000   921177.000000  152551.000000  626865.000000   \n",
       "\n",
       "       motor_vehicle_theft           GDP  state_personal_consumption  \\\n",
       "count         26610.000000  2.661000e+04                2.661000e+04   \n",
       "mean          33360.190417  8.532807e+05                6.488567e+05   \n",
       "std           40373.820709  7.571811e+05                5.258622e+05   \n",
       "min             722.000000  3.819180e+04                2.483900e+04   \n",
       "25%           11260.000000  3.420315e+05                2.734034e+05   \n",
       "50%           18031.000000  5.610030e+05                4.584683e+05   \n",
       "75%           39091.000000  9.683930e+05                9.669428e+05   \n",
       "max          141761.000000  2.776155e+06                1.921463e+06   \n",
       "\n",
       "       Per capita personal income  Personal income  Unemployment Rates  \n",
       "count                26610.000000     2.661000e+04        26610.000000  \n",
       "mean                 57089.209395     8.322878e+11            3.610011  \n",
       "std                   7823.246744     6.920397e+11            0.566143  \n",
       "min                  38826.000000     3.521290e+10            1.900000  \n",
       "25%                  49862.000000     3.403815e+11            3.200000  \n",
       "50%                  56650.000000     5.848389e+11            3.500000  \n",
       "75%                  63473.000000     1.135182e+12            4.100000  \n",
       "max                  75247.000000     2.584684e+12            5.600000  \n",
       "\n",
       "[8 rows x 208 columns]"
      ]
     },
     "execution_count": 121,
     "metadata": {},
     "output_type": "execute_result"
    }
   ],
   "source": [
    "X_test.describe()"
   ]
  },
  {
   "cell_type": "markdown",
   "id": "f1c859d1",
   "metadata": {},
   "source": [
    "## Train model "
   ]
  },
  {
   "cell_type": "code",
   "execution_count": 5,
   "id": "d1941e86",
   "metadata": {},
   "outputs": [],
   "source": [
    "def train(model):\n",
    "    model.fit(X_train, y_train)\n",
    "    print(\"R-squared:\", model.score(X_train, y_train))\n",
    "    score = model.score(X_test, y_test)\n",
    "    print(\"R-squared:\", score)\n",
    "    return score"
   ]
  },
  {
   "cell_type": "code",
   "execution_count": 6,
   "id": "7d4581fb",
   "metadata": {},
   "outputs": [],
   "source": [
    "def evaluate(model):\n",
    "    pass"
   ]
  },
  {
   "cell_type": "code",
   "execution_count": 28,
   "id": "bf469f39",
   "metadata": {
    "scrolled": false
   },
   "outputs": [
    {
     "name": "stdout",
     "output_type": "stream",
     "text": [
      "DummyRegressor\n",
      "R-squared: 0.0\n",
      "R-squared: -0.08411401876261237\n",
      "AdaBoostRegressor\n",
      "R-squared: 0.17140324329727963\n",
      "R-squared: 0.0913527677150745\n",
      "BaggingRegressor\n",
      "R-squared: 0.9984994415125725\n",
      "R-squared: 0.8932079761036457\n",
      "ExtraTreesRegressor\n",
      "R-squared: 1.0\n",
      "R-squared: 0.9086047352467688\n",
      "GradientBoostingRegressor\n",
      "R-squared: 0.33643831521392864\n",
      "R-squared: 0.3055654603331739\n",
      "RandomForestRegressor\n",
      "R-squared: 0.9992285105946167\n",
      "R-squared: 0.9016609335302068\n",
      "histGradientBoostingRegressor\n",
      "R-squared: 0.5703582259037263\n",
      "R-squared: 0.5229347640779929\n",
      "LinearRegression\n",
      "R-squared: 0.377722269876104\n",
      "R-squared: 0.37685543483703565\n",
      "Ridge\n",
      "R-squared: 0.37853155506245495\n",
      "R-squared: 0.37685600017321697\n",
      "SGDRegressor\n",
      "R-squared: -7.306282315144188e+58\n",
      "R-squared: -9.011634069541561e+58\n",
      "ElasticNet\n"
     ]
    },
    {
     "name": "stderr",
     "output_type": "stream",
     "text": [
      "/Users/alberthsieh/opt/anaconda3/lib/python3.9/site-packages/sklearn/linear_model/_coordinate_descent.py:647: ConvergenceWarning: Objective did not converge. You might want to increase the number of iterations, check the scale of the features or consider increasing regularisation. Duality gap: 1.545e+10, tolerance: 3.812e+06\n",
      "  model = cd_fast.enet_coordinate_descent(\n"
     ]
    },
    {
     "name": "stdout",
     "output_type": "stream",
     "text": [
      "R-squared: 0.19188032216826378\n",
      "R-squared: 0.1905639467539103\n",
      "Lasso\n"
     ]
    },
    {
     "name": "stderr",
     "output_type": "stream",
     "text": [
      "/Users/alberthsieh/opt/anaconda3/lib/python3.9/site-packages/sklearn/linear_model/_coordinate_descent.py:647: ConvergenceWarning: Objective did not converge. You might want to increase the number of iterations, check the scale of the features or consider increasing regularisation. Duality gap: 1.442e+10, tolerance: 3.812e+06\n",
      "  model = cd_fast.enet_coordinate_descent(\n"
     ]
    },
    {
     "name": "stdout",
     "output_type": "stream",
     "text": [
      "R-squared: 0.30323690193995334\n",
      "R-squared: 0.3022043532935176\n",
      "ARDRegression\n",
      "R-squared: 0.0\n",
      "R-squared: -0.08411401876261237\n",
      "BayesianRidge\n",
      "R-squared: 0.3784881326344517\n",
      "R-squared: 0.37686064724072466\n",
      "HuberRegressor\n",
      "R-squared: -1.0604104355483024\n",
      "R-squared: -1.5967016754991472\n",
      "TheilSenRegressor\n",
      "R-squared: 0.3464582416550658\n",
      "R-squared: 0.34691418579903477\n",
      "TweedieRegressor\n",
      "R-squared: 0.11283265067736337\n",
      "R-squared: 0.13152368224105504\n",
      "PassiveAggressiveRegressor\n",
      "R-squared: -4.579024542097789\n",
      "R-squared: -5.706828920625821\n",
      "KNeighborsRegressor\n",
      "R-squared: 0.16381756770025668\n",
      "R-squared: -0.2917482090377814\n",
      "LinearSVR\n"
     ]
    },
    {
     "name": "stderr",
     "output_type": "stream",
     "text": [
      "/Users/alberthsieh/opt/anaconda3/lib/python3.9/site-packages/sklearn/svm/_base.py:1206: ConvergenceWarning: Liblinear failed to converge, increase the number of iterations.\n",
      "  warnings.warn(\n"
     ]
    },
    {
     "name": "stdout",
     "output_type": "stream",
     "text": [
      "R-squared: -4.237533916401155\n",
      "R-squared: -5.731333814126098\n",
      "DecisionTreeRegressor\n",
      "R-squared: 1.0\n",
      "R-squared: 0.8321347418172088\n",
      "ExtraTreeRegressor\n",
      "R-squared: 1.0\n",
      "R-squared: 0.6416532398391428\n"
     ]
    }
   ],
   "source": [
    "name = []\n",
    "r2 = []\n",
    "\n",
    "print(\"DummyRegressor\")\n",
    "dummyRegressor = DummyRegressor()\n",
    "name = np.append(name, \"DummyRegressor\")\n",
    "r2 = np.append(r2, train(dummyRegressor))\n",
    "\n",
    "# Ensemble\n",
    "print(\"AdaBoostRegressor\")\n",
    "adaBoostRegressor = AdaBoostRegressor()\n",
    "name = np.append(name, \"AdaBoostRegressor\")\n",
    "r2 = np.append(r2, train(adaBoostRegressor))\n",
    "print(\"BaggingRegressor\")\n",
    "baggingRegressor = BaggingRegressor()\n",
    "name = np.append(name, \"BaggingRegressor\")\n",
    "r2 = np.append(r2, train(baggingRegressor))\n",
    "print(\"ExtraTreesRegressor\")\n",
    "extraTreesRegressor = ExtraTreesRegressor()\n",
    "name = np.append(name, \"ExtraTreesRegressor\")\n",
    "r2 = np.append(r2, train(extraTreesRegressor))\n",
    "print(\"GradientBoostingRegressor\")\n",
    "gradientBoostingRegressor = GradientBoostingRegressor()\n",
    "name = np.append(name, \"GradientBoostingRegressor\")\n",
    "r2 = np.append(r2, train(gradientBoostingRegressor))\n",
    "print(\"RandomForestRegressor\")\n",
    "randomForestRegressor = RandomForestRegressor()\n",
    "name = np.append(name, \"RandomForestRegressor\")\n",
    "r2 = np.append(r2, train(randomForestRegressor))\n",
    "print(\"histGradientBoostingRegressor\")\n",
    "histGradientBoostingRegressor = HistGradientBoostingRegressor()\n",
    "name = np.append(name, \"histGradientBoostingRegressor\")\n",
    "r2 = np.append(r2, train(histGradientBoostingRegressor))\n",
    "\n",
    "# Linear\n",
    "## Classical linear regressors\n",
    "print(\"LinearRegression\")\n",
    "linearRegression = LinearRegression()\n",
    "name = np.append(name, \"LinearRegression\")\n",
    "r2 = np.append(r2, train(linearRegression))\n",
    "print(\"Ridge\")\n",
    "ridge = Ridge()\n",
    "name = np.append(name, \"Ridge\")\n",
    "r2 = np.append(r2, train(ridge))\n",
    "print(\"SGDRegressor\")\n",
    "sGDRegressor = SGDRegressor()\n",
    "name = np.append(name, \"SGDRegressor\")\n",
    "r2 = np.append(r2, train(sGDRegressor))\n",
    "\n",
    "## Regressors with variable selection\n",
    "print(\"ElasticNet\")\n",
    "elasticNet = ElasticNet()\n",
    "name = np.append(name, \"ElasticNet\")\n",
    "r2 = np.append(r2, train(elasticNet))\n",
    "print(\"Lasso\")\n",
    "lasso = Lasso()\n",
    "name = np.append(name, \"Lasso\")\n",
    "r2 = np.append(r2, train(lasso))\n",
    "\n",
    "## Bayesian regressors\n",
    "print(\"ARDRegression\")\n",
    "aRDRegression = ARDRegression()\n",
    "name = np.append(name, \"ARDRegression\")\n",
    "r2 = np.append(r2, train(aRDRegression))\n",
    "print(\"BayesianRidge\")\n",
    "bayesianRidge = BayesianRidge()\n",
    "name = np.append(name, \"BayesianRidge\")\n",
    "r2 = np.append(r2, train(bayesianRidge))\n",
    "\n",
    "## Outlier-robust regressors\n",
    "print(\"HuberRegressor\")\n",
    "huberRegressor = HuberRegressor()\n",
    "name = np.append(name, \"HuberRegressor\")\n",
    "r2 = np.append(r2, train(huberRegressor))\n",
    "print(\"TheilSenRegressor\")\n",
    "theilSenRegressor = TheilSenRegressor()\n",
    "name = np.append(name, \"TheilSenRegressor\")\n",
    "r2 = np.append(r2, train(theilSenRegressor))\n",
    "\n",
    "## Generalized linear models (GLM) for regression\n",
    "print(\"TweedieRegressor\")\n",
    "tweedieRegressor = TweedieRegressor()\n",
    "name = np.append(name, \"TweedieRegressor\")\n",
    "r2 = np.append(r2, train(tweedieRegressor))\n",
    "\n",
    "\n",
    "## Miscellaneous\n",
    "print(\"PassiveAggressiveRegressor\")\n",
    "passiveAggressiveRegressor = PassiveAggressiveRegressor()\n",
    "name = np.append(name, \"PassiveAggressiveRegressor\")\n",
    "r2 = np.append(r2, train(passiveAggressiveRegressor))\n",
    "\n",
    "\n",
    "# Nearest Neighbors\n",
    "print(\"KNeighborsRegressor\")\n",
    "kNeighborsRegressor = KNeighborsRegressor()\n",
    "name = np.append(name, \"KNeighborsRegressor\")\n",
    "r2 = np.append(r2, train(kNeighborsRegressor))\n",
    "\n",
    "# SVM\n",
    "print(\"LinearSVR\")\n",
    "linearSVR = LinearSVR()\n",
    "name = np.append(name, \"LinearSVR\")\n",
    "r2 = np.append(r2, train(linearSVR))\n",
    "\n",
    "# Decision Trees\n",
    "print(\"DecisionTreeRegressor\")\n",
    "decisionTreeRegressor = DecisionTreeRegressor()\n",
    "name = np.append(name, \"DecisionTreeRegressor\")\n",
    "r2 = np.append(r2, train(decisionTreeRegressor))\n",
    "print(\"ExtraTreeRegressor\")\n",
    "extraTreeRegressor = ExtraTreeRegressor()\n",
    "name = np.append(name, \"ExtraTreeRegressor\")\n",
    "r2 = np.append(r2, train(extraTreeRegressor))"
   ]
  },
  {
   "cell_type": "code",
   "execution_count": 47,
   "id": "01566730",
   "metadata": {},
   "outputs": [
    {
     "data": {
      "text/plain": [
       "array([-8.41140188e-02,  9.13527677e-02,  8.93207976e-01,  9.08604735e-01,\n",
       "        3.05565460e-01,  9.01660934e-01,  5.22934764e-01,  3.76855435e-01,\n",
       "        3.76856000e-01, -9.01163407e+58,  1.90563947e-01,  3.02204353e-01,\n",
       "       -8.41140188e-02,  3.76860647e-01, -1.59670168e+00,  3.46914186e-01,\n",
       "        1.31523682e-01, -5.70682892e+00, -2.91748209e-01, -5.73133381e+00,\n",
       "        8.32134742e-01,  6.41653240e-01])"
      ]
     },
     "execution_count": 47,
     "metadata": {},
     "output_type": "execute_result"
    }
   ],
   "source": [
    "temp = r2\n",
    "temp"
   ]
  },
  {
   "cell_type": "code",
   "execution_count": 49,
   "id": "664f3e3b",
   "metadata": {},
   "outputs": [
    {
     "name": "stdout",
     "output_type": "stream",
     "text": [
      "['DummyRegressor' 'AdaBoostRegressor' 'BaggingRegressor'\n",
      " 'ExtraTreesRegressor' 'GradientBoostingRegressor' 'RandomForestRegressor'\n",
      " 'histGradientBoostingRegressor' 'LinearRegression' 'Ridge' 'SGDRegressor'\n",
      " 'ElasticNet' 'Lasso' 'ARDRegression' 'BayesianRidge' 'HuberRegressor'\n",
      " 'TheilSenRegressor' 'TweedieRegressor' 'PassiveAggressiveRegressor'\n",
      " 'KNeighborsRegressor' 'LinearSVR' 'DecisionTreeRegressor'\n",
      " 'ExtraTreeRegressor']\n",
      "[-0.08411402  0.09135277  0.89320798  0.90860474  0.30556546  0.90166093\n",
      "  0.52293476  0.37685543  0.376856   -0.          0.19056395  0.30220435\n",
      " -0.08411402  0.37686065 -0.59670168  0.34691419  0.13152368 -0.70682892\n",
      " -0.29174821 -0.73133381  0.83213474  0.64165324]\n"
     ]
    },
    {
     "data": {
      "image/png": "[encoded data removed]",
      "text/plain": [
       "<Figure size 1152x648 with 1 Axes>"
      ]
     },
     "metadata": {
      "needs_background": "light"
     },
     "output_type": "display_data"
    }
   ],
   "source": [
    "# r2.round(1)\n",
    "# r2.divide(10)\n",
    "t = r2\n",
    "temp = np.fmod(t, 1)\n",
    "print(name)\n",
    "print(temp)\n",
    "\n",
    "fig, ax = plt.subplots(figsize =(16, 9))\n",
    " \n",
    "# Horizontal Bar Plot\n",
    "ax.barh(name, temp)\n",
    " \n",
    "# Remove axes splines\n",
    "for s in ['top', 'bottom', 'left', 'right']:\n",
    "    ax.spines[s].set_visible(False)\n",
    "\n",
    "# Remove x, y Ticks\n",
    "ax.xaxis.set_ticks_position('none')\n",
    "ax.yaxis.set_ticks_position('none')\n",
    " \n",
    "# Add padding between axes and labels\n",
    "ax.xaxis.set_tick_params(pad = 5)\n",
    "ax.yaxis.set_tick_params(pad = 10)\n",
    " \n",
    "# Add x, y gridlines\n",
    "# ax.grid(b = True, color ='grey',\n",
    "#         linestyle ='-.', linewidth = 0.5,\n",
    "#         alpha = 0.2)\n",
    " \n",
    "# Show top values\n",
    "ax.invert_yaxis()\n",
    " \n",
    "# Add annotation to bars\n",
    "for i in ax.patches:\n",
    "    plt.text(i.get_width()+0.2, i.get_y()+0.5,\n",
    "             str(round((i.get_width()), 2)),\n",
    "             fontsize = 10, fontweight ='bold')\n",
    "\n",
    "plt.axvline(0.7, color='red', ls='dotted')\n",
    "    \n",
    "# Add Plot Title\n",
    "ax.set_title('Regressor models R-squared scores',\n",
    "             loc ='left', )\n",
    " \n",
    "# Show Plot\n",
    "plt.savefig('regressor-models.png')"
   ]
  },
  {
   "cell_type": "markdown",
   "id": "f0fce897",
   "metadata": {},
   "source": [
    "## Evaluation"
   ]
  },
  {
   "cell_type": "code",
   "execution_count": 70,
   "id": "270dff17",
   "metadata": {},
   "outputs": [],
   "source": [
    "def evaluation(model, param_range, param_name, model_name):\n",
    "    start = time.time()\n",
    "    train_scores, test_scores = validation_curve(\n",
    "        model,\n",
    "        X_train,\n",
    "        y_train,\n",
    "        param_range=param_range,\n",
    "        param_name=param_name\n",
    "    )\n",
    "#     train_scores = [[1.,1.,1.,1.,1.],[1.,1.,1.,1.,1.],[1.,1.,1.,1.,1.],[1.,1.,1.,1.,1.],[1.,1.,1.,1.,1.],[1.,1.,1.,1.,1.]]\n",
    "#     test_scores = [[0.68723291,0.76098983,0.785781,0.7124321 ,0.54128047],[0.9109307,0.94616248,0.93507611,0.92668769,0.83329381],[0.91541874,0.95193483,0.94423849,0.94297929,0.8911218 ],[0.91612034,0.95491317,0.94756716,0.94454123,0.89357759],[0.91856803,0.95019801,0.94581697,0.94142285,0.8892346],[0.92251423,0.95266294,0.945508,0.94311188,0.89363668]]\n",
    "    print(time.time()-start)\n",
    "    print(train_scores)\n",
    "    print(test_scores)\n",
    "    train_scores_mean = np.mean(train_scores, axis=1)\n",
    "    train_scores_std = np.std(train_scores, axis=1)\n",
    "    test_scores_mean = np.mean(test_scores, axis=1)\n",
    "    test_scores_std = np.std(test_scores, axis=1)\n",
    "\n",
    "    plt.title('Validation Curve with ' + model_name)\n",
    "    plt.xlabel(r\"$\\gamma$\")\n",
    "    plt.ylabel(\"Score\")\n",
    "    plt.ylim(0.0, 1.1)\n",
    "    lw = 2\n",
    "    plt.semilogx(\n",
    "        param_range, train_scores_mean, label=\"Training score\", color=\"darkorange\", lw=lw\n",
    "    )\n",
    "    plt.fill_between(\n",
    "        param_range,\n",
    "        train_scores_mean - train_scores_std,\n",
    "        train_scores_mean + train_scores_std,\n",
    "        alpha=0.2,\n",
    "        color=\"darkorange\",\n",
    "        lw=lw,\n",
    "    )\n",
    "    plt.semilogx(\n",
    "        param_range, test_scores_mean, label=\"Cross-validation score\", color=\"navy\", lw=lw\n",
    "    )\n",
    "    plt.fill_between(\n",
    "        param_range,\n",
    "        test_scores_mean - test_scores_std,\n",
    "        test_scores_mean + test_scores_std,\n",
    "        alpha=0.2,\n",
    "        color=\"navy\",\n",
    "        lw=lw,\n",
    "    )\n",
    "    plt.legend(loc=\"best\")\n",
    "    plt.savefig(model_name + '_validation_curve.png')\n",
    "    print(time.time()-start)"
   ]
  },
  {
   "cell_type": "code",
   "execution_count": 107,
   "id": "1c5be041",
   "metadata": {},
   "outputs": [],
   "source": [
    "def correlation(model, model_name):\n",
    "    model.fit(X_train, y_train)\n",
    "\n",
    "    y_pred = model.predict(X_test)\n",
    "\n",
    "    print(f\"    Root Mean Squared Error: {mean_squared_error(y_test, y_pred, squared=False)}\")\n",
    "    print(f\"    Mean Absolute Error: {mean_absolute_error(y_test, y_pred)}\")\n",
    "#     print(f\"y_test = \\n{y_test.iloc[:5]}\")\n",
    "#     print(f\"y_pred = {y_pred[:5]}\")\n",
    "    \n",
    "    \n",
    "    plt.scatter(y_test, y_pred, marker='.')\n",
    "    xymin = min(np.min(y_test), np.min(y_pred))\n",
    "    xymax = max(np.max(y_test), np.max(y_pred))\n",
    "    plt.plot([xymin, xymax],[xymin, xymax], color=\"r\", linestyle=\"--\")\n",
    "    plt.xlabel(\"y_test\")\n",
    "    plt.ylabel(\"y_pred\")\n",
    "    plt.title(model_name)\n",
    "    plt.savefig(model_name + 'correlation.png')"
   ]
  },
  {
   "cell_type": "code",
   "execution_count": 122,
   "id": "ef0f4e51",
   "metadata": {},
   "outputs": [],
   "source": [
    "def kf(model):\n",
    "    kfold = KFold(5, shuffle=True, random_state=2)\n",
    "    mse, mae, r2 = [], [], []\n",
    "    X_np = np.concatenate((X_train.to_numpy(), X_test.to_numpy()))\n",
    "    y_np = np.concatenate((y_train.to_numpy(), y_test.to_numpy()))\n",
    "    for train_idx, test_idx in kfold.split(X_train):\n",
    "        X_train1, X_test1 = X_np[train_idx], X_np[test_idx]\n",
    "        y_train1, y_test1 = y_np[train_idx], y_np[test_idx]\n",
    "\n",
    "        start = time.time()\n",
    "        model.fit(X_train1, y_train1)\n",
    "        print(time.time()-start)\n",
    "\n",
    "        y_pred1 = model.predict(X_test1)\n",
    "\n",
    "        mse += [mean_squared_error(y_pred1, y_test1)]\n",
    "        mae += [mean_absolute_error(y_pred1, y_test1)]\n",
    "        r2 += [r2_score(y_pred1, y_test1)]\n",
    "\n",
    "    print(\"mean_squared_error\")\n",
    "    print(\"mean: %.5f\" % np.mean(mse))\n",
    "    print(\"std: %.5f\" %  np.std(mse))\n",
    "    print(\"mean_absolute_error\")\n",
    "    print(\"mean: %.5f\" % np.mean(mae))\n",
    "    print(\"std: %.5f\" %  np.std(mae))\n",
    "    print(\"r2\")\n",
    "    print(\"mean: %.5f\" % np.mean(r2))\n",
    "    print(\"std: %.5f\" %  np.std(r2))"
   ]
  },
  {
   "cell_type": "markdown",
   "id": "fbbcf194",
   "metadata": {},
   "source": [
    "###  ExtraTreesRegressor"
   ]
  },
  {
   "cell_type": "code",
   "execution_count": 69,
   "id": "86fae728",
   "metadata": {},
   "outputs": [
    {
     "name": "stdout",
     "output_type": "stream",
     "text": [
      "3.0994415283203125e-06\n",
      "[[1.0, 1.0, 1.0, 1.0, 1.0], [1.0, 1.0, 1.0, 1.0, 1.0], [1.0, 1.0, 1.0, 1.0, 1.0], [1.0, 1.0, 1.0, 1.0, 1.0], [1.0, 1.0, 1.0, 1.0, 1.0], [1.0, 1.0, 1.0, 1.0, 1.0]]\n",
      "[[0.68723291, 0.76098983, 0.785781, 0.7124321, 0.54128047], [0.9109307, 0.94616248, 0.93507611, 0.92668769, 0.83329381], [0.91541874, 0.95193483, 0.94423849, 0.94297929, 0.8911218], [0.91612034, 0.95491317, 0.94756716, 0.94454123, 0.89357759], [0.91856803, 0.95019801, 0.94581697, 0.94142285, 0.8892346], [0.92251423, 0.95266294, 0.945508, 0.94311188, 0.89363668]]\n",
      "0.30000782012939453\n"
     ]
    },
    {
     "data": {
      "image/png": "[encoded data removed]",
      "text/plain": [
       "<Figure size 432x288 with 1 Axes>"
      ]
     },
     "metadata": {
      "needs_background": "light"
     },
     "output_type": "display_data"
    }
   ],
   "source": [
    "evaluation(ExtraTreesRegressor(), [1, 10, 100, 200, 500, 1000], 'n_estimators', 'ExtraTreesRegressor')"
   ]
  },
  {
   "cell_type": "code",
   "execution_count": 110,
   "id": "c4d9f56a",
   "metadata": {},
   "outputs": [
    {
     "name": "stdout",
     "output_type": "stream",
     "text": [
      "    Root Mean Squared Error: 164.58014175393083\n",
      "    Mean Absolute Error: 120.0134716796587\n"
     ]
    },
    {
     "data": {
      "image/png": "[encoded data removed]",
      "text/plain": [
       "<Figure size 432x288 with 1 Axes>"
      ]
     },
     "metadata": {
      "needs_background": "light"
     },
     "output_type": "display_data"
    }
   ],
   "source": [
    "correlation(ExtraTreesRegressor(n_estimators=100), 'ExtraTreesRegressor')"
   ]
  },
  {
   "cell_type": "code",
   "execution_count": 123,
   "id": "de35611a",
   "metadata": {},
   "outputs": [
    {
     "name": "stdout",
     "output_type": "stream",
     "text": [
      "206.64117193222046\n",
      "193.325581073761\n",
      "197.1453559398651\n",
      "205.0211079120636\n",
      "223.36829113960266\n",
      "mean_squared_error\n",
      "mean: 15128.42455\n",
      "std: 757.72866\n",
      "mean_absolute_error\n",
      "mean: 60.22658\n",
      "std: 1.16351\n",
      "r2\n",
      "mean: 0.94799\n",
      "std: 0.00256\n"
     ]
    }
   ],
   "source": [
    "kf(ExtraTreesRegressor(n_estimators=100))"
   ]
  },
  {
   "cell_type": "markdown",
   "id": "7b08458d",
   "metadata": {},
   "source": [
    "### RandomForestRegressor"
   ]
  },
  {
   "cell_type": "code",
   "execution_count": 71,
   "id": "760c31c3",
   "metadata": {},
   "outputs": [
    {
     "name": "stdout",
     "output_type": "stream",
     "text": [
      "9284.282412052155\n",
      "[[0.99253181 0.99284517 0.99267509 0.9913916  0.99335017]\n",
      " [0.99860912 0.9986432  0.99832521 0.99849494 0.99867935]\n",
      " [0.99917257 0.99926973 0.99910455 0.99914145 0.99926584]\n",
      " [0.99923023 0.99930313 0.99912816 0.99919325 0.99930753]\n",
      " [0.99925239 0.99931801 0.99916399 0.99922603 0.99931341]\n",
      " [0.99926077 0.99933221 0.99916217 0.99922806 0.99932468]]\n",
      "[[0.79679455 0.81252966 0.85427859 0.76853371 0.41210425]\n",
      " [0.89474168 0.90978731 0.94272735 0.92537622 0.83298045]\n",
      " [0.85433315 0.94599142 0.9570775  0.92601692 0.8769475 ]\n",
      " [0.8611337  0.94409687 0.95012935 0.92655926 0.87909595]\n",
      " [0.8611414  0.94121177 0.95369414 0.92740434 0.87995412]\n",
      " [0.86858275 0.94352145 0.95569434 0.92928758 0.8773296 ]]\n",
      "9285.133231163025\n"
     ]
    },
    {
     "data": {
      "image/png": "[encoded data removed]",
      "text/plain": [
       "<Figure size 432x288 with 1 Axes>"
      ]
     },
     "metadata": {
      "needs_background": "light"
     },
     "output_type": "display_data"
    }
   ],
   "source": [
    "evaluation(RandomForestRegressor(), [1, 10, 100, 200, 500, 1000], 'n_estimators', 'RandomForestRegressor')"
   ]
  },
  {
   "cell_type": "code",
   "execution_count": 112,
   "id": "9ba314c4",
   "metadata": {},
   "outputs": [
    {
     "name": "stdout",
     "output_type": "stream",
     "text": [
      "    Root Mean Squared Error: 172.36227946275093\n",
      "    Mean Absolute Error: 116.18142063569634\n"
     ]
    },
    {
     "data": {
      "image/png": "[encoded data removed]",
      "text/plain": [
       "<Figure size 432x288 with 1 Axes>"
      ]
     },
     "metadata": {
      "needs_background": "light"
     },
     "output_type": "display_data"
    }
   ],
   "source": [
    "correlation(RandomForestRegressor(n_estimators=100), 'RandomForestRegressor')"
   ]
  },
  {
   "cell_type": "code",
   "execution_count": 124,
   "id": "38a44f97",
   "metadata": {},
   "outputs": [
    {
     "name": "stdout",
     "output_type": "stream",
     "text": [
      "153.4017481803894\n",
      "151.90275502204895\n",
      "147.20388317108154\n",
      "148.1138949394226\n",
      "147.92357873916626\n",
      "mean_squared_error\n",
      "mean: 2517.68171\n",
      "std: 148.56248\n",
      "mean_absolute_error\n",
      "mean: 25.34104\n",
      "std: 0.26383\n",
      "r2\n",
      "mean: 0.99211\n",
      "std: 0.00042\n"
     ]
    }
   ],
   "source": [
    "kf(RandomForestRegressor(n_estimators=100))"
   ]
  },
  {
   "cell_type": "markdown",
   "id": "05fcc8e9",
   "metadata": {},
   "source": [
    "## DecisionTreeRegressor"
   ]
  },
  {
   "cell_type": "code",
   "execution_count": 73,
   "id": "66d8c871",
   "metadata": {},
   "outputs": [
    {
     "name": "stdout",
     "output_type": "stream",
     "text": [
      "1338.377622127533\n",
      "[[1.         1.         1.         1.         1.        ]\n",
      " [0.99281199 0.99293641 0.99288603 0.9926144  0.99296968]\n",
      " [0.96582005 0.96285301 0.96235531 0.96260729 0.96707986]\n",
      " [0.74150035 0.70369937 0.69162183 0.7120898  0.75945953]\n",
      " [0.59401459 0.48994163 0.47458242 0.52604456 0.58190078]\n",
      " [0.37030335 0.32181421 0.30535862 0.3106847  0.34260203]]\n",
      "[[0.74880859 0.83570521 0.85424702 0.85396954 0.70239129]\n",
      " [0.75172422 0.84360008 0.85325392 0.85633463 0.66542279]\n",
      " [0.7455243  0.82561657 0.77640576 0.83090969 0.61479131]\n",
      " [0.53249991 0.60477042 0.64879989 0.64196611 0.50596502]\n",
      " [0.41362157 0.4304949  0.49664932 0.52425083 0.37330386]\n",
      " [0.25950801 0.28689902 0.31546751 0.32745563 0.22603135]]\n",
      "1338.9401710033417\n"
     ]
    },
    {
     "data": {
      "image/png": "[encoded data removed]",
      "text/plain": [
       "<Figure size 432x288 with 1 Axes>"
      ]
     },
     "metadata": {
      "needs_background": "light"
     },
     "output_type": "display_data"
    }
   ],
   "source": [
    "evaluation(DecisionTreeRegressor(), [0.0, 1.0, 10.0, 100.0, 200.0, 500.0], 'ccp_alpha', 'DecisionTreeRegressor')"
   ]
  },
  {
   "cell_type": "code",
   "execution_count": 114,
   "id": "3dad0139",
   "metadata": {},
   "outputs": [
    {
     "name": "stdout",
     "output_type": "stream",
     "text": [
      "    Root Mean Squared Error: 220.9092347545669\n",
      "    Mean Absolute Error: 117.38292606217419\n"
     ]
    },
    {
     "data": {
      "image/png": "[encoded data removed]",
      "text/plain": [
       "<Figure size 432x288 with 1 Axes>"
      ]
     },
     "metadata": {
      "needs_background": "light"
     },
     "output_type": "display_data"
    }
   ],
   "source": [
    "correlation(DecisionTreeRegressor(), 'DecisionTreeRegressor')"
   ]
  },
  {
   "cell_type": "code",
   "execution_count": 125,
   "id": "fdb22173",
   "metadata": {},
   "outputs": [
    {
     "name": "stdout",
     "output_type": "stream",
     "text": [
      "2.3809051513671875\n",
      "2.4363491535186768\n",
      "2.264845132827759\n",
      "2.3755221366882324\n",
      "2.413304090499878\n",
      "mean_squared_error\n",
      "mean: 3768.24173\n",
      "std: 217.51809\n",
      "mean_absolute_error\n",
      "mean: 26.90399\n",
      "std: 0.31530\n",
      "r2\n",
      "mean: 0.98849\n",
      "std: 0.00069\n"
     ]
    }
   ],
   "source": [
    "kf(DecisionTreeRegressor())"
   ]
  },
  {
   "cell_type": "code",
   "execution_count": 90,
   "id": "e6746e3c",
   "metadata": {},
   "outputs": [
    {
     "name": "stdout",
     "output_type": "stream",
     "text": [
      "197.09012079238892\n",
      "200.2691900730133\n",
      "198.1836678981781\n",
      "200.24640011787415\n",
      "192.31037282943726\n",
      "f1\n",
      "mean: 0.94753\n",
      "std: 0.00322\n"
     ]
    }
   ],
   "source": [
    "kfold = KFold(5, shuffle=True, random_state=2)\n",
    "prec, rec, f1 = [], [], []\n",
    "X_train_np = X_train.to_numpy()\n",
    "y_train_np = y_train.to_numpy()\n",
    "for train_idx, test_idx in kfold.split(X_train):\n",
    "    X_train1, X_test1 = X_train_np[train_idx], X_train_np[test_idx]\n",
    "    y_train1, y_test1 = y_train_np[train_idx], y_train_np[test_idx]\n",
    "    \n",
    "#     mlp_clf = MLPClassifier(hidden_layer_sizes=(20, 20), max_iter=1000, solver='lbfgs', activation='relu')\n",
    "#     X_scaler = MinMaxScaler()\n",
    "    tree = ExtraTreesRegressor()\n",
    "    \n",
    "#     X_train = X_scaler.fit_transform(X_train1)\n",
    "    start = time.time()\n",
    "    tree.fit(X_train1, y_train1)\n",
    "    print(time.time()-start)\n",
    "    \n",
    "#     X_test1 = X_scaler.fit_transform(X_test1)\n",
    "    y_pred1 = tree.predict(X_test1)\n",
    "    \n",
    "#     rec += [recall_score(y_pred1, y_test1, average='weighted')]\n",
    "#     prec += [precision_score(y_pred1, y_test1, average='weighted')]\n",
    "    f1 += [r2_score(y_pred1, y_test1)]\n",
    "    \n",
    "# print(\"recall\")\n",
    "# print(\"mean: %.5f\" % np.mean(rec))\n",
    "# print(\"std: %.5f\" %  np.std(rec))\n",
    "# print(\"precision\")\n",
    "# print(\"mean: %.5f\" % np.mean(prec))\n",
    "# print(\"std: %.5f\" %  np.std(prec))\n",
    "print(\"f1\")\n",
    "print(\"mean: %.5f\" % np.mean(f1))\n",
    "print(\"std: %.5f\" %  np.std(f1))"
   ]
  },
  {
   "cell_type": "code",
   "execution_count": null,
   "id": "83181a7c",
   "metadata": {},
   "outputs": [],
   "source": []
  },
  {
   "cell_type": "code",
   "execution_count": null,
   "id": "40a1c306",
   "metadata": {},
   "outputs": [],
   "source": []
  }
 ],
 "metadata": {
  "kernelspec": {
   "display_name": "Python 3 (ipykernel)",
   "language": "python",
   "name": "python3"
  },
  "language_info": {
   "codemirror_mode": {
    "name": "ipython",
    "version": 3
   },
   "file_extension": ".py",
   "mimetype": "text/x-python",
   "name": "python",
   "nbconvert_exporter": "python",
   "pygments_lexer": "ipython3",
   "version": "3.9.12"
  }
 },
 "nbformat": 4,
 "nbformat_minor": 5
}
