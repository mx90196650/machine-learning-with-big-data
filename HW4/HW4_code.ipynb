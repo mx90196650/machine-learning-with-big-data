{
 "cells": [
  {
   "cell_type": "code",
   "execution_count": 120,
   "id": "3655739c",
   "metadata": {},
   "outputs": [],
   "source": [
    "%matplotlib inline\n",
    "from matplotlib import pyplot as plt\n",
    "import pandas as pd\n",
    "import numpy as np\n",
    "import sklearn\n",
    "from sklearn import model_selection\n",
    "from sklearn import preprocessing\n",
    "from sklearn import neural_network\n",
    "from sklearn import metrics\n",
    "import time"
   ]
  },
  {
   "cell_type": "code",
   "execution_count": 96,
   "id": "f26c38a1",
   "metadata": {},
   "outputs": [
    {
     "data": {
      "text/html": [
       "<div>\n",
       "<style scoped>\n",
       "    .dataframe tbody tr th:only-of-type {\n",
       "        vertical-align: middle;\n",
       "    }\n",
       "\n",
       "    .dataframe tbody tr th {\n",
       "        vertical-align: top;\n",
       "    }\n",
       "\n",
       "    .dataframe thead th {\n",
       "        text-align: right;\n",
       "    }\n",
       "</style>\n",
       "<table border=\"1\" class=\"dataframe\">\n",
       "  <thead>\n",
       "    <tr style=\"text-align: right;\">\n",
       "      <th></th>\n",
       "      <th>label</th>\n",
       "      <th>0x0</th>\n",
       "      <th>0x1</th>\n",
       "      <th>0x2</th>\n",
       "      <th>0x3</th>\n",
       "      <th>0x4</th>\n",
       "      <th>0x5</th>\n",
       "      <th>0x6</th>\n",
       "      <th>0x7</th>\n",
       "      <th>0x8</th>\n",
       "      <th>...</th>\n",
       "      <th>13x4</th>\n",
       "      <th>13x5</th>\n",
       "      <th>13x6</th>\n",
       "      <th>13x7</th>\n",
       "      <th>13x8</th>\n",
       "      <th>13x9</th>\n",
       "      <th>13x10</th>\n",
       "      <th>13x11</th>\n",
       "      <th>13x12</th>\n",
       "      <th>13x13</th>\n",
       "    </tr>\n",
       "  </thead>\n",
       "  <tbody>\n",
       "    <tr>\n",
       "      <th>0</th>\n",
       "      <td>7</td>\n",
       "      <td>0</td>\n",
       "      <td>0</td>\n",
       "      <td>0</td>\n",
       "      <td>0</td>\n",
       "      <td>0</td>\n",
       "      <td>0</td>\n",
       "      <td>0</td>\n",
       "      <td>0</td>\n",
       "      <td>0</td>\n",
       "      <td>...</td>\n",
       "      <td>0</td>\n",
       "      <td>0</td>\n",
       "      <td>41</td>\n",
       "      <td>88</td>\n",
       "      <td>3</td>\n",
       "      <td>0</td>\n",
       "      <td>0</td>\n",
       "      <td>0</td>\n",
       "      <td>0</td>\n",
       "      <td>0</td>\n",
       "    </tr>\n",
       "    <tr>\n",
       "      <th>1</th>\n",
       "      <td>3</td>\n",
       "      <td>0</td>\n",
       "      <td>0</td>\n",
       "      <td>0</td>\n",
       "      <td>0</td>\n",
       "      <td>0</td>\n",
       "      <td>0</td>\n",
       "      <td>0</td>\n",
       "      <td>0</td>\n",
       "      <td>0</td>\n",
       "      <td>...</td>\n",
       "      <td>0</td>\n",
       "      <td>0</td>\n",
       "      <td>0</td>\n",
       "      <td>0</td>\n",
       "      <td>0</td>\n",
       "      <td>0</td>\n",
       "      <td>0</td>\n",
       "      <td>0</td>\n",
       "      <td>0</td>\n",
       "      <td>0</td>\n",
       "    </tr>\n",
       "    <tr>\n",
       "      <th>2</th>\n",
       "      <td>8</td>\n",
       "      <td>0</td>\n",
       "      <td>0</td>\n",
       "      <td>0</td>\n",
       "      <td>0</td>\n",
       "      <td>0</td>\n",
       "      <td>0</td>\n",
       "      <td>0</td>\n",
       "      <td>0</td>\n",
       "      <td>0</td>\n",
       "      <td>...</td>\n",
       "      <td>0</td>\n",
       "      <td>0</td>\n",
       "      <td>0</td>\n",
       "      <td>0</td>\n",
       "      <td>0</td>\n",
       "      <td>0</td>\n",
       "      <td>0</td>\n",
       "      <td>0</td>\n",
       "      <td>0</td>\n",
       "      <td>0</td>\n",
       "    </tr>\n",
       "    <tr>\n",
       "      <th>3</th>\n",
       "      <td>9</td>\n",
       "      <td>0</td>\n",
       "      <td>0</td>\n",
       "      <td>0</td>\n",
       "      <td>0</td>\n",
       "      <td>0</td>\n",
       "      <td>0</td>\n",
       "      <td>0</td>\n",
       "      <td>0</td>\n",
       "      <td>0</td>\n",
       "      <td>...</td>\n",
       "      <td>0</td>\n",
       "      <td>0</td>\n",
       "      <td>0</td>\n",
       "      <td>0</td>\n",
       "      <td>0</td>\n",
       "      <td>0</td>\n",
       "      <td>0</td>\n",
       "      <td>0</td>\n",
       "      <td>0</td>\n",
       "      <td>0</td>\n",
       "    </tr>\n",
       "    <tr>\n",
       "      <th>4</th>\n",
       "      <td>3</td>\n",
       "      <td>0</td>\n",
       "      <td>0</td>\n",
       "      <td>0</td>\n",
       "      <td>0</td>\n",
       "      <td>0</td>\n",
       "      <td>0</td>\n",
       "      <td>0</td>\n",
       "      <td>0</td>\n",
       "      <td>0</td>\n",
       "      <td>...</td>\n",
       "      <td>0</td>\n",
       "      <td>0</td>\n",
       "      <td>0</td>\n",
       "      <td>0</td>\n",
       "      <td>0</td>\n",
       "      <td>0</td>\n",
       "      <td>0</td>\n",
       "      <td>0</td>\n",
       "      <td>0</td>\n",
       "      <td>0</td>\n",
       "    </tr>\n",
       "  </tbody>\n",
       "</table>\n",
       "<p>5 rows × 197 columns</p>\n",
       "</div>"
      ],
      "text/plain": [
       "   label  0x0  0x1  0x2  0x3  0x4  0x5  0x6  0x7  0x8  ...  13x4  13x5  13x6  \\\n",
       "0      7    0    0    0    0    0    0    0    0    0  ...     0     0    41   \n",
       "1      3    0    0    0    0    0    0    0    0    0  ...     0     0     0   \n",
       "2      8    0    0    0    0    0    0    0    0    0  ...     0     0     0   \n",
       "3      9    0    0    0    0    0    0    0    0    0  ...     0     0     0   \n",
       "4      3    0    0    0    0    0    0    0    0    0  ...     0     0     0   \n",
       "\n",
       "   13x7  13x8  13x9  13x10  13x11  13x12  13x13  \n",
       "0    88     3     0      0      0      0      0  \n",
       "1     0     0     0      0      0      0      0  \n",
       "2     0     0     0      0      0      0      0  \n",
       "3     0     0     0      0      0      0      0  \n",
       "4     0     0     0      0      0      0      0  \n",
       "\n",
       "[5 rows x 197 columns]"
      ]
     },
     "execution_count": 96,
     "metadata": {},
     "output_type": "execute_result"
    }
   ],
   "source": [
    "df = pd.read_csv(\"digits.csv\")\n",
    "X = df.iloc[:, 1:].values\n",
    "y = df[\"label\"].values\n",
    "df.head()"
   ]
  },
  {
   "cell_type": "code",
   "execution_count": 97,
   "id": "d16f4872",
   "metadata": {},
   "outputs": [
    {
     "data": {
      "image/png": "[encoded data removed]",
      "text/plain": [
       "<Figure size 1152x576 with 10 Axes>"
      ]
     },
     "metadata": {
      "needs_background": "light"
     },
     "output_type": "display_data"
    }
   ],
   "source": [
    "fig = plt.figure(figsize=(16,8))\n",
    "for i in range(10):\n",
    "    for j in range(y.shape[0]):\n",
    "        if y[j] == i:\n",
    "            ax = fig.add_subplot(2, 5, i+1)\n",
    "            ax.imshow(X[i].reshape(14,14), cmap=plt.cm.gray_r)\n",
    "            break"
   ]
  },
  {
   "cell_type": "code",
   "execution_count": 116,
   "id": "0f68d182",
   "metadata": {},
   "outputs": [],
   "source": [
    "def evaluate_MLP(X, y, act, layers):\n",
    "    kf = model_selection.KFold(n_splits=5, shuffle=True, random_state=10)\n",
    "        \n",
    "    f1 = []\n",
    "    precision = []\n",
    "    recall = []\n",
    "    for train_index, test_index in kf.split(X):    \n",
    "        X_train, X_test = X[train_index], X[test_index]\n",
    "        y_train, y_test = y[train_index], y[test_index]\n",
    "        \n",
    "        X_scaler = preprocessing.MinMaxScaler()\n",
    "        X_train = X_scaler.fit_transform(X_train)\n",
    "        \n",
    "        model = neural_network.MLPClassifier(activation=act, hidden_layer_sizes=layers, \n",
    "                                                     max_iter=1000, solver='lbfgs')\n",
    "\n",
    "        model.fit(X_train, y_train)\n",
    "        \n",
    "        X_test = X_scaler.fit_transform(X_test)\n",
    "        y_pred = model.predict(X_test)\n",
    "        \n",
    "        f1 += [metrics.f1_score(y_test, y_pred, average=\"macro\")]\n",
    "        precision += [metrics.precision_score(y_test, y_pred, average=\"macro\")]\n",
    "        recall += [metrics.recall_score(y_test, y_pred, average=\"macro\")]\n",
    "        \n",
    "    print(f\"    average precision: {np.mean(precision)}\")\n",
    "    print(f\"    average recall: {np.mean(recall)}\")\n",
    "    print(f\"    average f1: {np.mean(f1)}\")\n",
    "    \n",
    "    "
   ]
  },
  {
   "cell_type": "code",
   "execution_count": 117,
   "id": "4c60ec0d",
   "metadata": {},
   "outputs": [
    {
     "name": "stdout",
     "output_type": "stream",
     "text": [
      "2 hidden layers with 20 nodes in each layer (tanh):\n",
      "    average precision: 0.9106658037975757\n",
      "    average recall: 0.9115658765070547\n",
      "    average f1: 0.91064233916888\n",
      "2 hidden layers with 20 nodes in each layer (relu):\n",
      "    average precision: 0.912466422241321\n",
      "    average recall: 0.9137384196119754\n",
      "    average f1: 0.912759966210054\n",
      "2 hidden layers with 100 nodes in each layer (tanh):\n",
      "    average precision: 0.9322908206052112\n",
      "    average recall: 0.9328697860884881\n",
      "    average f1: 0.932241432045546\n",
      "2 hidden layers with 100 nodes in each layer (relu):\n",
      "    average precision: 0.9308059706827552\n",
      "    average recall: 0.9311434753849193\n",
      "    average f1: 0.9307237587781637\n",
      "5 hidden layers with 20 nodes in each layer (tanh):\n",
      "    average precision: 0.9131351566519479\n",
      "    average recall: 0.9126839688480978\n",
      "    average f1: 0.9123449246143605\n",
      "5 hidden layers with 20 nodes in each layer (relu):\n"
     ]
    },
    {
     "name": "stderr",
     "output_type": "stream",
     "text": [
      "/Users/laynelmoon/opt/anaconda3/lib/python3.9/site-packages/sklearn/neural_network/_multilayer_perceptron.py:549: ConvergenceWarning: lbfgs failed to converge (status=1):\n",
      "STOP: TOTAL NO. of ITERATIONS REACHED LIMIT.\n",
      "\n",
      "Increase the number of iterations (max_iter) or scale the data as shown in:\n",
      "    https://scikit-learn.org/stable/modules/preprocessing.html\n",
      "  self.n_iter_ = _check_optimize_result(\"lbfgs\", opt_res, self.max_iter)\n"
     ]
    },
    {
     "name": "stdout",
     "output_type": "stream",
     "text": [
      "    average precision: 0.9010229801118845\n",
      "    average recall: 0.901330321622982\n",
      "    average f1: 0.9007676900958488\n",
      "5 hidden layers with 100 nodes in each layer (tanh):\n",
      "    average precision: 0.9344247023657696\n",
      "    average recall: 0.9349873504314473\n",
      "    average f1: 0.9344048671532198\n",
      "5 hidden layers with 100 nodes in each layer (relu):\n",
      "    average precision: 0.9366138928193617\n",
      "    average recall: 0.9363299675648171\n",
      "    average f1: 0.9361638953267309\n"
     ]
    }
   ],
   "source": [
    "print(\"2 hidden layers with 20 nodes in each layer (tanh):\")\n",
    "evaluate_MLP(X, y, \"tanh\", (20,20))\n",
    "print(\"2 hidden layers with 20 nodes in each layer (relu):\")\n",
    "evaluate_MLP(X, y, \"relu\", (20,20))\n",
    "print(\"2 hidden layers with 100 nodes in each layer (tanh):\")\n",
    "evaluate_MLP(X, y, \"tanh\", (100,100))\n",
    "print(\"2 hidden layers with 100 nodes in each layer (relu):\")\n",
    "evaluate_MLP(X, y, \"relu\", (100,100))\n",
    "print(\"5 hidden layers with 20 nodes in each layer (tanh):\")\n",
    "evaluate_MLP(X, y, \"tanh\", (20, 20, 20, 20, 20))\n",
    "print(\"5 hidden layers with 20 nodes in each layer (relu):\")\n",
    "evaluate_MLP(X, y, \"relu\", (20, 20, 20, 20, 20))\n",
    "print(\"5 hidden layers with 100 nodes in each layer (tanh):\")\n",
    "evaluate_MLP(X, y, \"tanh\", (100, 100, 100, 100, 100))\n",
    "print(\"5 hidden layers with 100 nodes in each layer (relu):\")\n",
    "evaluate_MLP(X, y, \"relu\", (100, 100, 100, 100, 100))"
   ]
  },
  {
   "cell_type": "code",
   "execution_count": 118,
   "id": "43f3e656",
   "metadata": {},
   "outputs": [],
   "source": [
    "def get_train_time(X, y, layers):\n",
    "    kf = model_selection.KFold(n_splits=5, shuffle=True, random_state=10)\n",
    "        \n",
    "    times = []\n",
    "    for train_index, test_index in kf.split(X):    \n",
    "        X_train, X_test = X[train_index], X[test_index]\n",
    "        y_train, y_test = y[train_index], y[test_index]\n",
    "        \n",
    "        X_scaler = preprocessing.MinMaxScaler()\n",
    "        X_train = X_scaler.fit_transform(X_train)\n",
    "        \n",
    "        model = neural_network.MLPClassifier(activation=\"relu\", hidden_layer_sizes=layers, \n",
    "                                                     max_iter=1000, solver='lbfgs')\n",
    "        start = time.time()\n",
    "        model.fit(X_train, y_train)\n",
    "        time_spent = time.time() - start\n",
    "        \n",
    "        X_test = X_scaler.fit_transform(X_test)\n",
    "        y_pred = model.predict(X_test)\n",
    "        \n",
    "        times += [time_spent]\n",
    "        \n",
    "    return np.mean(times)"
   ]
  },
  {
   "cell_type": "code",
   "execution_count": 121,
   "id": "885c32da",
   "metadata": {},
   "outputs": [
    {
     "name": "stdout",
     "output_type": "stream",
     "text": [
      "[1.2561214447021485, 1.6000930309295653, 2.234536075592041, 2.428253507614136, 3.416211986541748]\n"
     ]
    },
    {
     "data": {
      "text/plain": [
       "Text(0, 0.5, 'time spent with 5 folds')"
      ]
     },
     "execution_count": 121,
     "metadata": {},
     "output_type": "execute_result"
    },
    {
     "data": {
      "image/png": "[encoded data removed]",
      "text/plain": [
       "<Figure size 432x288 with 1 Axes>"
      ]
     },
     "metadata": {
      "needs_background": "light"
     },
     "output_type": "display_data"
    }
   ],
   "source": [
    "times = []\n",
    "times += [get_train_time(X, y, (20, 20))]\n",
    "times += [get_train_time(X, y, (40, 40))]\n",
    "times += [get_train_time(X, y, (60, 60))]\n",
    "times += [get_train_time(X, y, (80, 80))]\n",
    "times += [get_train_time(X, y, (100, 100))]\n",
    "print(times)\n",
    "sizes = [20, 40, 60, 80, 100]\n",
    "f = plt.figure()\n",
    "plt.title(\"Time spent for 2 hidden layers with various layer sizes\")\n",
    "plt.plot(sizes, times)\n",
    "plt.xlabel('size of each layer')\n",
    "plt.ylabel('time spent with 5 folds')"
   ]
  },
  {
   "cell_type": "code",
   "execution_count": 122,
   "id": "b57761e8",
   "metadata": {},
   "outputs": [
    {
     "data": {
      "text/plain": [
       "Text(0, 0.5, 'time spent with 5 folds')"
      ]
     },
     "execution_count": 122,
     "metadata": {},
     "output_type": "execute_result"
    },
    {
     "data": {
      "image/png": "[encoded data removed]",
      "text/plain": [
       "<Figure size 432x288 with 1 Axes>"
      ]
     },
     "metadata": {
      "needs_background": "light"
     },
     "output_type": "display_data"
    }
   ],
   "source": [
    "times = []\n",
    "times += [get_train_time(X, y, (20))]\n",
    "times += [get_train_time(X, y, (20, 20))]\n",
    "times += [get_train_time(X, y, (20, 20, 20))]\n",
    "times += [get_train_time(X, y, (20, 20, 20, 20))]\n",
    "times += [get_train_time(X, y, (20, 20, 20, 20, 20))]\n",
    "layers = [1, 2, 3, 4, 5]\n",
    "f = plt.figure()\n",
    "plt.title(\"Time spent for 20 nodes in various layer numbers\")\n",
    "plt.plot(layers, times)\n",
    "plt.xlabel('number of layers')\n",
    "plt.ylabel('time spent with 5 folds')"
   ]
  },
  {
   "cell_type": "code",
   "execution_count": null,
   "id": "082ebbfd",
   "metadata": {},
   "outputs": [],
   "source": []
  },
  {
   "cell_type": "code",
   "execution_count": null,
   "id": "bfd70fee",
   "metadata": {},
   "outputs": [],
   "source": []
  },
  {
   "cell_type": "code",
   "execution_count": null,
   "id": "3c0743d3",
   "metadata": {},
   "outputs": [],
   "source": []
  },
  {
   "cell_type": "code",
   "execution_count": null,
   "id": "6e4cf62d",
   "metadata": {},
   "outputs": [],
   "source": []
  },
  {
   "cell_type": "code",
   "execution_count": null,
   "id": "9c5f4298",
   "metadata": {},
   "outputs": [],
   "source": []
  },
  {
   "cell_type": "code",
   "execution_count": null,
   "id": "6f8f6ff5",
   "metadata": {},
   "outputs": [],
   "source": []
  },
  {
   "cell_type": "code",
   "execution_count": null,
   "id": "4f3683b3",
   "metadata": {},
   "outputs": [],
   "source": []
  },
  {
   "cell_type": "code",
   "execution_count": null,
   "id": "710b7c93",
   "metadata": {},
   "outputs": [],
   "source": []
  },
  {
   "cell_type": "code",
   "execution_count": null,
   "id": "f9d99525",
   "metadata": {},
   "outputs": [],
   "source": []
  }
 ],
 "metadata": {
  "kernelspec": {
   "display_name": "Python 3 (ipykernel)",
   "language": "python",
   "name": "python3"
  },
  "language_info": {
   "codemirror_mode": {
    "name": "ipython",
    "version": 3
   },
   "file_extension": ".py",
   "mimetype": "text/x-python",
   "name": "python",
   "nbconvert_exporter": "python",
   "pygments_lexer": "ipython3",
   "version": "3.9.12"
  }
 },
 "nbformat": 4,
 "nbformat_minor": 5
}
